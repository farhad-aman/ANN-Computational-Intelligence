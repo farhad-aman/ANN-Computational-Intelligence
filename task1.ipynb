{
 "cells": [
  {
   "cell_type": "code",
   "execution_count": 1,
   "metadata": {
    "collapsed": true,
    "ExecuteTime": {
     "end_time": "2023-06-05T13:23:53.558556Z",
     "start_time": "2023-06-05T13:23:52.156765Z"
    }
   },
   "outputs": [],
   "source": [
    "import pandas as pd\n",
    "import numpy as np\n",
    "from sklearn.preprocessing import StandardScaler\n",
    "from layers.fullyconnected import FC\n",
    "from activations import ReLU,LinearActivation\n",
    "from losses.meansquarederror import MeanSquaredError\n",
    "from optimizers.adam import Adam\n",
    "from model import Model"
   ]
  },
  {
   "cell_type": "code",
   "execution_count": 2,
   "outputs": [],
   "source": [
    "train_data = pd.read_csv('datasets/california_houses_price/california_housing_train.csv')\n",
    "test_data = pd.read_csv('datasets/california_houses_price/california_housing_test.csv')"
   ],
   "metadata": {
    "collapsed": false,
    "ExecuteTime": {
     "end_time": "2023-06-05T13:23:53.711686Z",
     "start_time": "2023-06-05T13:23:53.559234Z"
    }
   }
  },
  {
   "cell_type": "code",
   "execution_count": 3,
   "outputs": [
    {
     "data": {
      "text/plain": "(17000, 1)"
     },
     "execution_count": 3,
     "metadata": {},
     "output_type": "execute_result"
    }
   ],
   "source": [
    "features = train_data[:]\n",
    "scaler = StandardScaler()\n",
    "normalized_data= scaler.fit_transform(features)\n",
    "normalized_data = pd.DataFrame(normalized_data)\n",
    "X=normalized_data.iloc[:,0:8].values\n",
    "y = normalized_data.iloc[:,8].to_frame()\n",
    "arr = y.values\n",
    "y =  arr.reshape(-1,1)\n",
    "y.shape"
   ],
   "metadata": {
    "collapsed": false,
    "ExecuteTime": {
     "end_time": "2023-06-05T13:23:53.712089Z",
     "start_time": "2023-06-05T13:23:53.709464Z"
    }
   }
  },
  {
   "cell_type": "code",
   "execution_count": 4,
   "outputs": [
    {
     "name": "stderr",
     "output_type": "stream",
     "text": [
      "  0%|          | 10/2000 [00:03<10:49,  3.06it/s]"
     ]
    },
    {
     "name": "stdout",
     "output_type": "stream",
     "text": [
      "Epoch 10: train cost = 19.510323624810642\n"
     ]
    },
    {
     "name": "stderr",
     "output_type": "stream",
     "text": [
      "  1%|          | 20/2000 [00:05<04:53,  6.76it/s]"
     ]
    },
    {
     "name": "stdout",
     "output_type": "stream",
     "text": [
      "Epoch 20: train cost = 10.54238218818457\n"
     ]
    },
    {
     "name": "stderr",
     "output_type": "stream",
     "text": [
      "  2%|▏         | 31/2000 [00:06<04:47,  6.85it/s]"
     ]
    },
    {
     "name": "stdout",
     "output_type": "stream",
     "text": [
      "Epoch 30: train cost = 7.13816325226302\n"
     ]
    },
    {
     "name": "stderr",
     "output_type": "stream",
     "text": [
      "  2%|▏         | 41/2000 [00:08<04:34,  7.13it/s]"
     ]
    },
    {
     "name": "stdout",
     "output_type": "stream",
     "text": [
      "Epoch 40: train cost = 5.273753168918193\n"
     ]
    },
    {
     "name": "stderr",
     "output_type": "stream",
     "text": [
      "  3%|▎         | 51/2000 [00:09<04:23,  7.40it/s]"
     ]
    },
    {
     "name": "stdout",
     "output_type": "stream",
     "text": [
      "Epoch 50: train cost = 4.00237946269244\n"
     ]
    },
    {
     "name": "stderr",
     "output_type": "stream",
     "text": [
      "  3%|▎         | 61/2000 [00:11<05:14,  6.16it/s]"
     ]
    },
    {
     "name": "stdout",
     "output_type": "stream",
     "text": [
      "Epoch 60: train cost = 3.05146315846443\n"
     ]
    },
    {
     "name": "stderr",
     "output_type": "stream",
     "text": [
      "  4%|▎         | 71/2000 [00:13<04:37,  6.94it/s]"
     ]
    },
    {
     "name": "stdout",
     "output_type": "stream",
     "text": [
      "Epoch 70: train cost = 2.3215416152331234\n"
     ]
    },
    {
     "name": "stderr",
     "output_type": "stream",
     "text": [
      "  4%|▍         | 81/2000 [00:14<04:00,  7.97it/s]"
     ]
    },
    {
     "name": "stdout",
     "output_type": "stream",
     "text": [
      "Epoch 80: train cost = 1.7566151863549229\n"
     ]
    },
    {
     "name": "stderr",
     "output_type": "stream",
     "text": [
      "  5%|▍         | 91/2000 [00:15<03:38,  8.73it/s]"
     ]
    },
    {
     "name": "stdout",
     "output_type": "stream",
     "text": [
      "Epoch 90: train cost = 1.2892266604923763\n"
     ]
    },
    {
     "name": "stderr",
     "output_type": "stream",
     "text": [
      "  5%|▌         | 101/2000 [00:17<03:59,  7.93it/s]"
     ]
    },
    {
     "name": "stdout",
     "output_type": "stream",
     "text": [
      "Epoch 100: train cost = 0.9691181613050707\n"
     ]
    },
    {
     "name": "stderr",
     "output_type": "stream",
     "text": [
      "  6%|▌         | 111/2000 [00:19<06:42,  4.69it/s]"
     ]
    },
    {
     "name": "stdout",
     "output_type": "stream",
     "text": [
      "Epoch 110: train cost = 0.7364104738526817\n"
     ]
    },
    {
     "name": "stderr",
     "output_type": "stream",
     "text": [
      "  6%|▌         | 121/2000 [00:20<03:36,  8.68it/s]"
     ]
    },
    {
     "name": "stdout",
     "output_type": "stream",
     "text": [
      "Epoch 120: train cost = 0.5872408927581645\n"
     ]
    },
    {
     "name": "stderr",
     "output_type": "stream",
     "text": [
      "  7%|▋         | 131/2000 [00:22<03:35,  8.67it/s]"
     ]
    },
    {
     "name": "stdout",
     "output_type": "stream",
     "text": [
      "Epoch 130: train cost = 0.4582132408944511\n"
     ]
    },
    {
     "name": "stderr",
     "output_type": "stream",
     "text": [
      "  7%|▋         | 140/2000 [00:23<03:40,  8.45it/s]"
     ]
    },
    {
     "name": "stdout",
     "output_type": "stream",
     "text": [
      "Epoch 140: train cost = 0.3782002921469609\n"
     ]
    },
    {
     "name": "stderr",
     "output_type": "stream",
     "text": [
      "  8%|▊         | 151/2000 [00:26<06:13,  4.95it/s]"
     ]
    },
    {
     "name": "stdout",
     "output_type": "stream",
     "text": [
      "Epoch 150: train cost = 0.3199666184835742\n"
     ]
    },
    {
     "name": "stderr",
     "output_type": "stream",
     "text": [
      "  8%|▊         | 161/2000 [00:27<03:36,  8.48it/s]"
     ]
    },
    {
     "name": "stdout",
     "output_type": "stream",
     "text": [
      "Epoch 160: train cost = 0.27619137910752856\n"
     ]
    },
    {
     "name": "stderr",
     "output_type": "stream",
     "text": [
      "  9%|▊         | 171/2000 [00:29<03:37,  8.42it/s]"
     ]
    },
    {
     "name": "stdout",
     "output_type": "stream",
     "text": [
      "Epoch 170: train cost = 0.24559110860534242\n"
     ]
    },
    {
     "name": "stderr",
     "output_type": "stream",
     "text": [
      "  9%|▉         | 181/2000 [00:30<03:31,  8.61it/s]"
     ]
    },
    {
     "name": "stdout",
     "output_type": "stream",
     "text": [
      "Epoch 180: train cost = 0.2215291756793516\n"
     ]
    },
    {
     "name": "stderr",
     "output_type": "stream",
     "text": [
      " 10%|▉         | 190/2000 [00:32<06:03,  4.98it/s]"
     ]
    },
    {
     "name": "stdout",
     "output_type": "stream",
     "text": [
      "Epoch 190: train cost = 0.20288316741693385\n"
     ]
    },
    {
     "name": "stderr",
     "output_type": "stream",
     "text": [
      " 10%|█         | 201/2000 [00:33<03:40,  8.17it/s]"
     ]
    },
    {
     "name": "stdout",
     "output_type": "stream",
     "text": [
      "Epoch 200: train cost = 0.1925651910903937\n"
     ]
    },
    {
     "name": "stderr",
     "output_type": "stream",
     "text": [
      " 10%|█         | 210/2000 [00:34<03:24,  8.74it/s]"
     ]
    },
    {
     "name": "stdout",
     "output_type": "stream",
     "text": [
      "Epoch 210: train cost = 0.1766735705940259\n"
     ]
    },
    {
     "name": "stderr",
     "output_type": "stream",
     "text": [
      " 11%|█         | 221/2000 [00:36<03:35,  8.24it/s]"
     ]
    },
    {
     "name": "stdout",
     "output_type": "stream",
     "text": [
      "Epoch 220: train cost = 0.16783215614851935\n"
     ]
    },
    {
     "name": "stderr",
     "output_type": "stream",
     "text": [
      " 12%|█▏        | 231/2000 [00:37<03:40,  8.01it/s]"
     ]
    },
    {
     "name": "stdout",
     "output_type": "stream",
     "text": [
      "Epoch 230: train cost = 0.16235767975820567\n"
     ]
    },
    {
     "name": "stderr",
     "output_type": "stream",
     "text": [
      " 12%|█▏        | 241/2000 [00:38<04:01,  7.28it/s]"
     ]
    },
    {
     "name": "stdout",
     "output_type": "stream",
     "text": [
      "Epoch 240: train cost = 0.15462137721172098\n"
     ]
    },
    {
     "name": "stderr",
     "output_type": "stream",
     "text": [
      " 13%|█▎        | 251/2000 [00:40<03:19,  8.77it/s]"
     ]
    },
    {
     "name": "stdout",
     "output_type": "stream",
     "text": [
      "Epoch 250: train cost = 0.14984098181426464\n"
     ]
    },
    {
     "name": "stderr",
     "output_type": "stream",
     "text": [
      " 13%|█▎        | 260/2000 [00:41<03:33,  8.15it/s]"
     ]
    },
    {
     "name": "stdout",
     "output_type": "stream",
     "text": [
      "Epoch 260: train cost = 0.14352249089380323\n"
     ]
    },
    {
     "name": "stderr",
     "output_type": "stream",
     "text": [
      " 14%|█▎        | 270/2000 [00:42<03:42,  7.76it/s]"
     ]
    },
    {
     "name": "stdout",
     "output_type": "stream",
     "text": [
      "Epoch 270: train cost = 0.1481546771619379\n"
     ]
    },
    {
     "name": "stderr",
     "output_type": "stream",
     "text": [
      " 14%|█▍        | 282/2000 [00:43<03:03,  9.34it/s]"
     ]
    },
    {
     "name": "stdout",
     "output_type": "stream",
     "text": [
      "Epoch 280: train cost = 0.13945653371807412\n"
     ]
    },
    {
     "name": "stderr",
     "output_type": "stream",
     "text": [
      " 14%|█▍        | 290/2000 [00:44<03:29,  8.16it/s]"
     ]
    },
    {
     "name": "stdout",
     "output_type": "stream",
     "text": [
      "Epoch 290: train cost = 0.1351072302315288\n"
     ]
    },
    {
     "name": "stderr",
     "output_type": "stream",
     "text": [
      " 15%|█▌        | 300/2000 [00:45<03:09,  8.96it/s]"
     ]
    },
    {
     "name": "stdout",
     "output_type": "stream",
     "text": [
      "Epoch 300: train cost = 0.13703988225911595\n"
     ]
    },
    {
     "name": "stderr",
     "output_type": "stream",
     "text": [
      " 16%|█▌        | 312/2000 [00:47<03:04,  9.16it/s]"
     ]
    },
    {
     "name": "stdout",
     "output_type": "stream",
     "text": [
      "Epoch 310: train cost = 0.12994384460201022\n"
     ]
    },
    {
     "name": "stderr",
     "output_type": "stream",
     "text": [
      " 16%|█▌        | 321/2000 [00:48<03:03,  9.17it/s]"
     ]
    },
    {
     "name": "stdout",
     "output_type": "stream",
     "text": [
      "Epoch 320: train cost = 0.13202345696924833\n"
     ]
    },
    {
     "name": "stderr",
     "output_type": "stream",
     "text": [
      " 17%|█▋        | 331/2000 [00:49<03:21,  8.29it/s]"
     ]
    },
    {
     "name": "stdout",
     "output_type": "stream",
     "text": [
      "Epoch 330: train cost = 0.13852922293906902\n"
     ]
    },
    {
     "name": "stderr",
     "output_type": "stream",
     "text": [
      " 17%|█▋        | 341/2000 [00:50<03:19,  8.32it/s]"
     ]
    },
    {
     "name": "stdout",
     "output_type": "stream",
     "text": [
      "Epoch 340: train cost = 0.12793765842778665\n"
     ]
    },
    {
     "name": "stderr",
     "output_type": "stream",
     "text": [
      " 18%|█▊        | 351/2000 [00:52<03:15,  8.44it/s]"
     ]
    },
    {
     "name": "stdout",
     "output_type": "stream",
     "text": [
      "Epoch 350: train cost = 0.13330748188947772\n"
     ]
    },
    {
     "name": "stderr",
     "output_type": "stream",
     "text": [
      " 18%|█▊        | 361/2000 [00:53<03:18,  8.27it/s]"
     ]
    },
    {
     "name": "stdout",
     "output_type": "stream",
     "text": [
      "Epoch 360: train cost = 0.1218283123061693\n"
     ]
    },
    {
     "name": "stderr",
     "output_type": "stream",
     "text": [
      " 18%|█▊        | 370/2000 [00:54<03:01,  9.00it/s]"
     ]
    },
    {
     "name": "stdout",
     "output_type": "stream",
     "text": [
      "Epoch 370: train cost = 0.12437247758833621\n"
     ]
    },
    {
     "name": "stderr",
     "output_type": "stream",
     "text": [
      " 19%|█▉        | 380/2000 [00:55<03:17,  8.21it/s]"
     ]
    },
    {
     "name": "stdout",
     "output_type": "stream",
     "text": [
      "Epoch 380: train cost = 0.12517420120148867\n"
     ]
    },
    {
     "name": "stderr",
     "output_type": "stream",
     "text": [
      " 20%|█▉        | 391/2000 [00:57<03:30,  7.64it/s]"
     ]
    },
    {
     "name": "stdout",
     "output_type": "stream",
     "text": [
      "Epoch 390: train cost = 0.11942804500672274\n"
     ]
    },
    {
     "name": "stderr",
     "output_type": "stream",
     "text": [
      " 20%|██        | 401/2000 [00:58<03:08,  8.47it/s]"
     ]
    },
    {
     "name": "stdout",
     "output_type": "stream",
     "text": [
      "Epoch 400: train cost = 0.12177530224704755\n"
     ]
    },
    {
     "name": "stderr",
     "output_type": "stream",
     "text": [
      " 21%|██        | 411/2000 [00:59<03:05,  8.55it/s]"
     ]
    },
    {
     "name": "stdout",
     "output_type": "stream",
     "text": [
      "Epoch 410: train cost = 0.11741601467460352\n"
     ]
    },
    {
     "name": "stderr",
     "output_type": "stream",
     "text": [
      " 21%|██        | 421/2000 [01:00<02:59,  8.82it/s]"
     ]
    },
    {
     "name": "stdout",
     "output_type": "stream",
     "text": [
      "Epoch 420: train cost = 0.1258177413357951\n"
     ]
    },
    {
     "name": "stderr",
     "output_type": "stream",
     "text": [
      " 22%|██▏       | 431/2000 [01:02<03:18,  7.89it/s]"
     ]
    },
    {
     "name": "stdout",
     "output_type": "stream",
     "text": [
      "Epoch 430: train cost = 0.11717886782455168\n"
     ]
    },
    {
     "name": "stderr",
     "output_type": "stream",
     "text": [
      " 22%|██▏       | 441/2000 [01:03<03:11,  8.15it/s]"
     ]
    },
    {
     "name": "stdout",
     "output_type": "stream",
     "text": [
      "Epoch 440: train cost = 0.11310906417738492\n"
     ]
    },
    {
     "name": "stderr",
     "output_type": "stream",
     "text": [
      " 22%|██▎       | 450/2000 [01:04<03:13,  8.02it/s]"
     ]
    },
    {
     "name": "stdout",
     "output_type": "stream",
     "text": [
      "Epoch 450: train cost = 0.11677001918716559\n"
     ]
    },
    {
     "name": "stderr",
     "output_type": "stream",
     "text": [
      " 23%|██▎       | 461/2000 [01:05<02:35,  9.88it/s]"
     ]
    },
    {
     "name": "stdout",
     "output_type": "stream",
     "text": [
      "Epoch 460: train cost = 0.1167690136884469\n"
     ]
    },
    {
     "name": "stderr",
     "output_type": "stream",
     "text": [
      " 24%|██▎       | 471/2000 [01:06<02:49,  9.01it/s]"
     ]
    },
    {
     "name": "stdout",
     "output_type": "stream",
     "text": [
      "Epoch 470: train cost = 0.11276881476405444\n"
     ]
    },
    {
     "name": "stderr",
     "output_type": "stream",
     "text": [
      " 24%|██▍       | 481/2000 [01:08<02:58,  8.53it/s]"
     ]
    },
    {
     "name": "stdout",
     "output_type": "stream",
     "text": [
      "Epoch 480: train cost = 0.11109657145133636\n"
     ]
    },
    {
     "name": "stderr",
     "output_type": "stream",
     "text": [
      " 25%|██▍       | 491/2000 [01:09<03:00,  8.34it/s]"
     ]
    },
    {
     "name": "stdout",
     "output_type": "stream",
     "text": [
      "Epoch 490: train cost = 0.11113584053645136\n"
     ]
    },
    {
     "name": "stderr",
     "output_type": "stream",
     "text": [
      " 25%|██▌       | 501/2000 [01:10<03:00,  8.30it/s]"
     ]
    },
    {
     "name": "stdout",
     "output_type": "stream",
     "text": [
      "Epoch 500: train cost = 0.11320786584954871\n"
     ]
    },
    {
     "name": "stderr",
     "output_type": "stream",
     "text": [
      " 26%|██▌       | 511/2000 [01:11<02:35,  9.60it/s]"
     ]
    },
    {
     "name": "stdout",
     "output_type": "stream",
     "text": [
      "Epoch 510: train cost = 0.11303973960824407\n"
     ]
    },
    {
     "name": "stderr",
     "output_type": "stream",
     "text": [
      " 26%|██▌       | 521/2000 [01:12<02:44,  8.97it/s]"
     ]
    },
    {
     "name": "stdout",
     "output_type": "stream",
     "text": [
      "Epoch 520: train cost = 0.11212955639476602\n"
     ]
    },
    {
     "name": "stderr",
     "output_type": "stream",
     "text": [
      " 27%|██▋       | 531/2000 [01:14<02:47,  8.79it/s]"
     ]
    },
    {
     "name": "stdout",
     "output_type": "stream",
     "text": [
      "Epoch 530: train cost = 0.10770576703310657\n"
     ]
    },
    {
     "name": "stderr",
     "output_type": "stream",
     "text": [
      " 27%|██▋       | 541/2000 [01:15<02:56,  8.27it/s]"
     ]
    },
    {
     "name": "stdout",
     "output_type": "stream",
     "text": [
      "Epoch 540: train cost = 0.11047277340593072\n"
     ]
    },
    {
     "name": "stderr",
     "output_type": "stream",
     "text": [
      " 28%|██▊       | 551/2000 [01:16<02:43,  8.86it/s]"
     ]
    },
    {
     "name": "stdout",
     "output_type": "stream",
     "text": [
      "Epoch 550: train cost = 0.11411814788525515\n"
     ]
    },
    {
     "name": "stderr",
     "output_type": "stream",
     "text": [
      " 28%|██▊       | 560/2000 [01:17<02:33,  9.41it/s]"
     ]
    },
    {
     "name": "stdout",
     "output_type": "stream",
     "text": [
      "Epoch 560: train cost = 0.11009568605934156\n"
     ]
    },
    {
     "name": "stderr",
     "output_type": "stream",
     "text": [
      " 29%|██▊       | 571/2000 [01:19<02:58,  8.02it/s]"
     ]
    },
    {
     "name": "stdout",
     "output_type": "stream",
     "text": [
      "Epoch 570: train cost = 0.10937019864667004\n"
     ]
    },
    {
     "name": "stderr",
     "output_type": "stream",
     "text": [
      " 29%|██▉       | 581/2000 [01:20<02:51,  8.27it/s]"
     ]
    },
    {
     "name": "stdout",
     "output_type": "stream",
     "text": [
      "Epoch 580: train cost = 0.10638856919771204\n"
     ]
    },
    {
     "name": "stderr",
     "output_type": "stream",
     "text": [
      " 30%|██▉       | 591/2000 [01:22<03:32,  6.62it/s]"
     ]
    },
    {
     "name": "stdout",
     "output_type": "stream",
     "text": [
      "Epoch 590: train cost = 0.10711110486252116\n"
     ]
    },
    {
     "name": "stderr",
     "output_type": "stream",
     "text": [
      " 30%|███       | 601/2000 [01:23<02:34,  9.08it/s]"
     ]
    },
    {
     "name": "stdout",
     "output_type": "stream",
     "text": [
      "Epoch 600: train cost = 0.10673405984550273\n"
     ]
    },
    {
     "name": "stderr",
     "output_type": "stream",
     "text": [
      " 31%|███       | 611/2000 [01:24<02:40,  8.64it/s]"
     ]
    },
    {
     "name": "stdout",
     "output_type": "stream",
     "text": [
      "Epoch 610: train cost = 0.10497208690435123\n"
     ]
    },
    {
     "name": "stderr",
     "output_type": "stream",
     "text": [
      " 31%|███       | 620/2000 [01:26<02:42,  8.48it/s]"
     ]
    },
    {
     "name": "stdout",
     "output_type": "stream",
     "text": [
      "Epoch 620: train cost = 0.10526948606796589\n"
     ]
    },
    {
     "name": "stderr",
     "output_type": "stream",
     "text": [
      " 32%|███▏      | 631/2000 [01:27<02:55,  7.80it/s]"
     ]
    },
    {
     "name": "stdout",
     "output_type": "stream",
     "text": [
      "Epoch 630: train cost = 0.1037051377791528\n"
     ]
    },
    {
     "name": "stderr",
     "output_type": "stream",
     "text": [
      " 32%|███▏      | 641/2000 [01:29<02:59,  7.58it/s]"
     ]
    },
    {
     "name": "stdout",
     "output_type": "stream",
     "text": [
      "Epoch 640: train cost = 0.10692185506387247\n"
     ]
    },
    {
     "name": "stderr",
     "output_type": "stream",
     "text": [
      " 33%|███▎      | 651/2000 [01:30<02:39,  8.47it/s]"
     ]
    },
    {
     "name": "stdout",
     "output_type": "stream",
     "text": [
      "Epoch 650: train cost = 0.10626232150699887\n"
     ]
    },
    {
     "name": "stderr",
     "output_type": "stream",
     "text": [
      " 33%|███▎      | 661/2000 [01:31<02:33,  8.74it/s]"
     ]
    },
    {
     "name": "stdout",
     "output_type": "stream",
     "text": [
      "Epoch 660: train cost = 0.10450349431772654\n"
     ]
    },
    {
     "name": "stderr",
     "output_type": "stream",
     "text": [
      " 34%|███▎      | 671/2000 [01:32<02:54,  7.61it/s]"
     ]
    },
    {
     "name": "stdout",
     "output_type": "stream",
     "text": [
      "Epoch 670: train cost = 0.10784525918559003\n"
     ]
    },
    {
     "name": "stderr",
     "output_type": "stream",
     "text": [
      " 34%|███▍      | 681/2000 [01:34<02:38,  8.30it/s]"
     ]
    },
    {
     "name": "stdout",
     "output_type": "stream",
     "text": [
      "Epoch 680: train cost = 0.10244429901250117\n"
     ]
    },
    {
     "name": "stderr",
     "output_type": "stream",
     "text": [
      " 35%|███▍      | 691/2000 [01:35<02:34,  8.47it/s]"
     ]
    },
    {
     "name": "stdout",
     "output_type": "stream",
     "text": [
      "Epoch 690: train cost = 0.10123082502157503\n"
     ]
    },
    {
     "name": "stderr",
     "output_type": "stream",
     "text": [
      " 35%|███▌      | 701/2000 [01:36<02:34,  8.43it/s]"
     ]
    },
    {
     "name": "stdout",
     "output_type": "stream",
     "text": [
      "Epoch 700: train cost = 0.10409663783009007\n"
     ]
    },
    {
     "name": "stderr",
     "output_type": "stream",
     "text": [
      " 36%|███▌      | 712/2000 [01:38<02:26,  8.77it/s]"
     ]
    },
    {
     "name": "stdout",
     "output_type": "stream",
     "text": [
      "Epoch 710: train cost = 0.10093368798912704\n"
     ]
    },
    {
     "name": "stderr",
     "output_type": "stream",
     "text": [
      " 36%|███▌      | 721/2000 [01:39<02:41,  7.93it/s]"
     ]
    },
    {
     "name": "stdout",
     "output_type": "stream",
     "text": [
      "Epoch 720: train cost = 0.10102398860368121\n"
     ]
    },
    {
     "name": "stderr",
     "output_type": "stream",
     "text": [
      " 37%|███▋      | 731/2000 [01:40<02:34,  8.21it/s]"
     ]
    },
    {
     "name": "stdout",
     "output_type": "stream",
     "text": [
      "Epoch 730: train cost = 0.10131205188450959\n"
     ]
    },
    {
     "name": "stderr",
     "output_type": "stream",
     "text": [
      " 37%|███▋      | 741/2000 [01:42<03:06,  6.74it/s]"
     ]
    },
    {
     "name": "stdout",
     "output_type": "stream",
     "text": [
      "Epoch 740: train cost = 0.1003006034579631\n"
     ]
    },
    {
     "name": "stderr",
     "output_type": "stream",
     "text": [
      " 38%|███▊      | 751/2000 [01:43<02:28,  8.42it/s]"
     ]
    },
    {
     "name": "stdout",
     "output_type": "stream",
     "text": [
      "Epoch 750: train cost = 0.10491095288833802\n"
     ]
    },
    {
     "name": "stderr",
     "output_type": "stream",
     "text": [
      " 38%|███▊      | 761/2000 [01:44<02:28,  8.34it/s]"
     ]
    },
    {
     "name": "stdout",
     "output_type": "stream",
     "text": [
      "Epoch 760: train cost = 0.10480720173565489\n"
     ]
    },
    {
     "name": "stderr",
     "output_type": "stream",
     "text": [
      " 39%|███▊      | 771/2000 [01:45<02:29,  8.20it/s]"
     ]
    },
    {
     "name": "stdout",
     "output_type": "stream",
     "text": [
      "Epoch 770: train cost = 0.10037931712396146\n"
     ]
    },
    {
     "name": "stderr",
     "output_type": "stream",
     "text": [
      " 39%|███▉      | 781/2000 [01:47<02:25,  8.40it/s]"
     ]
    },
    {
     "name": "stdout",
     "output_type": "stream",
     "text": [
      "Epoch 780: train cost = 0.09876391226640698\n"
     ]
    },
    {
     "name": "stderr",
     "output_type": "stream",
     "text": [
      " 40%|███▉      | 791/2000 [01:48<02:33,  7.88it/s]"
     ]
    },
    {
     "name": "stdout",
     "output_type": "stream",
     "text": [
      "Epoch 790: train cost = 0.0992427969730781\n"
     ]
    },
    {
     "name": "stderr",
     "output_type": "stream",
     "text": [
      " 40%|████      | 801/2000 [01:49<02:27,  8.15it/s]"
     ]
    },
    {
     "name": "stdout",
     "output_type": "stream",
     "text": [
      "Epoch 800: train cost = 0.10031253490615465\n"
     ]
    },
    {
     "name": "stderr",
     "output_type": "stream",
     "text": [
      " 41%|████      | 812/2000 [01:50<02:10,  9.07it/s]"
     ]
    },
    {
     "name": "stdout",
     "output_type": "stream",
     "text": [
      "Epoch 810: train cost = 0.10036996084120287\n"
     ]
    },
    {
     "name": "stderr",
     "output_type": "stream",
     "text": [
      " 41%|████      | 821/2000 [01:52<02:34,  7.61it/s]"
     ]
    },
    {
     "name": "stdout",
     "output_type": "stream",
     "text": [
      "Epoch 820: train cost = 0.09825550653820293\n"
     ]
    },
    {
     "name": "stderr",
     "output_type": "stream",
     "text": [
      " 42%|████▏     | 831/2000 [01:53<02:44,  7.11it/s]"
     ]
    },
    {
     "name": "stdout",
     "output_type": "stream",
     "text": [
      "Epoch 830: train cost = 0.10085942048316303\n"
     ]
    },
    {
     "name": "stderr",
     "output_type": "stream",
     "text": [
      " 42%|████▏     | 841/2000 [01:54<02:22,  8.13it/s]"
     ]
    },
    {
     "name": "stdout",
     "output_type": "stream",
     "text": [
      "Epoch 840: train cost = 0.09876937938678045\n"
     ]
    },
    {
     "name": "stderr",
     "output_type": "stream",
     "text": [
      " 42%|████▎     | 850/2000 [01:56<04:28,  4.28it/s]"
     ]
    },
    {
     "name": "stdout",
     "output_type": "stream",
     "text": [
      "Epoch 850: train cost = 0.09712243384254751\n"
     ]
    },
    {
     "name": "stderr",
     "output_type": "stream",
     "text": [
      " 43%|████▎     | 860/2000 [02:01<11:47,  1.61it/s]"
     ]
    },
    {
     "name": "stdout",
     "output_type": "stream",
     "text": [
      "Epoch 860: train cost = 0.09804075829457164\n"
     ]
    },
    {
     "name": "stderr",
     "output_type": "stream",
     "text": [
      " 44%|████▎     | 871/2000 [02:04<03:20,  5.63it/s]"
     ]
    },
    {
     "name": "stdout",
     "output_type": "stream",
     "text": [
      "Epoch 870: train cost = 0.1038803146992128\n"
     ]
    },
    {
     "name": "stderr",
     "output_type": "stream",
     "text": [
      " 44%|████▍     | 881/2000 [02:06<02:51,  6.52it/s]"
     ]
    },
    {
     "name": "stdout",
     "output_type": "stream",
     "text": [
      "Epoch 880: train cost = 0.0974624953506897\n"
     ]
    },
    {
     "name": "stderr",
     "output_type": "stream",
     "text": [
      " 45%|████▍     | 891/2000 [02:07<02:28,  7.46it/s]"
     ]
    },
    {
     "name": "stdout",
     "output_type": "stream",
     "text": [
      "Epoch 890: train cost = 0.09593913573433818\n"
     ]
    },
    {
     "name": "stderr",
     "output_type": "stream",
     "text": [
      " 45%|████▌     | 901/2000 [02:09<02:45,  6.65it/s]"
     ]
    },
    {
     "name": "stdout",
     "output_type": "stream",
     "text": [
      "Epoch 900: train cost = 0.09626198793925349\n"
     ]
    },
    {
     "name": "stderr",
     "output_type": "stream",
     "text": [
      " 46%|████▌     | 911/2000 [02:10<02:29,  7.29it/s]"
     ]
    },
    {
     "name": "stdout",
     "output_type": "stream",
     "text": [
      "Epoch 910: train cost = 0.09650821284967968\n"
     ]
    },
    {
     "name": "stderr",
     "output_type": "stream",
     "text": [
      " 46%|████▌     | 921/2000 [02:12<02:22,  7.55it/s]"
     ]
    },
    {
     "name": "stdout",
     "output_type": "stream",
     "text": [
      "Epoch 920: train cost = 0.09659061099026135\n"
     ]
    },
    {
     "name": "stderr",
     "output_type": "stream",
     "text": [
      " 46%|████▋     | 930/2000 [02:14<04:03,  4.40it/s]"
     ]
    },
    {
     "name": "stdout",
     "output_type": "stream",
     "text": [
      "Epoch 930: train cost = 0.0963243569263577\n"
     ]
    },
    {
     "name": "stderr",
     "output_type": "stream",
     "text": [
      " 47%|████▋     | 940/2000 [02:16<04:17,  4.12it/s]"
     ]
    },
    {
     "name": "stdout",
     "output_type": "stream",
     "text": [
      "Epoch 940: train cost = 0.0965109897734969\n"
     ]
    },
    {
     "name": "stderr",
     "output_type": "stream",
     "text": [
      " 48%|████▊     | 950/2000 [02:18<04:06,  4.26it/s]"
     ]
    },
    {
     "name": "stdout",
     "output_type": "stream",
     "text": [
      "Epoch 950: train cost = 0.09648006801317198\n"
     ]
    },
    {
     "name": "stderr",
     "output_type": "stream",
     "text": [
      " 48%|████▊     | 961/2000 [02:23<04:31,  3.83it/s]"
     ]
    },
    {
     "name": "stdout",
     "output_type": "stream",
     "text": [
      "Epoch 960: train cost = 0.09417057465367315\n"
     ]
    },
    {
     "name": "stderr",
     "output_type": "stream",
     "text": [
      " 49%|████▊     | 971/2000 [02:24<02:20,  7.31it/s]"
     ]
    },
    {
     "name": "stdout",
     "output_type": "stream",
     "text": [
      "Epoch 970: train cost = 0.0963464108646775\n"
     ]
    },
    {
     "name": "stderr",
     "output_type": "stream",
     "text": [
      " 49%|████▉     | 980/2000 [02:26<02:41,  6.30it/s]"
     ]
    },
    {
     "name": "stdout",
     "output_type": "stream",
     "text": [
      "Epoch 980: train cost = 0.0940268522361401\n"
     ]
    },
    {
     "name": "stderr",
     "output_type": "stream",
     "text": [
      " 50%|████▉     | 991/2000 [02:28<04:02,  4.16it/s]"
     ]
    },
    {
     "name": "stdout",
     "output_type": "stream",
     "text": [
      "Epoch 990: train cost = 0.09474232252078905\n"
     ]
    },
    {
     "name": "stderr",
     "output_type": "stream",
     "text": [
      " 50%|█████     | 1001/2000 [02:30<02:52,  5.79it/s]"
     ]
    },
    {
     "name": "stdout",
     "output_type": "stream",
     "text": [
      "Epoch 1000: train cost = 0.09523099972257378\n"
     ]
    },
    {
     "name": "stderr",
     "output_type": "stream",
     "text": [
      " 51%|█████     | 1011/2000 [02:31<02:13,  7.40it/s]"
     ]
    },
    {
     "name": "stdout",
     "output_type": "stream",
     "text": [
      "Epoch 1010: train cost = 0.09462227030562181\n"
     ]
    },
    {
     "name": "stderr",
     "output_type": "stream",
     "text": [
      " 51%|█████     | 1021/2000 [02:33<02:13,  7.32it/s]"
     ]
    },
    {
     "name": "stdout",
     "output_type": "stream",
     "text": [
      "Epoch 1020: train cost = 0.09450637330252327\n"
     ]
    },
    {
     "name": "stderr",
     "output_type": "stream",
     "text": [
      " 52%|█████▏    | 1031/2000 [02:34<02:08,  7.55it/s]"
     ]
    },
    {
     "name": "stdout",
     "output_type": "stream",
     "text": [
      "Epoch 1030: train cost = 0.09403527181702416\n"
     ]
    },
    {
     "name": "stderr",
     "output_type": "stream",
     "text": [
      " 52%|█████▏    | 1040/2000 [02:36<02:15,  7.09it/s]"
     ]
    },
    {
     "name": "stdout",
     "output_type": "stream",
     "text": [
      "Epoch 1040: train cost = 0.0939689738100952\n"
     ]
    },
    {
     "name": "stderr",
     "output_type": "stream",
     "text": [
      " 52%|█████▎    | 1050/2000 [02:37<02:00,  7.90it/s]"
     ]
    },
    {
     "name": "stdout",
     "output_type": "stream",
     "text": [
      "Epoch 1050: train cost = 0.09518738829402548\n"
     ]
    },
    {
     "name": "stderr",
     "output_type": "stream",
     "text": [
      " 53%|█████▎    | 1061/2000 [02:38<01:53,  8.29it/s]"
     ]
    },
    {
     "name": "stdout",
     "output_type": "stream",
     "text": [
      "Epoch 1060: train cost = 0.09550410815424253\n"
     ]
    },
    {
     "name": "stderr",
     "output_type": "stream",
     "text": [
      " 54%|█████▎    | 1071/2000 [02:40<01:53,  8.16it/s]"
     ]
    },
    {
     "name": "stdout",
     "output_type": "stream",
     "text": [
      "Epoch 1070: train cost = 0.09316219361141773\n"
     ]
    },
    {
     "name": "stderr",
     "output_type": "stream",
     "text": [
      " 54%|█████▍    | 1080/2000 [02:41<02:03,  7.46it/s]"
     ]
    },
    {
     "name": "stdout",
     "output_type": "stream",
     "text": [
      "Epoch 1080: train cost = 0.09346930161919485\n"
     ]
    },
    {
     "name": "stderr",
     "output_type": "stream",
     "text": [
      " 55%|█████▍    | 1091/2000 [02:43<01:52,  8.11it/s]"
     ]
    },
    {
     "name": "stdout",
     "output_type": "stream",
     "text": [
      "Epoch 1090: train cost = 0.093017445824844\n"
     ]
    },
    {
     "name": "stderr",
     "output_type": "stream",
     "text": [
      " 55%|█████▌    | 1101/2000 [02:45<04:26,  3.37it/s]"
     ]
    },
    {
     "name": "stdout",
     "output_type": "stream",
     "text": [
      "Epoch 1100: train cost = 0.09363161122677997\n"
     ]
    },
    {
     "name": "stderr",
     "output_type": "stream",
     "text": [
      " 56%|█████▌    | 1111/2000 [02:46<01:47,  8.24it/s]"
     ]
    },
    {
     "name": "stdout",
     "output_type": "stream",
     "text": [
      "Epoch 1110: train cost = 0.09259307493370288\n"
     ]
    },
    {
     "name": "stderr",
     "output_type": "stream",
     "text": [
      " 56%|█████▌    | 1121/2000 [02:48<02:02,  7.17it/s]"
     ]
    },
    {
     "name": "stdout",
     "output_type": "stream",
     "text": [
      "Epoch 1120: train cost = 0.09234748045908832\n"
     ]
    },
    {
     "name": "stderr",
     "output_type": "stream",
     "text": [
      " 57%|█████▋    | 1131/2000 [02:49<01:52,  7.75it/s]"
     ]
    },
    {
     "name": "stdout",
     "output_type": "stream",
     "text": [
      "Epoch 1130: train cost = 0.09202060237524207\n"
     ]
    },
    {
     "name": "stderr",
     "output_type": "stream",
     "text": [
      " 57%|█████▋    | 1141/2000 [02:50<01:54,  7.48it/s]"
     ]
    },
    {
     "name": "stdout",
     "output_type": "stream",
     "text": [
      "Epoch 1140: train cost = 0.09563673114819878\n"
     ]
    },
    {
     "name": "stderr",
     "output_type": "stream",
     "text": [
      " 58%|█████▊    | 1151/2000 [02:52<01:50,  7.66it/s]"
     ]
    },
    {
     "name": "stdout",
     "output_type": "stream",
     "text": [
      "Epoch 1150: train cost = 0.0973836070238857\n"
     ]
    },
    {
     "name": "stderr",
     "output_type": "stream",
     "text": [
      " 58%|█████▊    | 1160/2000 [02:53<02:01,  6.89it/s]"
     ]
    },
    {
     "name": "stdout",
     "output_type": "stream",
     "text": [
      "Epoch 1160: train cost = 0.09232091719091216\n"
     ]
    },
    {
     "name": "stderr",
     "output_type": "stream",
     "text": [
      " 59%|█████▊    | 1171/2000 [02:54<01:40,  8.28it/s]"
     ]
    },
    {
     "name": "stdout",
     "output_type": "stream",
     "text": [
      "Epoch 1170: train cost = 0.09396883007577203\n"
     ]
    },
    {
     "name": "stderr",
     "output_type": "stream",
     "text": [
      " 59%|█████▉    | 1181/2000 [02:56<01:37,  8.40it/s]"
     ]
    },
    {
     "name": "stdout",
     "output_type": "stream",
     "text": [
      "Epoch 1180: train cost = 0.09375118350796362\n"
     ]
    },
    {
     "name": "stderr",
     "output_type": "stream",
     "text": [
      " 60%|█████▉    | 1192/2000 [02:57<01:38,  8.20it/s]"
     ]
    },
    {
     "name": "stdout",
     "output_type": "stream",
     "text": [
      "Epoch 1190: train cost = 0.09122966419338167\n"
     ]
    },
    {
     "name": "stderr",
     "output_type": "stream",
     "text": [
      " 60%|██████    | 1200/2000 [02:58<01:44,  7.67it/s]"
     ]
    },
    {
     "name": "stdout",
     "output_type": "stream",
     "text": [
      "Epoch 1200: train cost = 0.09080437305233302\n"
     ]
    },
    {
     "name": "stderr",
     "output_type": "stream",
     "text": [
      " 61%|██████    | 1212/2000 [03:00<01:32,  8.50it/s]"
     ]
    },
    {
     "name": "stdout",
     "output_type": "stream",
     "text": [
      "Epoch 1210: train cost = 0.09226681594437666\n"
     ]
    },
    {
     "name": "stderr",
     "output_type": "stream",
     "text": [
      " 61%|██████    | 1221/2000 [03:01<01:51,  6.97it/s]"
     ]
    },
    {
     "name": "stdout",
     "output_type": "stream",
     "text": [
      "Epoch 1220: train cost = 0.09128064187762429\n"
     ]
    },
    {
     "name": "stderr",
     "output_type": "stream",
     "text": [
      " 62%|██████▏   | 1230/2000 [03:02<01:39,  7.72it/s]"
     ]
    },
    {
     "name": "stdout",
     "output_type": "stream",
     "text": [
      "Epoch 1230: train cost = 0.09150647905611768\n"
     ]
    },
    {
     "name": "stderr",
     "output_type": "stream",
     "text": [
      " 62%|██████▏   | 1242/2000 [03:04<01:29,  8.46it/s]"
     ]
    },
    {
     "name": "stdout",
     "output_type": "stream",
     "text": [
      "Epoch 1240: train cost = 0.09085816288144725\n"
     ]
    },
    {
     "name": "stderr",
     "output_type": "stream",
     "text": [
      " 63%|██████▎   | 1251/2000 [03:05<01:39,  7.49it/s]"
     ]
    },
    {
     "name": "stdout",
     "output_type": "stream",
     "text": [
      "Epoch 1250: train cost = 0.0913404943907443\n"
     ]
    },
    {
     "name": "stderr",
     "output_type": "stream",
     "text": [
      " 63%|██████▎   | 1261/2000 [03:07<01:42,  7.24it/s]"
     ]
    },
    {
     "name": "stdout",
     "output_type": "stream",
     "text": [
      "Epoch 1260: train cost = 0.08996513825143027\n"
     ]
    },
    {
     "name": "stderr",
     "output_type": "stream",
     "text": [
      " 64%|██████▎   | 1271/2000 [03:08<01:34,  7.68it/s]"
     ]
    },
    {
     "name": "stdout",
     "output_type": "stream",
     "text": [
      "Epoch 1270: train cost = 0.09086327470826244\n"
     ]
    },
    {
     "name": "stderr",
     "output_type": "stream",
     "text": [
      " 64%|██████▍   | 1281/2000 [03:09<01:28,  8.12it/s]"
     ]
    },
    {
     "name": "stdout",
     "output_type": "stream",
     "text": [
      "Epoch 1280: train cost = 0.09151815961246225\n"
     ]
    },
    {
     "name": "stderr",
     "output_type": "stream",
     "text": [
      " 65%|██████▍   | 1291/2000 [03:11<01:36,  7.35it/s]"
     ]
    },
    {
     "name": "stdout",
     "output_type": "stream",
     "text": [
      "Epoch 1290: train cost = 0.09286797750829923\n"
     ]
    },
    {
     "name": "stderr",
     "output_type": "stream",
     "text": [
      " 65%|██████▌   | 1301/2000 [03:12<01:23,  8.41it/s]"
     ]
    },
    {
     "name": "stdout",
     "output_type": "stream",
     "text": [
      "Epoch 1300: train cost = 0.09195928638558165\n"
     ]
    },
    {
     "name": "stderr",
     "output_type": "stream",
     "text": [
      " 66%|██████▌   | 1311/2000 [03:13<01:22,  8.32it/s]"
     ]
    },
    {
     "name": "stdout",
     "output_type": "stream",
     "text": [
      "Epoch 1310: train cost = 0.0897998961086717\n"
     ]
    },
    {
     "name": "stderr",
     "output_type": "stream",
     "text": [
      " 66%|██████▌   | 1321/2000 [03:15<01:26,  7.85it/s]"
     ]
    },
    {
     "name": "stdout",
     "output_type": "stream",
     "text": [
      "Epoch 1320: train cost = 0.09904860447647756\n"
     ]
    },
    {
     "name": "stderr",
     "output_type": "stream",
     "text": [
      " 67%|██████▋   | 1331/2000 [03:17<01:39,  6.70it/s]"
     ]
    },
    {
     "name": "stdout",
     "output_type": "stream",
     "text": [
      "Epoch 1330: train cost = 0.09148915732206328\n"
     ]
    },
    {
     "name": "stderr",
     "output_type": "stream",
     "text": [
      " 67%|██████▋   | 1340/2000 [03:18<01:25,  7.70it/s]"
     ]
    },
    {
     "name": "stdout",
     "output_type": "stream",
     "text": [
      "Epoch 1340: train cost = 0.09016780380831219\n"
     ]
    },
    {
     "name": "stderr",
     "output_type": "stream",
     "text": [
      " 68%|██████▊   | 1351/2000 [03:20<01:21,  7.94it/s]"
     ]
    },
    {
     "name": "stdout",
     "output_type": "stream",
     "text": [
      "Epoch 1350: train cost = 0.08898313827889699\n"
     ]
    },
    {
     "name": "stderr",
     "output_type": "stream",
     "text": [
      " 68%|██████▊   | 1361/2000 [03:21<01:25,  7.49it/s]"
     ]
    },
    {
     "name": "stdout",
     "output_type": "stream",
     "text": [
      "Epoch 1360: train cost = 0.08980666799688866\n"
     ]
    },
    {
     "name": "stderr",
     "output_type": "stream",
     "text": [
      " 69%|██████▊   | 1371/2000 [03:23<01:21,  7.74it/s]"
     ]
    },
    {
     "name": "stdout",
     "output_type": "stream",
     "text": [
      "Epoch 1370: train cost = 0.08969681114300275\n"
     ]
    },
    {
     "name": "stderr",
     "output_type": "stream",
     "text": [
      " 69%|██████▉   | 1381/2000 [03:24<01:16,  8.13it/s]"
     ]
    },
    {
     "name": "stdout",
     "output_type": "stream",
     "text": [
      "Epoch 1380: train cost = 0.09027272961992676\n"
     ]
    },
    {
     "name": "stderr",
     "output_type": "stream",
     "text": [
      " 70%|██████▉   | 1390/2000 [03:25<01:22,  7.36it/s]"
     ]
    },
    {
     "name": "stdout",
     "output_type": "stream",
     "text": [
      "Epoch 1390: train cost = 0.09094582556432379\n"
     ]
    },
    {
     "name": "stderr",
     "output_type": "stream",
     "text": [
      " 70%|███████   | 1401/2000 [03:27<01:20,  7.40it/s]"
     ]
    },
    {
     "name": "stdout",
     "output_type": "stream",
     "text": [
      "Epoch 1400: train cost = 0.08972327026057411\n"
     ]
    },
    {
     "name": "stderr",
     "output_type": "stream",
     "text": [
      " 71%|███████   | 1411/2000 [03:28<01:17,  7.63it/s]"
     ]
    },
    {
     "name": "stdout",
     "output_type": "stream",
     "text": [
      "Epoch 1410: train cost = 0.0912972196386827\n"
     ]
    },
    {
     "name": "stderr",
     "output_type": "stream",
     "text": [
      " 71%|███████   | 1421/2000 [03:30<01:18,  7.34it/s]"
     ]
    },
    {
     "name": "stdout",
     "output_type": "stream",
     "text": [
      "Epoch 1420: train cost = 0.08980744911478053\n"
     ]
    },
    {
     "name": "stderr",
     "output_type": "stream",
     "text": [
      " 72%|███████▏  | 1430/2000 [03:31<01:11,  7.99it/s]"
     ]
    },
    {
     "name": "stdout",
     "output_type": "stream",
     "text": [
      "Epoch 1430: train cost = 0.08908042184715712\n"
     ]
    },
    {
     "name": "stderr",
     "output_type": "stream",
     "text": [
      " 72%|███████▏  | 1441/2000 [03:33<01:12,  7.73it/s]"
     ]
    },
    {
     "name": "stdout",
     "output_type": "stream",
     "text": [
      "Epoch 1440: train cost = 0.0900358413145762\n"
     ]
    },
    {
     "name": "stderr",
     "output_type": "stream",
     "text": [
      " 73%|███████▎  | 1451/2000 [03:34<01:08,  7.97it/s]"
     ]
    },
    {
     "name": "stdout",
     "output_type": "stream",
     "text": [
      "Epoch 1450: train cost = 0.09067050156987332\n"
     ]
    },
    {
     "name": "stderr",
     "output_type": "stream",
     "text": [
      " 73%|███████▎  | 1461/2000 [03:35<01:06,  8.08it/s]"
     ]
    },
    {
     "name": "stdout",
     "output_type": "stream",
     "text": [
      "Epoch 1460: train cost = 0.08955159023033223\n"
     ]
    },
    {
     "name": "stderr",
     "output_type": "stream",
     "text": [
      " 74%|███████▎  | 1472/2000 [03:37<01:01,  8.59it/s]"
     ]
    },
    {
     "name": "stdout",
     "output_type": "stream",
     "text": [
      "Epoch 1470: train cost = 0.08813946949914044\n"
     ]
    },
    {
     "name": "stderr",
     "output_type": "stream",
     "text": [
      " 74%|███████▍  | 1481/2000 [03:38<01:11,  7.30it/s]"
     ]
    },
    {
     "name": "stdout",
     "output_type": "stream",
     "text": [
      "Epoch 1480: train cost = 0.0899625585684108\n"
     ]
    },
    {
     "name": "stderr",
     "output_type": "stream",
     "text": [
      " 75%|███████▍  | 1491/2000 [03:39<01:11,  7.10it/s]"
     ]
    },
    {
     "name": "stdout",
     "output_type": "stream",
     "text": [
      "Epoch 1490: train cost = 0.08947374841853095\n"
     ]
    },
    {
     "name": "stderr",
     "output_type": "stream",
     "text": [
      " 75%|███████▌  | 1501/2000 [03:41<01:11,  6.99it/s]"
     ]
    },
    {
     "name": "stdout",
     "output_type": "stream",
     "text": [
      "Epoch 1500: train cost = 0.08939538024497842\n"
     ]
    },
    {
     "name": "stderr",
     "output_type": "stream",
     "text": [
      " 76%|███████▌  | 1511/2000 [03:42<01:02,  7.80it/s]"
     ]
    },
    {
     "name": "stdout",
     "output_type": "stream",
     "text": [
      "Epoch 1510: train cost = 0.08860501625013481\n"
     ]
    },
    {
     "name": "stderr",
     "output_type": "stream",
     "text": [
      " 76%|███████▌  | 1521/2000 [03:44<01:03,  7.51it/s]"
     ]
    },
    {
     "name": "stdout",
     "output_type": "stream",
     "text": [
      "Epoch 1520: train cost = 0.08928748627481232\n"
     ]
    },
    {
     "name": "stderr",
     "output_type": "stream",
     "text": [
      " 77%|███████▋  | 1531/2000 [03:45<01:16,  6.14it/s]"
     ]
    },
    {
     "name": "stdout",
     "output_type": "stream",
     "text": [
      "Epoch 1530: train cost = 0.08824398334424517\n"
     ]
    },
    {
     "name": "stderr",
     "output_type": "stream",
     "text": [
      " 77%|███████▋  | 1541/2000 [03:51<02:34,  2.98it/s]"
     ]
    },
    {
     "name": "stdout",
     "output_type": "stream",
     "text": [
      "Epoch 1540: train cost = 0.08798725790828978\n"
     ]
    },
    {
     "name": "stderr",
     "output_type": "stream",
     "text": [
      " 78%|███████▊  | 1551/2000 [03:53<01:21,  5.51it/s]"
     ]
    },
    {
     "name": "stdout",
     "output_type": "stream",
     "text": [
      "Epoch 1550: train cost = 0.08767359174733597\n"
     ]
    },
    {
     "name": "stderr",
     "output_type": "stream",
     "text": [
      " 78%|███████▊  | 1561/2000 [03:54<01:03,  6.87it/s]"
     ]
    },
    {
     "name": "stdout",
     "output_type": "stream",
     "text": [
      "Epoch 1560: train cost = 0.0904439915522596\n"
     ]
    },
    {
     "name": "stderr",
     "output_type": "stream",
     "text": [
      " 79%|███████▊  | 1571/2000 [03:56<01:02,  6.81it/s]"
     ]
    },
    {
     "name": "stdout",
     "output_type": "stream",
     "text": [
      "Epoch 1570: train cost = 0.08801824748339061\n"
     ]
    },
    {
     "name": "stderr",
     "output_type": "stream",
     "text": [
      " 79%|███████▉  | 1581/2000 [03:58<01:18,  5.32it/s]"
     ]
    },
    {
     "name": "stdout",
     "output_type": "stream",
     "text": [
      "Epoch 1580: train cost = 0.08692602189550998\n"
     ]
    },
    {
     "name": "stderr",
     "output_type": "stream",
     "text": [
      " 80%|███████▉  | 1591/2000 [03:59<00:58,  6.95it/s]"
     ]
    },
    {
     "name": "stdout",
     "output_type": "stream",
     "text": [
      "Epoch 1590: train cost = 0.08743782690513278\n"
     ]
    },
    {
     "name": "stderr",
     "output_type": "stream",
     "text": [
      " 80%|████████  | 1601/2000 [04:00<00:53,  7.42it/s]"
     ]
    },
    {
     "name": "stdout",
     "output_type": "stream",
     "text": [
      "Epoch 1600: train cost = 0.08632113681846755\n"
     ]
    },
    {
     "name": "stderr",
     "output_type": "stream",
     "text": [
      " 80%|████████  | 1610/2000 [04:02<00:50,  7.79it/s]"
     ]
    },
    {
     "name": "stdout",
     "output_type": "stream",
     "text": [
      "Epoch 1610: train cost = 0.08662658254382391\n"
     ]
    },
    {
     "name": "stderr",
     "output_type": "stream",
     "text": [
      " 81%|████████  | 1621/2000 [04:03<00:48,  7.84it/s]"
     ]
    },
    {
     "name": "stdout",
     "output_type": "stream",
     "text": [
      "Epoch 1620: train cost = 0.08764093013880749\n"
     ]
    },
    {
     "name": "stderr",
     "output_type": "stream",
     "text": [
      " 82%|████████▏ | 1631/2000 [04:05<00:49,  7.43it/s]"
     ]
    },
    {
     "name": "stdout",
     "output_type": "stream",
     "text": [
      "Epoch 1630: train cost = 0.08751499672221419\n"
     ]
    },
    {
     "name": "stderr",
     "output_type": "stream",
     "text": [
      " 82%|████████▏ | 1641/2000 [04:06<00:52,  6.86it/s]"
     ]
    },
    {
     "name": "stdout",
     "output_type": "stream",
     "text": [
      "Epoch 1640: train cost = 0.08765761106391774\n"
     ]
    },
    {
     "name": "stderr",
     "output_type": "stream",
     "text": [
      " 83%|████████▎ | 1651/2000 [04:07<00:48,  7.23it/s]"
     ]
    },
    {
     "name": "stdout",
     "output_type": "stream",
     "text": [
      "Epoch 1650: train cost = 0.08618375572410651\n"
     ]
    },
    {
     "name": "stderr",
     "output_type": "stream",
     "text": [
      " 83%|████████▎ | 1661/2000 [04:09<00:44,  7.55it/s]"
     ]
    },
    {
     "name": "stdout",
     "output_type": "stream",
     "text": [
      "Epoch 1660: train cost = 0.08709280525883285\n"
     ]
    },
    {
     "name": "stderr",
     "output_type": "stream",
     "text": [
      " 84%|████████▎ | 1670/2000 [04:10<00:43,  7.52it/s]"
     ]
    },
    {
     "name": "stdout",
     "output_type": "stream",
     "text": [
      "Epoch 1670: train cost = 0.0865468674987579\n"
     ]
    },
    {
     "name": "stderr",
     "output_type": "stream",
     "text": [
      " 84%|████████▍ | 1681/2000 [04:12<00:50,  6.37it/s]"
     ]
    },
    {
     "name": "stdout",
     "output_type": "stream",
     "text": [
      "Epoch 1680: train cost = 0.08776610743093768\n"
     ]
    },
    {
     "name": "stderr",
     "output_type": "stream",
     "text": [
      " 85%|████████▍ | 1691/2000 [04:15<00:52,  5.91it/s]"
     ]
    },
    {
     "name": "stdout",
     "output_type": "stream",
     "text": [
      "Epoch 1690: train cost = 0.08778992923226145\n"
     ]
    },
    {
     "name": "stderr",
     "output_type": "stream",
     "text": [
      " 85%|████████▌ | 1700/2000 [04:16<00:39,  7.52it/s]"
     ]
    },
    {
     "name": "stdout",
     "output_type": "stream",
     "text": [
      "Epoch 1700: train cost = 0.08702426337238225\n"
     ]
    },
    {
     "name": "stderr",
     "output_type": "stream",
     "text": [
      " 86%|████████▌ | 1711/2000 [04:18<00:43,  6.57it/s]"
     ]
    },
    {
     "name": "stdout",
     "output_type": "stream",
     "text": [
      "Epoch 1710: train cost = 0.08689428461082115\n"
     ]
    },
    {
     "name": "stderr",
     "output_type": "stream",
     "text": [
      " 86%|████████▌ | 1721/2000 [04:20<00:43,  6.43it/s]"
     ]
    },
    {
     "name": "stdout",
     "output_type": "stream",
     "text": [
      "Epoch 1720: train cost = 0.08617535846962444\n"
     ]
    },
    {
     "name": "stderr",
     "output_type": "stream",
     "text": [
      " 87%|████████▋ | 1731/2000 [04:21<00:35,  7.50it/s]"
     ]
    },
    {
     "name": "stdout",
     "output_type": "stream",
     "text": [
      "Epoch 1730: train cost = 0.08689295003070156\n"
     ]
    },
    {
     "name": "stderr",
     "output_type": "stream",
     "text": [
      " 87%|████████▋ | 1740/2000 [04:23<01:20,  3.22it/s]"
     ]
    },
    {
     "name": "stdout",
     "output_type": "stream",
     "text": [
      "Epoch 1740: train cost = 0.0854864513843837\n"
     ]
    },
    {
     "name": "stderr",
     "output_type": "stream",
     "text": [
      " 88%|████████▊ | 1751/2000 [04:26<00:41,  6.06it/s]"
     ]
    },
    {
     "name": "stdout",
     "output_type": "stream",
     "text": [
      "Epoch 1750: train cost = 0.08653114209973477\n"
     ]
    },
    {
     "name": "stderr",
     "output_type": "stream",
     "text": [
      " 88%|████████▊ | 1761/2000 [04:27<00:39,  6.00it/s]"
     ]
    },
    {
     "name": "stdout",
     "output_type": "stream",
     "text": [
      "Epoch 1760: train cost = 0.08621816128080283\n"
     ]
    },
    {
     "name": "stderr",
     "output_type": "stream",
     "text": [
      " 89%|████████▊ | 1771/2000 [04:29<00:34,  6.65it/s]"
     ]
    },
    {
     "name": "stdout",
     "output_type": "stream",
     "text": [
      "Epoch 1770: train cost = 0.08616054628487202\n"
     ]
    },
    {
     "name": "stderr",
     "output_type": "stream",
     "text": [
      " 89%|████████▉ | 1781/2000 [04:30<00:29,  7.40it/s]"
     ]
    },
    {
     "name": "stdout",
     "output_type": "stream",
     "text": [
      "Epoch 1780: train cost = 0.08602095605938878\n"
     ]
    },
    {
     "name": "stderr",
     "output_type": "stream",
     "text": [
      " 90%|████████▉ | 1791/2000 [04:32<00:28,  7.24it/s]"
     ]
    },
    {
     "name": "stdout",
     "output_type": "stream",
     "text": [
      "Epoch 1790: train cost = 0.08631065338640927\n"
     ]
    },
    {
     "name": "stderr",
     "output_type": "stream",
     "text": [
      " 90%|█████████ | 1801/2000 [04:33<00:25,  7.67it/s]"
     ]
    },
    {
     "name": "stdout",
     "output_type": "stream",
     "text": [
      "Epoch 1800: train cost = 0.08522231664862162\n"
     ]
    },
    {
     "name": "stderr",
     "output_type": "stream",
     "text": [
      " 91%|█████████ | 1811/2000 [04:36<00:50,  3.71it/s]"
     ]
    },
    {
     "name": "stdout",
     "output_type": "stream",
     "text": [
      "Epoch 1810: train cost = 0.0858844172357989\n"
     ]
    },
    {
     "name": "stderr",
     "output_type": "stream",
     "text": [
      " 91%|█████████ | 1821/2000 [04:39<00:31,  5.71it/s]"
     ]
    },
    {
     "name": "stdout",
     "output_type": "stream",
     "text": [
      "Epoch 1820: train cost = 0.08584666963024769\n"
     ]
    },
    {
     "name": "stderr",
     "output_type": "stream",
     "text": [
      " 92%|█████████▏| 1831/2000 [04:40<00:25,  6.53it/s]"
     ]
    },
    {
     "name": "stdout",
     "output_type": "stream",
     "text": [
      "Epoch 1830: train cost = 0.08473218822643304\n"
     ]
    },
    {
     "name": "stderr",
     "output_type": "stream",
     "text": [
      " 92%|█████████▏| 1841/2000 [04:42<00:24,  6.62it/s]"
     ]
    },
    {
     "name": "stdout",
     "output_type": "stream",
     "text": [
      "Epoch 1840: train cost = 0.08625242122461516\n"
     ]
    },
    {
     "name": "stderr",
     "output_type": "stream",
     "text": [
      " 93%|█████████▎| 1851/2000 [04:43<00:20,  7.12it/s]"
     ]
    },
    {
     "name": "stdout",
     "output_type": "stream",
     "text": [
      "Epoch 1850: train cost = 0.08493510563492593\n"
     ]
    },
    {
     "name": "stderr",
     "output_type": "stream",
     "text": [
      " 93%|█████████▎| 1861/2000 [04:45<00:20,  6.69it/s]"
     ]
    },
    {
     "name": "stdout",
     "output_type": "stream",
     "text": [
      "Epoch 1860: train cost = 0.08563262273688889\n"
     ]
    },
    {
     "name": "stderr",
     "output_type": "stream",
     "text": [
      " 94%|█████████▎| 1871/2000 [04:46<00:16,  7.65it/s]"
     ]
    },
    {
     "name": "stdout",
     "output_type": "stream",
     "text": [
      "Epoch 1870: train cost = 0.08629322457431518\n"
     ]
    },
    {
     "name": "stderr",
     "output_type": "stream",
     "text": [
      " 94%|█████████▍| 1881/2000 [04:47<00:16,  7.35it/s]"
     ]
    },
    {
     "name": "stdout",
     "output_type": "stream",
     "text": [
      "Epoch 1880: train cost = 0.08385836329150352\n"
     ]
    },
    {
     "name": "stderr",
     "output_type": "stream",
     "text": [
      " 95%|█████████▍| 1892/2000 [04:49<00:13,  8.08it/s]"
     ]
    },
    {
     "name": "stdout",
     "output_type": "stream",
     "text": [
      "Epoch 1890: train cost = 0.08417529185324618\n"
     ]
    },
    {
     "name": "stderr",
     "output_type": "stream",
     "text": [
      " 95%|█████████▌| 1900/2000 [04:52<00:47,  2.09it/s]"
     ]
    },
    {
     "name": "stdout",
     "output_type": "stream",
     "text": [
      "Epoch 1900: train cost = 0.0853111413469063\n"
     ]
    },
    {
     "name": "stderr",
     "output_type": "stream",
     "text": [
      " 96%|█████████▌| 1911/2000 [04:54<00:15,  5.66it/s]"
     ]
    },
    {
     "name": "stdout",
     "output_type": "stream",
     "text": [
      "Epoch 1910: train cost = 0.08465727461156683\n"
     ]
    },
    {
     "name": "stderr",
     "output_type": "stream",
     "text": [
      " 96%|█████████▌| 1921/2000 [04:56<00:11,  6.80it/s]"
     ]
    },
    {
     "name": "stdout",
     "output_type": "stream",
     "text": [
      "Epoch 1920: train cost = 0.08490669583442842\n"
     ]
    },
    {
     "name": "stderr",
     "output_type": "stream",
     "text": [
      " 97%|█████████▋| 1931/2000 [04:57<00:09,  7.27it/s]"
     ]
    },
    {
     "name": "stdout",
     "output_type": "stream",
     "text": [
      "Epoch 1930: train cost = 0.08506219156546706\n"
     ]
    },
    {
     "name": "stderr",
     "output_type": "stream",
     "text": [
      " 97%|█████████▋| 1941/2000 [05:00<00:10,  5.68it/s]"
     ]
    },
    {
     "name": "stdout",
     "output_type": "stream",
     "text": [
      "Epoch 1940: train cost = 0.08395125833813595\n"
     ]
    },
    {
     "name": "stderr",
     "output_type": "stream",
     "text": [
      " 98%|█████████▊| 1951/2000 [05:02<00:09,  5.22it/s]"
     ]
    },
    {
     "name": "stdout",
     "output_type": "stream",
     "text": [
      "Epoch 1950: train cost = 0.08393484478492572\n"
     ]
    },
    {
     "name": "stderr",
     "output_type": "stream",
     "text": [
      " 98%|█████████▊| 1960/2000 [05:04<00:05,  6.85it/s]"
     ]
    },
    {
     "name": "stdout",
     "output_type": "stream",
     "text": [
      "Epoch 1960: train cost = 0.08495075873333297\n"
     ]
    },
    {
     "name": "stderr",
     "output_type": "stream",
     "text": [
      " 98%|█████████▊| 1970/2000 [05:05<00:03,  7.56it/s]"
     ]
    },
    {
     "name": "stdout",
     "output_type": "stream",
     "text": [
      "Epoch 1970: train cost = 0.08370589074685984\n"
     ]
    },
    {
     "name": "stderr",
     "output_type": "stream",
     "text": [
      " 99%|█████████▉| 1981/2000 [05:07<00:02,  6.83it/s]"
     ]
    },
    {
     "name": "stdout",
     "output_type": "stream",
     "text": [
      "Epoch 1980: train cost = 0.08891043415803161\n"
     ]
    },
    {
     "name": "stderr",
     "output_type": "stream",
     "text": [
      "100%|█████████▉| 1991/2000 [05:08<00:01,  6.09it/s]"
     ]
    },
    {
     "name": "stdout",
     "output_type": "stream",
     "text": [
      "Epoch 1990: train cost = 0.08355274166635529\n"
     ]
    },
    {
     "name": "stderr",
     "output_type": "stream",
     "text": [
      "100%|██████████| 2000/2000 [05:10<00:00,  6.45it/s]"
     ]
    },
    {
     "name": "stdout",
     "output_type": "stream",
     "text": [
      "Epoch 2000: train cost = 0.08409488930893429\n"
     ]
    },
    {
     "name": "stderr",
     "output_type": "stream",
     "text": [
      "\n"
     ]
    },
    {
     "data": {
      "text/plain": "([3083.486905181946,\n  178.53212678058122,\n  78.40409134566413,\n  51.83652978558198,\n  39.34340301648561,\n  32.32213442710097,\n  27.48037792384809,\n  24.10527798125034,\n  21.56076133066166,\n  19.510323624810642,\n  17.77851074611877,\n  16.39216413907965,\n  15.204109533728172,\n  14.268206492979678,\n  13.409408626005204,\n  12.717217815532642,\n  12.089124924475174,\n  11.53759349641745,\n  11.018344867237545,\n  10.54238218818457,\n  10.129537752314052,\n  9.722021848073188,\n  9.336260090609395,\n  8.959465097832336,\n  8.591900341226125,\n  8.254478493927126,\n  7.956853487363875,\n  7.64829131526185,\n  7.378215747571585,\n  7.13816325226302,\n  6.887293252147632,\n  6.669361175618999,\n  6.4643613739028485,\n  6.272225213038601,\n  6.093806372867369,\n  5.906585140557572,\n  5.738901894388215,\n  5.575506542367793,\n  5.421604818712168,\n  5.273753168918193,\n  5.123316583753136,\n  4.983337973038621,\n  4.836758904715926,\n  4.701189711886537,\n  4.591116275241202,\n  4.457296637014813,\n  4.342471028181707,\n  4.247540317260143,\n  4.100177264489643,\n  4.00237946269244,\n  3.8888760042425212,\n  3.781958703791908,\n  3.6922466077565654,\n  3.5969164870818164,\n  3.4983725171291526,\n  3.408426419030941,\n  3.315298328193687,\n  3.2198763907529595,\n  3.143087102547633,\n  3.05146315846443,\n  2.974589487207315,\n  2.9040381688195134,\n  2.8223178083834695,\n  2.7423396128721405,\n  2.675986854474526,\n  2.5983679590031628,\n  2.525326747398972,\n  2.4475392762922374,\n  2.393757629789147,\n  2.3215416152331234,\n  2.251420876767585,\n  2.18594774102109,\n  2.1291014013552543,\n  2.0709315258989767,\n  2.0121357295101623,\n  1.9625206844542784,\n  1.89230173486872,\n  1.8384012146498554,\n  1.8081123618703254,\n  1.7566151863549229,\n  1.6752578003460252,\n  1.6289546509682435,\n  1.5802363161875885,\n  1.5533798223040722,\n  1.4957346351001255,\n  1.4451475110866137,\n  1.4284214815679905,\n  1.3653127422308207,\n  1.3312299049980456,\n  1.2892266604923763,\n  1.2552223068753579,\n  1.217485998215623,\n  1.1749299334560024,\n  1.141845145821432,\n  1.1091582203693497,\n  1.0815115480725979,\n  1.043423496988526,\n  1.0142957042256129,\n  0.9853572889731069,\n  0.9691181613050707,\n  0.9326797364541,\n  0.9066299927781944,\n  0.8896581404256908,\n  0.8660109428521716,\n  0.8422051833625255,\n  0.824348320166766,\n  0.7959085431648418,\n  0.76947353573065,\n  0.7509494484695334,\n  0.7364104738526817,\n  0.7156354306695986,\n  0.6981763215824472,\n  0.6802546311258796,\n  0.6646596182127268,\n  0.641602590132963,\n  0.6356195338353767,\n  0.6187832580819878,\n  0.6041277317594294,\n  0.5816168103040649,\n  0.5872408927581645,\n  0.5600119043887445,\n  0.5648303201917421,\n  0.5416337523909253,\n  0.5251800254886249,\n  0.5119963608760499,\n  0.5045660373032308,\n  0.4893196934785185,\n  0.4797022745009114,\n  0.46973587389173127,\n  0.4582132408944511,\n  0.4518001146619522,\n  0.4396255815493311,\n  0.4316913889869048,\n  0.4266565608254679,\n  0.4252539162239948,\n  0.40687036544923266,\n  0.4047106075925453,\n  0.38988241634602344,\n  0.38397134927261223,\n  0.3782002921469609,\n  0.37744272947438917,\n  0.3688960930258446,\n  0.3616745871517372,\n  0.36612322012247817,\n  0.3522873575240915,\n  0.3446305199680493,\n  0.34360190376662286,\n  0.33069393363033406,\n  0.3197618869453536,\n  0.3199666184835742,\n  0.31862706106984867,\n  0.31183337734625927,\n  0.31027063755076106,\n  0.2994110352225177,\n  0.3123001720931021,\n  0.28954773633301206,\n  0.2919890599798447,\n  0.28661377347523775,\n  0.2761445813439743,\n  0.27619137910752856,\n  0.27085892896932734,\n  0.2706369582170899,\n  0.26543003452388797,\n  0.26410594027634854,\n  0.2728734433123601,\n  0.27139269194776205,\n  0.2549017839944133,\n  0.2552936897997071,\n  0.2529013407304381,\n  0.24559110860534242,\n  0.24311932544737747,\n  0.23849194777390334,\n  0.23586207478973767,\n  0.2407269265372676,\n  0.24046401973014805,\n  0.22946489433966102,\n  0.22618441352713822,\n  0.23697531784430464,\n  0.22648669945185568,\n  0.2215291756793516,\n  0.2282042337063341,\n  0.22183384419994284,\n  0.21554912662739775,\n  0.21078896735869318,\n  0.2278212821757232,\n  0.20943408804163652,\n  0.21011947367236822,\n  0.2082646400040519,\n  0.20569313554876362,\n  0.20288316741693385,\n  0.20803646213059762,\n  0.19910587434230936,\n  0.20126876652814576,\n  0.19421563385790708,\n  0.19573590472584704,\n  0.19896693901493887,\n  0.2066721402981042,\n  0.19532745957385816,\n  0.19057604248146237,\n  0.1925651910903937,\n  0.1898749616568951,\n  0.19013347598164643,\n  0.18820719326611193,\n  0.1865025605577524,\n  0.18627503257002778,\n  0.18206360838456942,\n  0.17973712503742847,\n  0.18624426630686694,\n  0.18481274085502603,\n  0.1766735705940259,\n  0.17447137742236568,\n  0.17500768181002335,\n  0.17698140585669703,\n  0.17140795189899502,\n  0.17546293785367237,\n  0.17435053425087993,\n  0.170383022473176,\n  0.17740464912646467,\n  0.17786372433214248,\n  0.16783215614851935,\n  0.1655120311367672,\n  0.16703950651132507,\n  0.16659194279300624,\n  0.16347460791467705,\n  0.161797930529929,\n  0.16291848392611644,\n  0.16383074275319076,\n  0.1617822763500643,\n  0.16111308782979034,\n  0.16235767975820567,\n  0.18444181147835276,\n  0.17435663239262494,\n  0.1579923012752382,\n  0.15710442441414302,\n  0.15581957547825084,\n  0.15955649314889467,\n  0.16334195245326658,\n  0.15483222231664617,\n  0.15721163108357178,\n  0.15462137721172098,\n  0.15229534929759742,\n  0.15885184789515538,\n  0.15554243558651445,\n  0.15252170503713997,\n  0.15330686463820659,\n  0.15101090379912102,\n  0.15419685711563874,\n  0.1510974575871873,\n  0.14942201547218947,\n  0.14984098181426464,\n  0.15726506784819522,\n  0.1516255684626391,\n  0.14867392219483974,\n  0.14768474005154925,\n  0.14970754470688688,\n  0.15012312491940247,\n  0.15227304673847164,\n  0.1720236270412977,\n  0.1517736111585539,\n  0.14352249089380323,\n  0.14865815946243222,\n  0.14853358867485214,\n  0.14698420397118492,\n  0.1473456650422054,\n  0.1466633436990971,\n  0.14524844936420997,\n  0.14346355910535266,\n  0.14169915945414088,\n  0.14363990886474404,\n  0.1481546771619379,\n  0.15510666457997443,\n  0.15625951286613524,\n  0.13918785418287116,\n  0.14000366503543163,\n  0.14034380915064204,\n  0.13969861321918922,\n  0.14137069824041112,\n  0.14103800395940413,\n  0.13982948026795683,\n  0.13945653371807412,\n  0.13916508280686388,\n  0.14641991483842937,\n  0.1406821781571808,\n  0.13701984486986854,\n  0.14053251171511938,\n  0.14889549360525683,\n  0.1524275686439821,\n  0.1388093479141219,\n  0.13631736058113403,\n  0.1351072302315288,\n  0.13680513392565805,\n  0.137249139513034,\n  0.13922363141750135,\n  0.13921443268876607,\n  0.13337971367391452,\n  0.13512682768782716,\n  0.13277062219733451,\n  0.13816652392725476,\n  0.1351534186839893,\n  0.13703988225911595,\n  0.13682025348561666,\n  0.13317405432605345,\n  0.1338382735795842,\n  0.13366945598918853,\n  0.13324227147655185,\n  0.1307366016771694,\n  0.13548991411288924,\n  0.13225421698324627,\n  0.13159662848418124,\n  0.12994384460201022,\n  0.1343442896449193,\n  0.13169387800038915,\n  0.13219094306269294,\n  0.13186901967426976,\n  0.13442936036260736,\n  0.1316381181128115,\n  0.13599341512135885,\n  0.13089674926358338,\n  0.13092338734969342,\n  0.13202345696924833,\n  0.13178707800611944,\n  0.13003111763852737,\n  0.1367151792039775,\n  0.12829006423604564,\n  0.13571550687317613,\n  0.12769818374515768,\n  0.12816332480466358,\n  0.13057000531521065,\n  0.1301548406076362,\n  0.13852922293906902,\n  0.13442446115634685,\n  0.12746875797402762,\n  0.12605360885982705,\n  0.12625384411921178,\n  0.12658329576758906,\n  0.1274557880784302,\n  0.132151183878165,\n  0.12983525325379186,\n  0.1261473324532888,\n  0.12793765842778665,\n  0.1245839625124927,\n  0.12556051541288712,\n  0.12477947856571121,\n  0.1243658626146554,\n  0.12557116703402074,\n  0.12680831725216168,\n  0.12419858317342777,\n  0.12550255182438333,\n  0.12621696126394105,\n  0.13330748188947772,\n  0.1354958087443666,\n  0.12428908818703623,\n  0.12791389789936897,\n  0.12461723451195374,\n  0.12271261422249546,\n  0.12728199003663035,\n  0.12285940244443867,\n  0.1237713122608872,\n  0.12537381713006027,\n  0.1218283123061693,\n  0.12243273543455867,\n  0.12199634962230602,\n  0.12650182317541478,\n  0.1305714302901207,\n  0.1284405720926624,\n  0.12322892662433532,\n  0.12139338635321814,\n  0.12193388581077302,\n  0.12220870824468724,\n  0.12437247758833621,\n  0.12327456447656554,\n  0.1227738860911388,\n  0.122674703796472,\n  0.12178590366110019,\n  0.1216561622879236,\n  0.12250358559949523,\n  0.1251404319035683,\n  0.1231072867126903,\n  0.12268257839703743,\n  0.12517420120148867,\n  0.12625217731408545,\n  0.11981445902736121,\n  0.11866037863566962,\n  0.12031856329498608,\n  0.12384147708040164,\n  0.11989141567748293,\n  0.118263922609682,\n  0.1189190197705899,\n  0.12510982191526718,\n  0.11942804500672274,\n  0.11951504661514613,\n  0.12226756607242319,\n  0.11983058594275386,\n  0.1282125451378958,\n  0.11790310690729426,\n  0.12341264051441037,\n  0.12057458932241238,\n  0.12009838695590572,\n  0.11834750860529632,\n  0.12177530224704755,\n  0.12169208695613379,\n  0.12086989305021459,\n  0.11928121830832679,\n  0.1202250474028444,\n  0.11884862229888447,\n  0.12152502441800256,\n  0.12264156231082814,\n  0.11770917379833894,\n  0.12071994416897902,\n  0.11741601467460352,\n  0.11870801248061054,\n  0.11626827082138359,\n  0.12273074514908446,\n  0.12101754851509838,\n  0.12024434193579184,\n  0.12065609979562822,\n  0.11952438682168778,\n  0.11774140440177637,\n  0.11760717928792884,\n  0.1258177413357951,\n  0.1170120814783461,\n  0.116676638366553,\n  0.11553256963909186,\n  0.11781929235154022,\n  0.11657868048893427,\n  0.1350093978455154,\n  0.1253047883560717,\n  0.11515559078114776,\n  0.1180180110741384,\n  0.11717886782455168,\n  0.11491383593371421,\n  0.11429789035215131,\n  0.11531069158324153,\n  0.11515519134287884,\n  0.11631020021430091,\n  0.11385476788527103,\n  0.11549832597558525,\n  0.12246286261302533,\n  0.11507336519011648,\n  0.11310906417738492,\n  0.11405163239210793,\n  0.11496747074941449,\n  0.11539239382114812,\n  0.11591311296753079,\n  0.11598856771934597,\n  0.1132614950156211,\n  0.11344192723351883,\n  0.11909977099089529,\n  0.11439984742512038,\n  0.11677001918716559,\n  0.11833116335912743,\n  0.1163808515717068,\n  0.11470384964288474,\n  0.11269294748585848,\n  0.1183433411635463,\n  0.11723957691596909,\n  0.11294362969657788,\n  0.11349729407861837,\n  0.11333017109793943,\n  0.1167690136884469,\n  0.11794807346610497,\n  0.11332308261086324,\n  0.1150978926908933,\n  0.11849537315664448,\n  0.1145868133736286,\n  0.11389761376963828,\n  0.11190249644178998,\n  0.11157791958426608,\n  0.11189694292073542,\n  0.11276881476405444,\n  0.1218030636047758,\n  0.11755683809439735,\n  0.1119202574452312,\n  0.11331533200686307,\n  0.11478258417681901,\n  0.11162915142160604,\n  0.11090506938297007,\n  0.11664876090463559,\n  0.11164211180723407,\n  0.11109657145133636,\n  0.11084759292094852,\n  0.11167306992542088,\n  0.11381248949823525,\n  0.11300882317923358,\n  0.1104887939505886,\n  0.11448653392208974,\n  0.1107606751726025,\n  0.1125798756372483,\n  0.111965938772035,\n  0.11113584053645136,\n  0.11190512925158956,\n  0.11147272121414249,\n  0.117227633765821,\n  0.11246955145933966,\n  0.11411385496377437,\n  0.11040878327529595,\n  0.11159484560029334,\n  0.11025624760447345,\n  0.11278071529912798,\n  0.11320786584954871,\n  0.1101360365836139,\n  0.11807630747555639,\n  0.11033888758520712,\n  0.10918543156660022,\n  0.11474619498678808,\n  0.1109140269346104,\n  0.11060225397631566,\n  0.11083244887584147,\n  0.11121750883747046,\n  0.11303973960824407,\n  0.11049489335179917,\n  0.10929858297153097,\n  0.1101638034162436,\n  0.10841530094319052,\n  0.11393665466473117,\n  0.11781840534704242,\n  0.1119467084907158,\n  0.11367642682530962,\n  0.110996927188631,\n  0.11212955639476602,\n  0.10924766962696308,\n  0.11007358685546256,\n  0.11304576678209774,\n  0.11229753690506857,\n  0.11065183267280555,\n  0.11312719975895562,\n  0.10877761582757738,\n  0.10903480835081993,\n  0.10852043789879384,\n  0.10770576703310657,\n  0.11077518498389767,\n  0.11036717519156188,\n  0.1077997440558802,\n  0.1112379213918654,\n  0.11002886073592519,\n  0.1092336359783846,\n  0.11184092613260117,\n  0.10991252930605032,\n  0.1091914801066581,\n  0.11047277340593072,\n  0.10846184058828191,\n  0.10792344159406747,\n  0.10900907469783157,\n  0.11060879486762756,\n  0.1080062506436781,\n  0.10979582456780594,\n  0.10845701160685808,\n  0.11088993460077683,\n  0.10835360394628944,\n  0.11411814788525515,\n  0.11055667633529985,\n  0.1269288428825685,\n  0.1092537897622332,\n  0.10774662510374143,\n  0.11091674945674418,\n  0.1098477474925847,\n  0.10671145338001174,\n  0.10769856500087219,\n  0.10786783175923723,\n  0.11009568605934156,\n  0.10718896638144647,\n  0.10876576293186649,\n  0.10669388048568716,\n  0.10831852152628518,\n  0.10961305182793367,\n  0.1101484340857253,\n  0.10709475540998402,\n  0.10932101425656861,\n  0.1084720962210546,\n  0.10937019864667004,\n  0.10689411210872327,\n  0.11184857782438132,\n  0.10775240075451865,\n  0.11297854794826931,\n  0.10763090097892429,\n  0.10628988338742679,\n  0.10772137752471793,\n  0.10671211762539459,\n  0.11255397245273438,\n  0.10638856919771204,\n  0.10768476273775889,\n  0.10856121272187448,\n  0.10675867714573305,\n  0.10701452000913994,\n  0.10703487060639194,\n  0.10620326609250909,\n  0.10587864379858132,\n  0.10653308689436224,\n  0.10716683011962105,\n  0.10711110486252116,\n  0.10576815478519072,\n  0.10617097923508911,\n  0.10591837415325339,\n  0.10593539888817405,\n  0.11023443879278086,\n  0.10971963509056684,\n  0.10990106969554822,\n  0.10624825240102585,\n  0.10874876125312015,\n  0.10673405984550273,\n  0.10636094727455266,\n  0.10799661306373466,\n  0.11420809519480488,\n  0.11243222164546725,\n  0.10622329397251801,\n  0.10639578609463225,\n  0.10525143803588334,\n  0.10663178140193814,\n  0.10917726050989328,\n  0.10497208690435123,\n  0.10667505035696533,\n  0.10616142515403791,\n  0.10927646852107391,\n  0.10799466836610556,\n  0.10748496402888674,\n  0.10383648370392333,\n  0.10844137993910676,\n  0.1058414889451495,\n  0.10525045237029242,\n  0.10526948606796589,\n  0.10574367541721096,\n  0.107389551729593,\n  0.10710213258340473,\n  0.10499592355233138,\n  0.10467384493422037,\n  0.1118751343722362,\n  0.1058284800978321,\n  0.10497898766846658,\n  0.10568828289826744,\n  0.1037051377791528,\n  0.10447154182900038,\n  0.10509536354389075,\n  0.108473253696123,\n  0.10591013397821267,\n  0.10508725419477369,\n  0.10485537434782663,\n  0.10366489932282,\n  0.10550195448136412,\n  0.10545831310817828,\n  0.10692185506387247,\n  0.10436494668095693,\n  0.10497069891714632,\n  0.10676798858051059,\n  0.10576567825734724,\n  0.10473697608804124,\n  0.10405486093716367,\n  0.10455896551597332,\n  0.10551655209814889,\n  0.10604225407549102,\n  0.10626232150699887,\n  0.10470628964405958,\n  0.1056666154987904,\n  0.10815008223357478,\n  0.10452994229456022,\n  0.10601878836662854,\n  0.10420059832642917,\n  0.10343986518671365,\n  0.10583828691464688,\n  0.10329817329253618,\n  0.10450349431772654,\n  0.10594025404193334,\n  0.10284390079325519,\n  0.10507136414326256,\n  0.10609819276449922,\n  0.10421830918414904,\n  0.10659925880756374,\n  0.11011542263456905,\n  0.10211350121084219,\n  0.10308156096290522,\n  0.10784525918559003,\n  0.10315667482654442,\n  0.10259350755875583,\n  0.10278042525545876,\n  0.10284634470214546,\n  0.10325235626658061,\n  0.1043943632718683,\n  0.10483419268007255,\n  0.11250027915117357,\n  0.10342587683506228,\n  0.10244429901250117,\n  0.10282835906519813,\n  0.10343160794892677,\n  0.10443716921070342,\n  0.10219701209610733,\n  0.10391082961765565,\n  0.10562646561158842,\n  0.10555301503881605,\n  0.10199496321594655,\n  0.10483086338928745,\n  0.10123082502157503,\n  0.10462923370158385,\n  0.10321031511847754,\n  0.1065160484856634,\n  0.10153385082658212,\n  0.10141792568376494,\n  0.10147534443340411,\n  0.10255136211073977,\n  0.10348142762647032,\n  0.10372134619914739,\n  0.10409663783009007,\n  0.10294972841740815,\n  0.10233606118353111,\n  0.1021817215277809,\n  0.10235480325146169,\n  0.10415116217002064,\n  0.10225187319592702,\n  0.10640749638506541,\n  0.10187320627279384,\n  0.10373027448676163,\n  0.10093368798912704,\n  0.10384218518842075,\n  0.10266201170335962,\n  0.10155961262008688,\n  0.10443809841027883,\n  0.1025078303598522,\n  0.10326104640825853,\n  0.10252451828644615,\n  0.10319939296063109,\n  0.102652340482734,\n  0.10102398860368121,\n  0.10381586328883781,\n  0.10252866463340847,\n  0.10200471539720844,\n  0.10246935527607702,\n  0.10383809523482282,\n  0.10305087335149435,\n  0.10143911487993115,\n  0.10099214674706258,\n  0.10081298990596313,\n  0.10131205188450959,\n  0.10145366089200974,\n  0.10276105655126182,\n  0.10110859625989964,\n  0.10113837325308153,\n  0.1016825272219232,\n  0.10045618541489766,\n  0.10686223106507309,\n  0.10236806640355144,\n  0.09953457889859876,\n  0.1003006034579631,\n  0.10096464916478447,\n  0.10064645613234603,\n  0.10182580481108293,\n  0.10039698065766015,\n  0.10196701687263543,\n  0.10055626512650905,\n  0.1017434912944415,\n  0.10282675105712115,\n  0.09983589441824393,\n  0.10491095288833802,\n  0.10089202731271098,\n  0.10085450855622509,\n  0.10015897498036998,\n  0.10023760711052634,\n  0.09848220611676277,\n  0.09999273491702103,\n  0.10173535843097505,\n  0.10116977858763583,\n  0.10455631435777497,\n  0.10480720173565489,\n  0.09984933677688647,\n  0.09986016983041844,\n  0.10222619830675775,\n  0.10107861130654255,\n  0.09965657277732483,\n  0.10097219450086745,\n  0.10185030012448605,\n  0.10071653359753767,\n  0.10048279690271508,\n  0.10037931712396146,\n  0.0995436133791832,\n  0.10102414541417723,\n  0.10055560851335664,\n  0.10070357009461374,\n  0.10126868922672135,\n  0.09953414832600001,\n  0.10299587611484778,\n  0.10440939509494804,\n  0.09969977499342464,\n  0.09876391226640698,\n  0.10088606374632052,\n  0.10016339388758894,\n  0.09948688241842163,\n  0.0995031722183399,\n  0.10115084637002449,\n  0.09991494132215688,\n  0.10090907477704567,\n  0.09859837584912962,\n  0.099161820219542,\n  0.0992427969730781,\n  0.10143145260121583,\n  0.09944919489178237,\n  0.0991477959558745,\n  0.09976741598897446,\n  0.0983512917493582,\n  0.10048956087488024,\n  0.09883550402930084,\n  0.10126153543112104,\n  0.09837958510107338,\n  0.10031253490615465,\n  0.10210056803275211,\n  0.09990021523593334,\n  0.09832601487670338,\n  0.09836401905589277,\n  0.09837177893197654,\n  0.10131717541539904,\n  0.09989633184059478,\n  0.09950410615578337,\n  0.09871116149091638,\n  0.10036996084120287,\n  0.09793211405069224,\n  0.09841540923254756,\n  0.09780429535535579,\n  0.10028478199094912,\n  0.09981151356421886,\n  0.10256190585585112,\n  0.09827452915269991,\n  0.0985060219550943,\n  0.10029829860750246,\n  0.09825550653820293,\n  0.1005195317087612,\n  0.10030535883161157,\n  0.09854689566045519,\n  0.09771824173145498,\n  0.09797202765897225,\n  0.09810803024284011,\n  0.1011800275255114,\n  0.10099331831102676,\n  0.10265240654030507,\n  0.10085942048316303,\n  0.09795509991356793,\n  0.09765260392697413,\n  0.09730489983717043,\n  0.09830597291743494,\n  0.09771028206007783,\n  0.09833337826570235,\n  0.09885415016918332,\n  0.10039633994000989,\n  0.09693487116490333,\n  0.09876937938678045,\n  0.09785702456099887,\n  0.09802483726559372,\n  0.09778215055676828,\n  0.10042713551584556,\n  0.09965616643285306,\n  0.09735327171568936,\n  0.1004310166022385,\n  0.09639879717521957,\n  0.09777543365913184,\n  0.09712243384254751,\n  0.0983196378966694,\n  0.0992089064353053,\n  0.0981821412303014,\n  0.09643666789143157,\n  0.09732317517706297,\n  0.09977125544069002,\n  0.09692421160937306,\n  0.09743372615217694,\n  0.09832976284148404,\n  0.09804075829457164,\n  0.09919977099667253,\n  0.09816888948928815,\n  0.09783165735548464,\n  0.09623796722894869,\n  0.09889769529118596,\n  0.09786710488817948,\n  0.0979384010472172,\n  0.09756804054074693,\n  0.0999080076367401,\n  0.1038803146992128,\n  0.09836492865604775,\n  0.09644095733131568,\n  0.09708418987735315,\n  0.09645828896052691,\n  0.10179061130803217,\n  0.098027684976931,\n  0.0980833142149891,\n  0.09672256780777064,\n  0.09761491022442052,\n  0.0974624953506897,\n  0.09813582542508519,\n  0.09739214785465998,\n  0.09792027550790768,\n  0.0963842158161488,\n  0.09853829953333562,\n  0.1038245513602634,\n  0.09640188521771455,\n  0.09769701795331404,\n  0.09738215894435198,\n  0.09593913573433818,\n  0.09674968357190206,\n  0.10017366373939678,\n  0.09733203887275846,\n  0.0973717616399155,\n  0.09726338560040895,\n  0.09775192828726452,\n  0.09645346912575184,\n  0.09703425584523355,\n  0.09787233945821586,\n  0.09626198793925349,\n  0.09757966280247761,\n  0.09749682875275814,\n  0.09656735993448025,\n  0.09607552930803315,\n  0.09684810696492469,\n  0.09635149714438622,\n  0.09669378339059838,\n  0.09597361564131694,\n  0.09908585064496055,\n  0.09650821284967968,\n  0.0980985339898993,\n  0.09715336419404877,\n  0.09615911180001879,\n  0.09608211266341843,\n  0.09630006407925668,\n  0.09693884616432313,\n  0.09640084682530423,\n  0.09595005860572697,\n  0.0969783591485934,\n  0.09659061099026135,\n  0.0999470021881038,\n  0.10018715344834311,\n  0.0970690557476693,\n  0.09609801169436682,\n  0.09895182123912231,\n  0.09645070452380995,\n  0.09667031768061116,\n  0.09722786622320641,\n  0.09530908668674652,\n  0.0963243569263577,\n  0.09839911351788083,\n  0.09764301788139097,\n  0.09521257702042353,\n  0.09646569820144679,\n  0.0969006231033865,\n  0.09656812027002562,\n  0.09654121791009128,\n  0.09777230453337397,\n  0.09595656080646962,\n  0.0965109897734969,\n  0.09630606958283977,\n  0.09609355653080581,\n  0.09519810657124254,\n  0.0959817647695656,\n  0.09722994215739499,\n  0.09741637833309374,\n  0.09522992255433385,\n  0.09497693918529902,\n  0.09578966880204304,\n  0.09648006801317198,\n  0.09610534324748966,\n  0.09644799597400185,\n  0.1054556587673292,\n  0.0961864423939829,\n  0.09514929209116624,\n  0.09417487322801278,\n  0.09687598821426123,\n  0.09533091271658654,\n  0.09496341859958396,\n  0.09417057465367315,\n  0.09792564959248738,\n  0.09664277464338084,\n  0.09669802856895708,\n  0.09502242341993221,\n  0.0961434376836312,\n  0.09717845126890086,\n  0.09610030098295269,\n  0.09633681510328541,\n  0.09481594583688348,\n  0.0963464108646775,\n  0.09537500018235738,\n  0.09403830391332238,\n  0.09527564708635507,\n  0.09451106921025705,\n  0.10302917865670914,\n  0.09821737037228213,\n  0.09463362271576815,\n  0.09668138094703344,\n  0.094497102558426,\n  0.0940268522361401,\n  0.09642673658244436,\n  0.094601558749006,\n  0.09681832240741442,\n  0.0970567902738204,\n  0.0958875215071396,\n  0.09506214710435403,\n  0.09621747203634823,\n  0.0943205047428281,\n  0.0940364181704254,\n  0.09474232252078905,\n  0.09713964686933232,\n  0.09517144828090514,\n  0.09481089766208856,\n  0.0954987544084242,\n  0.09611762896195948,\n  0.09455628094476015,\n  0.09484226566632355,\n  0.0984373160759421,\n  0.09371924037786648,\n  0.09523099972257378,\n  ...],\n [])"
     },
     "execution_count": 4,
     "metadata": {},
     "output_type": "execute_result"
    }
   ],
   "source": [
    "layer1 = FC(8,64,\"l1\")\n",
    "layer2=FC(64,32,\"l2\")\n",
    "layer3=FC(32,1,\"l3\")\n",
    "act1 = ReLU()\n",
    "act2= ReLU()\n",
    "act3= LinearActivation()\n",
    "arch = {\"l1\" : layer1,\n",
    "        \"a1\" : act1,\n",
    "        \"l2\" : layer2,\n",
    "        \"a2\" : act2,\n",
    "        \"l3\":layer3,\n",
    "        \"a3\":act3\n",
    "        }\n",
    "layers_list =  {\"l1\":  layer1, \"l2\": layer2,\"l3\":layer3}\n",
    "criterion = MeanSquaredError()\n",
    "optimizer = Adam(layers_list)\n",
    "model = Model(arch,criterion,optimizer)\n",
    "model.train(X.T,y.T,epochs=2000, batch_size=200, verbose=10, shuffling=True)"
   ],
   "metadata": {
    "collapsed": false,
    "ExecuteTime": {
     "end_time": "2023-06-05T13:29:03.978447Z",
     "start_time": "2023-06-05T13:23:53.709722Z"
    }
   }
  },
  {
   "cell_type": "code",
   "execution_count": 5,
   "outputs": [
    {
     "data": {
      "text/plain": "0.13173935891990873"
     },
     "execution_count": 5,
     "metadata": {},
     "output_type": "execute_result"
    }
   ],
   "source": [
    "test_features = test_data[:]\n",
    "scaler2 = StandardScaler()\n",
    "normalized_test= scaler2.fit_transform(test_features)\n",
    "normalized_test = pd.DataFrame(normalized_test)\n",
    "X_test=normalized_test.iloc[:,0:8].values\n",
    "y_test = normalized_test.iloc[:,8].to_frame()\n",
    "arr = y_test.values\n",
    "y_test =  arr.reshape(-1,1)\n",
    "y_pred = model.predict(X_test.T)\n",
    "cost =np.mean(np.square(y_pred.T - y_test)) / 2\n",
    "cost"
   ],
   "metadata": {
    "collapsed": false,
    "ExecuteTime": {
     "end_time": "2023-06-05T13:29:04.048040Z",
     "start_time": "2023-06-05T13:29:03.990863Z"
    }
   }
  },
  {
   "cell_type": "code",
   "execution_count": 8,
   "outputs": [],
   "source": [
    "model.save('task1_model')"
   ],
   "metadata": {
    "collapsed": false,
    "ExecuteTime": {
     "end_time": "2023-06-05T13:31:29.816661Z",
     "start_time": "2023-06-05T13:31:29.806396Z"
    }
   }
  }
 ],
 "metadata": {
  "kernelspec": {
   "display_name": "Python 3",
   "language": "python",
   "name": "python3"
  },
  "language_info": {
   "codemirror_mode": {
    "name": "ipython",
    "version": 2
   },
   "file_extension": ".py",
   "mimetype": "text/x-python",
   "name": "python",
   "nbconvert_exporter": "python",
   "pygments_lexer": "ipython2",
   "version": "2.7.6"
  }
 },
 "nbformat": 4,
 "nbformat_minor": 0
}
