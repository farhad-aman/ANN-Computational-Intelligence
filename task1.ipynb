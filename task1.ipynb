{
 "cells": [
  {
   "cell_type": "code",
   "execution_count": 26,
   "metadata": {
    "collapsed": true,
    "ExecuteTime": {
     "end_time": "2023-06-05T15:51:15.994329Z",
     "start_time": "2023-06-05T15:51:15.991108Z"
    }
   },
   "outputs": [],
   "source": [
    "import pandas as pd\n",
    "import numpy as np\n",
    "from sklearn.preprocessing import StandardScaler\n",
    "from layers.fullyconnected import FC\n",
    "from activations import ReLU,LinearActivation\n",
    "from losses.meansquarederror import MeanSquaredError\n",
    "from optimizers.adam import Adam\n",
    "from model import Model"
   ]
  },
  {
   "cell_type": "code",
   "execution_count": 27,
   "outputs": [
    {
     "data": {
      "text/plain": "   longitude  latitude  housing_median_age  total_rooms  total_bedrooms  \\\n0    -122.05     37.37                27.0       3885.0           661.0   \n1    -118.30     34.26                43.0       1510.0           310.0   \n2    -117.81     33.78                27.0       3589.0           507.0   \n3    -118.36     33.82                28.0         67.0            15.0   \n4    -119.67     36.33                19.0       1241.0           244.0   \n\n   population  households  median_income  median_house_value  \n0      1537.0       606.0         6.6085            344700.0  \n1       809.0       277.0         3.5990            176500.0  \n2      1484.0       495.0         5.7934            270500.0  \n3        49.0        11.0         6.1359            330000.0  \n4       850.0       237.0         2.9375             81700.0  ",
      "text/html": "<div>\n<style scoped>\n    .dataframe tbody tr th:only-of-type {\n        vertical-align: middle;\n    }\n\n    .dataframe tbody tr th {\n        vertical-align: top;\n    }\n\n    .dataframe thead th {\n        text-align: right;\n    }\n</style>\n<table border=\"1\" class=\"dataframe\">\n  <thead>\n    <tr style=\"text-align: right;\">\n      <th></th>\n      <th>longitude</th>\n      <th>latitude</th>\n      <th>housing_median_age</th>\n      <th>total_rooms</th>\n      <th>total_bedrooms</th>\n      <th>population</th>\n      <th>households</th>\n      <th>median_income</th>\n      <th>median_house_value</th>\n    </tr>\n  </thead>\n  <tbody>\n    <tr>\n      <th>0</th>\n      <td>-122.05</td>\n      <td>37.37</td>\n      <td>27.0</td>\n      <td>3885.0</td>\n      <td>661.0</td>\n      <td>1537.0</td>\n      <td>606.0</td>\n      <td>6.6085</td>\n      <td>344700.0</td>\n    </tr>\n    <tr>\n      <th>1</th>\n      <td>-118.30</td>\n      <td>34.26</td>\n      <td>43.0</td>\n      <td>1510.0</td>\n      <td>310.0</td>\n      <td>809.0</td>\n      <td>277.0</td>\n      <td>3.5990</td>\n      <td>176500.0</td>\n    </tr>\n    <tr>\n      <th>2</th>\n      <td>-117.81</td>\n      <td>33.78</td>\n      <td>27.0</td>\n      <td>3589.0</td>\n      <td>507.0</td>\n      <td>1484.0</td>\n      <td>495.0</td>\n      <td>5.7934</td>\n      <td>270500.0</td>\n    </tr>\n    <tr>\n      <th>3</th>\n      <td>-118.36</td>\n      <td>33.82</td>\n      <td>28.0</td>\n      <td>67.0</td>\n      <td>15.0</td>\n      <td>49.0</td>\n      <td>11.0</td>\n      <td>6.1359</td>\n      <td>330000.0</td>\n    </tr>\n    <tr>\n      <th>4</th>\n      <td>-119.67</td>\n      <td>36.33</td>\n      <td>19.0</td>\n      <td>1241.0</td>\n      <td>244.0</td>\n      <td>850.0</td>\n      <td>237.0</td>\n      <td>2.9375</td>\n      <td>81700.0</td>\n    </tr>\n  </tbody>\n</table>\n</div>"
     },
     "execution_count": 27,
     "metadata": {},
     "output_type": "execute_result"
    }
   ],
   "source": [
    "train_data = pd.read_csv('datasets/california_houses_price/california_housing_train.csv')\n",
    "test_data = pd.read_csv('datasets/california_houses_price/california_housing_test.csv')\n",
    "train_data.head(5)\n",
    "test_data.head(5)"
   ],
   "metadata": {
    "collapsed": false,
    "ExecuteTime": {
     "end_time": "2023-06-05T15:51:16.514529Z",
     "start_time": "2023-06-05T15:51:16.480757Z"
    }
   }
  },
  {
   "cell_type": "code",
   "execution_count": 28,
   "outputs": [
    {
     "name": "stdout",
     "output_type": "stream",
     "text": [
      "(17000, 8)\n",
      "(17000, 1)\n"
     ]
    }
   ],
   "source": [
    "scaler = StandardScaler()\n",
    "normalized_train = pd.DataFrame(scaler.fit_transform(train_data))\n",
    "X_train = normalized_train.iloc[:, 0:8].values\n",
    "y_train = normalized_train.iloc[:, 8].to_frame().values.reshape(-1, 1)\n",
    "print(X_train.shape)\n",
    "print(y_train.shape)"
   ],
   "metadata": {
    "collapsed": false,
    "ExecuteTime": {
     "end_time": "2023-06-05T15:51:18.013756Z",
     "start_time": "2023-06-05T15:51:17.999553Z"
    }
   }
  },
  {
   "cell_type": "code",
   "execution_count": 29,
   "outputs": [
    {
     "name": "stderr",
     "output_type": "stream",
     "text": [
      "  1%|          | 11/2000 [00:02<09:56,  3.33it/s]"
     ]
    },
    {
     "name": "stdout",
     "output_type": "stream",
     "text": [
      "Epoch 10: train cost = 13.079680717918869\n"
     ]
    },
    {
     "name": "stderr",
     "output_type": "stream",
     "text": [
      "  1%|          | 21/2000 [00:03<03:33,  9.27it/s]"
     ]
    },
    {
     "name": "stdout",
     "output_type": "stream",
     "text": [
      "Epoch 20: train cost = 6.792572789583008\n"
     ]
    },
    {
     "name": "stderr",
     "output_type": "stream",
     "text": [
      "  2%|▏         | 31/2000 [00:04<03:09, 10.36it/s]"
     ]
    },
    {
     "name": "stdout",
     "output_type": "stream",
     "text": [
      "Epoch 30: train cost = 4.4506523384284336\n"
     ]
    },
    {
     "name": "stderr",
     "output_type": "stream",
     "text": [
      "  2%|▏         | 41/2000 [00:05<02:52, 11.38it/s]"
     ]
    },
    {
     "name": "stdout",
     "output_type": "stream",
     "text": [
      "Epoch 40: train cost = 3.096925087516663\n"
     ]
    },
    {
     "name": "stderr",
     "output_type": "stream",
     "text": [
      "  3%|▎         | 51/2000 [00:05<02:48, 11.53it/s]"
     ]
    },
    {
     "name": "stdout",
     "output_type": "stream",
     "text": [
      "Epoch 50: train cost = 2.2168812025949194\n"
     ]
    },
    {
     "name": "stderr",
     "output_type": "stream",
     "text": [
      "  3%|▎         | 60/2000 [00:07<04:46,  6.76it/s]"
     ]
    },
    {
     "name": "stdout",
     "output_type": "stream",
     "text": [
      "Epoch 60: train cost = 1.6059284135231284\n"
     ]
    },
    {
     "name": "stderr",
     "output_type": "stream",
     "text": [
      "  4%|▎         | 71/2000 [00:09<06:53,  4.66it/s]"
     ]
    },
    {
     "name": "stdout",
     "output_type": "stream",
     "text": [
      "Epoch 70: train cost = 1.1762311931973175\n"
     ]
    },
    {
     "name": "stderr",
     "output_type": "stream",
     "text": [
      "  4%|▍         | 81/2000 [00:16<18:03,  1.77it/s]"
     ]
    },
    {
     "name": "stdout",
     "output_type": "stream",
     "text": [
      "Epoch 80: train cost = 0.8843791575003348\n"
     ]
    },
    {
     "name": "stderr",
     "output_type": "stream",
     "text": [
      "  5%|▍         | 91/2000 [00:18<07:03,  4.50it/s]"
     ]
    },
    {
     "name": "stdout",
     "output_type": "stream",
     "text": [
      "Epoch 90: train cost = 0.6867754609924945\n"
     ]
    },
    {
     "name": "stderr",
     "output_type": "stream",
     "text": [
      "  5%|▌         | 101/2000 [00:20<06:18,  5.02it/s]"
     ]
    },
    {
     "name": "stdout",
     "output_type": "stream",
     "text": [
      "Epoch 100: train cost = 0.5518745150740038\n"
     ]
    },
    {
     "name": "stderr",
     "output_type": "stream",
     "text": [
      "  6%|▌         | 111/2000 [00:22<04:30,  6.98it/s]"
     ]
    },
    {
     "name": "stdout",
     "output_type": "stream",
     "text": [
      "Epoch 110: train cost = 0.4326972309288487\n"
     ]
    },
    {
     "name": "stderr",
     "output_type": "stream",
     "text": [
      "  6%|▌         | 120/2000 [00:24<07:10,  4.37it/s]"
     ]
    },
    {
     "name": "stdout",
     "output_type": "stream",
     "text": [
      "Epoch 120: train cost = 0.36252679497556267\n"
     ]
    },
    {
     "name": "stderr",
     "output_type": "stream",
     "text": [
      "  7%|▋         | 131/2000 [00:26<06:24,  4.86it/s]"
     ]
    },
    {
     "name": "stdout",
     "output_type": "stream",
     "text": [
      "Epoch 130: train cost = 0.3088227112006475\n"
     ]
    },
    {
     "name": "stderr",
     "output_type": "stream",
     "text": [
      "  7%|▋         | 141/2000 [00:28<05:29,  5.64it/s]"
     ]
    },
    {
     "name": "stdout",
     "output_type": "stream",
     "text": [
      "Epoch 140: train cost = 0.26257735610117805\n"
     ]
    },
    {
     "name": "stderr",
     "output_type": "stream",
     "text": [
      "  8%|▊         | 151/2000 [00:30<07:15,  4.24it/s]"
     ]
    },
    {
     "name": "stdout",
     "output_type": "stream",
     "text": [
      "Epoch 150: train cost = 0.23607207488846962\n"
     ]
    },
    {
     "name": "stderr",
     "output_type": "stream",
     "text": [
      "  8%|▊         | 160/2000 [00:33<07:55,  3.87it/s]"
     ]
    },
    {
     "name": "stdout",
     "output_type": "stream",
     "text": [
      "Epoch 160: train cost = 0.20464013248130758\n"
     ]
    },
    {
     "name": "stderr",
     "output_type": "stream",
     "text": [
      "  9%|▊         | 171/2000 [00:35<06:16,  4.86it/s]"
     ]
    },
    {
     "name": "stdout",
     "output_type": "stream",
     "text": [
      "Epoch 170: train cost = 0.1838985982671335\n"
     ]
    },
    {
     "name": "stderr",
     "output_type": "stream",
     "text": [
      "  9%|▉         | 180/2000 [00:37<05:35,  5.43it/s]"
     ]
    },
    {
     "name": "stdout",
     "output_type": "stream",
     "text": [
      "Epoch 180: train cost = 0.1720649230866389\n"
     ]
    },
    {
     "name": "stderr",
     "output_type": "stream",
     "text": [
      " 10%|▉         | 190/2000 [00:41<21:32,  1.40it/s]"
     ]
    },
    {
     "name": "stdout",
     "output_type": "stream",
     "text": [
      "Epoch 190: train cost = 0.15873227781535465\n"
     ]
    },
    {
     "name": "stderr",
     "output_type": "stream",
     "text": [
      " 10%|█         | 201/2000 [00:44<06:59,  4.29it/s]"
     ]
    },
    {
     "name": "stdout",
     "output_type": "stream",
     "text": [
      "Epoch 200: train cost = 0.15059322122896546\n"
     ]
    },
    {
     "name": "stderr",
     "output_type": "stream",
     "text": [
      " 11%|█         | 211/2000 [00:46<05:44,  5.19it/s]"
     ]
    },
    {
     "name": "stdout",
     "output_type": "stream",
     "text": [
      "Epoch 210: train cost = 0.14257057017448663\n"
     ]
    },
    {
     "name": "stderr",
     "output_type": "stream",
     "text": [
      " 11%|█         | 221/2000 [00:48<05:25,  5.46it/s]"
     ]
    },
    {
     "name": "stdout",
     "output_type": "stream",
     "text": [
      "Epoch 220: train cost = 0.1339510123289877\n"
     ]
    },
    {
     "name": "stderr",
     "output_type": "stream",
     "text": [
      " 12%|█▏        | 230/2000 [00:49<05:13,  5.64it/s]"
     ]
    },
    {
     "name": "stdout",
     "output_type": "stream",
     "text": [
      "Epoch 230: train cost = 0.13005092622292747\n"
     ]
    },
    {
     "name": "stderr",
     "output_type": "stream",
     "text": [
      " 12%|█▏        | 241/2000 [00:51<05:00,  5.85it/s]"
     ]
    },
    {
     "name": "stdout",
     "output_type": "stream",
     "text": [
      "Epoch 240: train cost = 0.12629218548846652\n"
     ]
    },
    {
     "name": "stderr",
     "output_type": "stream",
     "text": [
      " 13%|█▎        | 251/2000 [00:53<04:46,  6.10it/s]"
     ]
    },
    {
     "name": "stdout",
     "output_type": "stream",
     "text": [
      "Epoch 250: train cost = 0.12272988304629974\n"
     ]
    },
    {
     "name": "stderr",
     "output_type": "stream",
     "text": [
      " 13%|█▎        | 260/2000 [00:55<04:36,  6.30it/s]"
     ]
    },
    {
     "name": "stdout",
     "output_type": "stream",
     "text": [
      "Epoch 260: train cost = 0.12123909147079429\n"
     ]
    },
    {
     "name": "stderr",
     "output_type": "stream",
     "text": [
      " 14%|█▎        | 271/2000 [00:56<04:47,  6.02it/s]"
     ]
    },
    {
     "name": "stdout",
     "output_type": "stream",
     "text": [
      "Epoch 270: train cost = 0.11886859754390544\n"
     ]
    },
    {
     "name": "stderr",
     "output_type": "stream",
     "text": [
      " 14%|█▍        | 281/2000 [00:58<05:03,  5.67it/s]"
     ]
    },
    {
     "name": "stdout",
     "output_type": "stream",
     "text": [
      "Epoch 280: train cost = 0.11935443578314035\n"
     ]
    },
    {
     "name": "stderr",
     "output_type": "stream",
     "text": [
      " 15%|█▍        | 291/2000 [01:00<04:38,  6.13it/s]"
     ]
    },
    {
     "name": "stdout",
     "output_type": "stream",
     "text": [
      "Epoch 290: train cost = 0.11459421263204253\n"
     ]
    },
    {
     "name": "stderr",
     "output_type": "stream",
     "text": [
      " 15%|█▌        | 300/2000 [01:01<04:21,  6.51it/s]"
     ]
    },
    {
     "name": "stdout",
     "output_type": "stream",
     "text": [
      "Epoch 300: train cost = 0.11328776981125205\n"
     ]
    },
    {
     "name": "stderr",
     "output_type": "stream",
     "text": [
      " 16%|█▌        | 311/2000 [01:05<05:18,  5.30it/s]"
     ]
    },
    {
     "name": "stdout",
     "output_type": "stream",
     "text": [
      "Epoch 310: train cost = 0.11296980073903934\n"
     ]
    },
    {
     "name": "stderr",
     "output_type": "stream",
     "text": [
      " 16%|█▌        | 321/2000 [01:06<04:14,  6.61it/s]"
     ]
    },
    {
     "name": "stdout",
     "output_type": "stream",
     "text": [
      "Epoch 320: train cost = 0.11199752024399903\n"
     ]
    },
    {
     "name": "stderr",
     "output_type": "stream",
     "text": [
      " 17%|█▋        | 331/2000 [01:08<04:36,  6.03it/s]"
     ]
    },
    {
     "name": "stdout",
     "output_type": "stream",
     "text": [
      "Epoch 330: train cost = 0.11118238290727978\n"
     ]
    },
    {
     "name": "stderr",
     "output_type": "stream",
     "text": [
      " 17%|█▋        | 340/2000 [01:10<04:43,  5.85it/s]"
     ]
    },
    {
     "name": "stdout",
     "output_type": "stream",
     "text": [
      "Epoch 340: train cost = 0.10775789599626778\n"
     ]
    },
    {
     "name": "stderr",
     "output_type": "stream",
     "text": [
      " 18%|█▊        | 351/2000 [01:13<05:59,  4.59it/s]"
     ]
    },
    {
     "name": "stdout",
     "output_type": "stream",
     "text": [
      "Epoch 350: train cost = 0.10610727802496416\n"
     ]
    },
    {
     "name": "stderr",
     "output_type": "stream",
     "text": [
      " 18%|█▊        | 361/2000 [01:15<05:04,  5.39it/s]"
     ]
    },
    {
     "name": "stdout",
     "output_type": "stream",
     "text": [
      "Epoch 360: train cost = 0.10634374734316511\n"
     ]
    },
    {
     "name": "stderr",
     "output_type": "stream",
     "text": [
      " 19%|█▊        | 371/2000 [01:17<04:52,  5.58it/s]"
     ]
    },
    {
     "name": "stdout",
     "output_type": "stream",
     "text": [
      "Epoch 370: train cost = 0.10567053306010779\n"
     ]
    },
    {
     "name": "stderr",
     "output_type": "stream",
     "text": [
      " 19%|█▉        | 381/2000 [01:18<04:50,  5.57it/s]"
     ]
    },
    {
     "name": "stdout",
     "output_type": "stream",
     "text": [
      "Epoch 380: train cost = 0.10399650879903127\n"
     ]
    },
    {
     "name": "stderr",
     "output_type": "stream",
     "text": [
      " 20%|█▉        | 390/2000 [01:20<05:02,  5.32it/s]"
     ]
    },
    {
     "name": "stdout",
     "output_type": "stream",
     "text": [
      "Epoch 390: train cost = 0.10358552239729302\n"
     ]
    },
    {
     "name": "stderr",
     "output_type": "stream",
     "text": [
      " 20%|██        | 401/2000 [01:22<04:35,  5.81it/s]"
     ]
    },
    {
     "name": "stdout",
     "output_type": "stream",
     "text": [
      "Epoch 400: train cost = 0.1019740454965985\n"
     ]
    },
    {
     "name": "stderr",
     "output_type": "stream",
     "text": [
      " 21%|██        | 411/2000 [01:24<04:30,  5.88it/s]"
     ]
    },
    {
     "name": "stdout",
     "output_type": "stream",
     "text": [
      "Epoch 410: train cost = 0.10248265875448437\n"
     ]
    },
    {
     "name": "stderr",
     "output_type": "stream",
     "text": [
      " 21%|██        | 421/2000 [01:27<07:26,  3.54it/s]"
     ]
    },
    {
     "name": "stdout",
     "output_type": "stream",
     "text": [
      "Epoch 420: train cost = 0.10157324830269991\n"
     ]
    },
    {
     "name": "stderr",
     "output_type": "stream",
     "text": [
      " 22%|██▏       | 431/2000 [01:29<04:10,  6.26it/s]"
     ]
    },
    {
     "name": "stdout",
     "output_type": "stream",
     "text": [
      "Epoch 430: train cost = 0.10091359201292133\n"
     ]
    },
    {
     "name": "stderr",
     "output_type": "stream",
     "text": [
      " 22%|██▏       | 441/2000 [01:30<04:00,  6.49it/s]"
     ]
    },
    {
     "name": "stdout",
     "output_type": "stream",
     "text": [
      "Epoch 440: train cost = 0.10022047606917725\n"
     ]
    },
    {
     "name": "stderr",
     "output_type": "stream",
     "text": [
      " 23%|██▎       | 451/2000 [01:32<04:12,  6.14it/s]"
     ]
    },
    {
     "name": "stdout",
     "output_type": "stream",
     "text": [
      "Epoch 450: train cost = 0.10017386111770633\n"
     ]
    },
    {
     "name": "stderr",
     "output_type": "stream",
     "text": [
      " 23%|██▎       | 461/2000 [01:33<04:16,  6.00it/s]"
     ]
    },
    {
     "name": "stdout",
     "output_type": "stream",
     "text": [
      "Epoch 460: train cost = 0.09991201153916905\n"
     ]
    },
    {
     "name": "stderr",
     "output_type": "stream",
     "text": [
      " 24%|██▎       | 471/2000 [01:35<04:35,  5.55it/s]"
     ]
    },
    {
     "name": "stdout",
     "output_type": "stream",
     "text": [
      "Epoch 470: train cost = 0.098100780400236\n"
     ]
    },
    {
     "name": "stderr",
     "output_type": "stream",
     "text": [
      " 24%|██▍       | 481/2000 [01:37<04:19,  5.85it/s]"
     ]
    },
    {
     "name": "stdout",
     "output_type": "stream",
     "text": [
      "Epoch 480: train cost = 0.09889214399705812\n"
     ]
    },
    {
     "name": "stderr",
     "output_type": "stream",
     "text": [
      " 25%|██▍       | 491/2000 [01:39<04:32,  5.54it/s]"
     ]
    },
    {
     "name": "stdout",
     "output_type": "stream",
     "text": [
      "Epoch 490: train cost = 0.09862628874241348\n"
     ]
    },
    {
     "name": "stderr",
     "output_type": "stream",
     "text": [
      " 25%|██▌       | 500/2000 [01:41<04:08,  6.04it/s]"
     ]
    },
    {
     "name": "stdout",
     "output_type": "stream",
     "text": [
      "Epoch 500: train cost = 0.10050997971198448\n"
     ]
    },
    {
     "name": "stderr",
     "output_type": "stream",
     "text": [
      " 26%|██▌       | 511/2000 [01:43<03:59,  6.22it/s]"
     ]
    },
    {
     "name": "stdout",
     "output_type": "stream",
     "text": [
      "Epoch 510: train cost = 0.09738931283003935\n"
     ]
    },
    {
     "name": "stderr",
     "output_type": "stream",
     "text": [
      " 26%|██▌       | 521/2000 [01:44<04:30,  5.47it/s]"
     ]
    },
    {
     "name": "stdout",
     "output_type": "stream",
     "text": [
      "Epoch 520: train cost = 0.09651353507288424\n"
     ]
    },
    {
     "name": "stderr",
     "output_type": "stream",
     "text": [
      " 27%|██▋       | 531/2000 [01:46<04:08,  5.90it/s]"
     ]
    },
    {
     "name": "stdout",
     "output_type": "stream",
     "text": [
      "Epoch 530: train cost = 0.09648722644289957\n"
     ]
    },
    {
     "name": "stderr",
     "output_type": "stream",
     "text": [
      " 27%|██▋       | 541/2000 [01:48<04:17,  5.66it/s]"
     ]
    },
    {
     "name": "stdout",
     "output_type": "stream",
     "text": [
      "Epoch 540: train cost = 0.09605572336775148\n"
     ]
    },
    {
     "name": "stderr",
     "output_type": "stream",
     "text": [
      " 28%|██▊       | 550/2000 [01:51<04:32,  5.32it/s]"
     ]
    },
    {
     "name": "stdout",
     "output_type": "stream",
     "text": [
      "Epoch 550: train cost = 0.09715415027103828\n"
     ]
    },
    {
     "name": "stderr",
     "output_type": "stream",
     "text": [
      " 28%|██▊       | 561/2000 [01:53<04:11,  5.73it/s]"
     ]
    },
    {
     "name": "stdout",
     "output_type": "stream",
     "text": [
      "Epoch 560: train cost = 0.09534028926500857\n"
     ]
    },
    {
     "name": "stderr",
     "output_type": "stream",
     "text": [
      " 28%|██▊       | 570/2000 [01:54<04:02,  5.91it/s]"
     ]
    },
    {
     "name": "stdout",
     "output_type": "stream",
     "text": [
      "Epoch 570: train cost = 0.09607992056708485\n"
     ]
    },
    {
     "name": "stderr",
     "output_type": "stream",
     "text": [
      " 29%|██▉       | 581/2000 [01:56<04:02,  5.86it/s]"
     ]
    },
    {
     "name": "stdout",
     "output_type": "stream",
     "text": [
      "Epoch 580: train cost = 0.09423118801942262\n"
     ]
    },
    {
     "name": "stderr",
     "output_type": "stream",
     "text": [
      " 30%|██▉       | 591/2000 [01:58<04:03,  5.79it/s]"
     ]
    },
    {
     "name": "stdout",
     "output_type": "stream",
     "text": [
      "Epoch 590: train cost = 0.09440778816564968\n"
     ]
    },
    {
     "name": "stderr",
     "output_type": "stream",
     "text": [
      " 30%|███       | 601/2000 [02:00<03:59,  5.84it/s]"
     ]
    },
    {
     "name": "stdout",
     "output_type": "stream",
     "text": [
      "Epoch 600: train cost = 0.09426836251813152\n"
     ]
    },
    {
     "name": "stderr",
     "output_type": "stream",
     "text": [
      " 31%|███       | 611/2000 [02:01<03:35,  6.44it/s]"
     ]
    },
    {
     "name": "stdout",
     "output_type": "stream",
     "text": [
      "Epoch 610: train cost = 0.09384782119760543\n"
     ]
    },
    {
     "name": "stderr",
     "output_type": "stream",
     "text": [
      " 31%|███       | 621/2000 [02:03<04:05,  5.61it/s]"
     ]
    },
    {
     "name": "stdout",
     "output_type": "stream",
     "text": [
      "Epoch 620: train cost = 0.09341957818420334\n"
     ]
    },
    {
     "name": "stderr",
     "output_type": "stream",
     "text": [
      " 32%|███▏      | 631/2000 [02:05<04:01,  5.67it/s]"
     ]
    },
    {
     "name": "stdout",
     "output_type": "stream",
     "text": [
      "Epoch 630: train cost = 0.09360310364167272\n"
     ]
    },
    {
     "name": "stderr",
     "output_type": "stream",
     "text": [
      " 32%|███▏      | 641/2000 [02:07<03:50,  5.89it/s]"
     ]
    },
    {
     "name": "stdout",
     "output_type": "stream",
     "text": [
      "Epoch 640: train cost = 0.09332821926435536\n"
     ]
    },
    {
     "name": "stderr",
     "output_type": "stream",
     "text": [
      " 33%|███▎      | 651/2000 [02:08<04:03,  5.53it/s]"
     ]
    },
    {
     "name": "stdout",
     "output_type": "stream",
     "text": [
      "Epoch 650: train cost = 0.09187528812510998\n"
     ]
    },
    {
     "name": "stderr",
     "output_type": "stream",
     "text": [
      " 33%|███▎      | 661/2000 [02:11<07:01,  3.17it/s]"
     ]
    },
    {
     "name": "stdout",
     "output_type": "stream",
     "text": [
      "Epoch 660: train cost = 0.0933490453154354\n"
     ]
    },
    {
     "name": "stderr",
     "output_type": "stream",
     "text": [
      " 34%|███▎      | 671/2000 [02:13<03:53,  5.70it/s]"
     ]
    },
    {
     "name": "stdout",
     "output_type": "stream",
     "text": [
      "Epoch 670: train cost = 0.09234737745025962\n"
     ]
    },
    {
     "name": "stderr",
     "output_type": "stream",
     "text": [
      " 34%|███▍      | 681/2000 [02:15<03:33,  6.17it/s]"
     ]
    },
    {
     "name": "stdout",
     "output_type": "stream",
     "text": [
      "Epoch 680: train cost = 0.09181293240106807\n"
     ]
    },
    {
     "name": "stderr",
     "output_type": "stream",
     "text": [
      " 35%|███▍      | 691/2000 [02:16<03:28,  6.27it/s]"
     ]
    },
    {
     "name": "stdout",
     "output_type": "stream",
     "text": [
      "Epoch 690: train cost = 0.0917128492118516\n"
     ]
    },
    {
     "name": "stderr",
     "output_type": "stream",
     "text": [
      " 35%|███▌      | 701/2000 [02:18<03:48,  5.69it/s]"
     ]
    },
    {
     "name": "stdout",
     "output_type": "stream",
     "text": [
      "Epoch 700: train cost = 0.09154821349248464\n"
     ]
    },
    {
     "name": "stderr",
     "output_type": "stream",
     "text": [
      " 36%|███▌      | 711/2000 [02:20<03:36,  5.94it/s]"
     ]
    },
    {
     "name": "stdout",
     "output_type": "stream",
     "text": [
      "Epoch 710: train cost = 0.09032582994786953\n"
     ]
    },
    {
     "name": "stderr",
     "output_type": "stream",
     "text": [
      " 36%|███▌      | 721/2000 [02:22<03:55,  5.43it/s]"
     ]
    },
    {
     "name": "stdout",
     "output_type": "stream",
     "text": [
      "Epoch 720: train cost = 0.09168317629094346\n"
     ]
    },
    {
     "name": "stderr",
     "output_type": "stream",
     "text": [
      " 37%|███▋      | 731/2000 [02:24<03:41,  5.74it/s]"
     ]
    },
    {
     "name": "stdout",
     "output_type": "stream",
     "text": [
      "Epoch 730: train cost = 0.09096153595455003\n"
     ]
    },
    {
     "name": "stderr",
     "output_type": "stream",
     "text": [
      " 37%|███▋      | 741/2000 [02:25<03:37,  5.80it/s]"
     ]
    },
    {
     "name": "stdout",
     "output_type": "stream",
     "text": [
      "Epoch 740: train cost = 0.09179700157431256\n"
     ]
    },
    {
     "name": "stderr",
     "output_type": "stream",
     "text": [
      " 38%|███▊      | 751/2000 [02:27<03:49,  5.45it/s]"
     ]
    },
    {
     "name": "stdout",
     "output_type": "stream",
     "text": [
      "Epoch 750: train cost = 0.09129893265375971\n"
     ]
    },
    {
     "name": "stderr",
     "output_type": "stream",
     "text": [
      " 38%|███▊      | 761/2000 [02:29<03:33,  5.81it/s]"
     ]
    },
    {
     "name": "stdout",
     "output_type": "stream",
     "text": [
      "Epoch 760: train cost = 0.09013654420490087\n"
     ]
    },
    {
     "name": "stderr",
     "output_type": "stream",
     "text": [
      " 39%|███▊      | 771/2000 [02:32<04:37,  4.43it/s]"
     ]
    },
    {
     "name": "stdout",
     "output_type": "stream",
     "text": [
      "Epoch 770: train cost = 0.08962184959112716\n"
     ]
    },
    {
     "name": "stderr",
     "output_type": "stream",
     "text": [
      " 39%|███▉      | 781/2000 [02:34<03:34,  5.69it/s]"
     ]
    },
    {
     "name": "stdout",
     "output_type": "stream",
     "text": [
      "Epoch 780: train cost = 0.08987289796846155\n"
     ]
    },
    {
     "name": "stderr",
     "output_type": "stream",
     "text": [
      " 40%|███▉      | 791/2000 [02:35<03:18,  6.09it/s]"
     ]
    },
    {
     "name": "stdout",
     "output_type": "stream",
     "text": [
      "Epoch 790: train cost = 0.09018463818938142\n"
     ]
    },
    {
     "name": "stderr",
     "output_type": "stream",
     "text": [
      " 40%|████      | 801/2000 [02:37<03:36,  5.53it/s]"
     ]
    },
    {
     "name": "stdout",
     "output_type": "stream",
     "text": [
      "Epoch 800: train cost = 0.09111475232192555\n"
     ]
    },
    {
     "name": "stderr",
     "output_type": "stream",
     "text": [
      " 41%|████      | 811/2000 [02:39<03:35,  5.51it/s]"
     ]
    },
    {
     "name": "stdout",
     "output_type": "stream",
     "text": [
      "Epoch 810: train cost = 0.08944435317900246\n"
     ]
    },
    {
     "name": "stderr",
     "output_type": "stream",
     "text": [
      " 41%|████      | 820/2000 [02:41<03:06,  6.31it/s]"
     ]
    },
    {
     "name": "stdout",
     "output_type": "stream",
     "text": [
      "Epoch 820: train cost = 0.08880656874431314\n"
     ]
    },
    {
     "name": "stderr",
     "output_type": "stream",
     "text": [
      " 42%|████▏     | 831/2000 [02:43<03:03,  6.35it/s]"
     ]
    },
    {
     "name": "stdout",
     "output_type": "stream",
     "text": [
      "Epoch 830: train cost = 0.08855659249996209\n"
     ]
    },
    {
     "name": "stderr",
     "output_type": "stream",
     "text": [
      " 42%|████▏     | 841/2000 [02:44<03:35,  5.37it/s]"
     ]
    },
    {
     "name": "stdout",
     "output_type": "stream",
     "text": [
      "Epoch 840: train cost = 0.08908415559238601\n"
     ]
    },
    {
     "name": "stderr",
     "output_type": "stream",
     "text": [
      " 43%|████▎     | 851/2000 [02:46<03:33,  5.37it/s]"
     ]
    },
    {
     "name": "stdout",
     "output_type": "stream",
     "text": [
      "Epoch 850: train cost = 0.08875419914539168\n"
     ]
    },
    {
     "name": "stderr",
     "output_type": "stream",
     "text": [
      " 43%|████▎     | 861/2000 [02:48<03:30,  5.40it/s]"
     ]
    },
    {
     "name": "stdout",
     "output_type": "stream",
     "text": [
      "Epoch 860: train cost = 0.08847425048352689\n"
     ]
    },
    {
     "name": "stderr",
     "output_type": "stream",
     "text": [
      " 44%|████▎     | 870/2000 [02:51<03:55,  4.80it/s]"
     ]
    },
    {
     "name": "stdout",
     "output_type": "stream",
     "text": [
      "Epoch 870: train cost = 0.08744455257719451\n"
     ]
    },
    {
     "name": "stderr",
     "output_type": "stream",
     "text": [
      " 44%|████▍     | 881/2000 [02:53<03:27,  5.38it/s]"
     ]
    },
    {
     "name": "stdout",
     "output_type": "stream",
     "text": [
      "Epoch 880: train cost = 0.0885419255045684\n"
     ]
    },
    {
     "name": "stderr",
     "output_type": "stream",
     "text": [
      " 44%|████▍     | 890/2000 [02:56<09:14,  2.00it/s]"
     ]
    },
    {
     "name": "stdout",
     "output_type": "stream",
     "text": [
      "Epoch 890: train cost = 0.088507900588034\n"
     ]
    },
    {
     "name": "stderr",
     "output_type": "stream",
     "text": [
      " 45%|████▌     | 900/2000 [03:01<07:48,  2.35it/s]"
     ]
    },
    {
     "name": "stdout",
     "output_type": "stream",
     "text": [
      "Epoch 900: train cost = 0.08816136918148726\n"
     ]
    },
    {
     "name": "stderr",
     "output_type": "stream",
     "text": [
      " 46%|████▌     | 910/2000 [03:05<04:22,  4.15it/s]"
     ]
    },
    {
     "name": "stdout",
     "output_type": "stream",
     "text": [
      "Epoch 910: train cost = 0.08739520449634879\n"
     ]
    },
    {
     "name": "stderr",
     "output_type": "stream",
     "text": [
      " 46%|████▌     | 921/2000 [03:07<02:55,  6.15it/s]"
     ]
    },
    {
     "name": "stdout",
     "output_type": "stream",
     "text": [
      "Epoch 920: train cost = 0.08793268554781182\n"
     ]
    },
    {
     "name": "stderr",
     "output_type": "stream",
     "text": [
      " 47%|████▋     | 931/2000 [03:08<03:07,  5.71it/s]"
     ]
    },
    {
     "name": "stdout",
     "output_type": "stream",
     "text": [
      "Epoch 930: train cost = 0.08911173524317507\n"
     ]
    },
    {
     "name": "stderr",
     "output_type": "stream",
     "text": [
      " 47%|████▋     | 941/2000 [03:10<03:05,  5.72it/s]"
     ]
    },
    {
     "name": "stdout",
     "output_type": "stream",
     "text": [
      "Epoch 940: train cost = 0.08773012401748019\n"
     ]
    },
    {
     "name": "stderr",
     "output_type": "stream",
     "text": [
      " 48%|████▊     | 950/2000 [03:12<03:20,  5.24it/s]"
     ]
    },
    {
     "name": "stdout",
     "output_type": "stream",
     "text": [
      "Epoch 950: train cost = 0.08673213992501361\n"
     ]
    },
    {
     "name": "stderr",
     "output_type": "stream",
     "text": [
      " 48%|████▊     | 960/2000 [03:14<03:44,  4.64it/s]"
     ]
    },
    {
     "name": "stdout",
     "output_type": "stream",
     "text": [
      "Epoch 960: train cost = 0.08676286771793837\n"
     ]
    },
    {
     "name": "stderr",
     "output_type": "stream",
     "text": [
      " 49%|████▊     | 971/2000 [03:16<02:47,  6.13it/s]"
     ]
    },
    {
     "name": "stdout",
     "output_type": "stream",
     "text": [
      "Epoch 970: train cost = 0.08794841087088198\n"
     ]
    },
    {
     "name": "stderr",
     "output_type": "stream",
     "text": [
      " 49%|████▉     | 980/2000 [03:18<03:28,  4.90it/s]"
     ]
    },
    {
     "name": "stdout",
     "output_type": "stream",
     "text": [
      "Epoch 980: train cost = 0.09034476273763542\n"
     ]
    },
    {
     "name": "stderr",
     "output_type": "stream",
     "text": [
      " 50%|████▉     | 990/2000 [03:20<03:09,  5.33it/s]"
     ]
    },
    {
     "name": "stdout",
     "output_type": "stream",
     "text": [
      "Epoch 990: train cost = 0.08711522225433108\n"
     ]
    },
    {
     "name": "stderr",
     "output_type": "stream",
     "text": [
      " 50%|█████     | 1001/2000 [03:24<03:21,  4.95it/s]"
     ]
    },
    {
     "name": "stdout",
     "output_type": "stream",
     "text": [
      "Epoch 1000: train cost = 0.08667643556362109\n"
     ]
    },
    {
     "name": "stderr",
     "output_type": "stream",
     "text": [
      " 51%|█████     | 1011/2000 [03:26<02:50,  5.78it/s]"
     ]
    },
    {
     "name": "stdout",
     "output_type": "stream",
     "text": [
      "Epoch 1010: train cost = 0.08707174429920933\n"
     ]
    },
    {
     "name": "stderr",
     "output_type": "stream",
     "text": [
      " 51%|█████     | 1020/2000 [03:28<03:27,  4.71it/s]"
     ]
    },
    {
     "name": "stdout",
     "output_type": "stream",
     "text": [
      "Epoch 1020: train cost = 0.08753850218201434\n"
     ]
    },
    {
     "name": "stderr",
     "output_type": "stream",
     "text": [
      " 52%|█████▏    | 1030/2000 [03:30<03:04,  5.27it/s]"
     ]
    },
    {
     "name": "stdout",
     "output_type": "stream",
     "text": [
      "Epoch 1030: train cost = 0.08602463290367056\n"
     ]
    },
    {
     "name": "stderr",
     "output_type": "stream",
     "text": [
      " 52%|█████▏    | 1041/2000 [03:32<02:58,  5.38it/s]"
     ]
    },
    {
     "name": "stdout",
     "output_type": "stream",
     "text": [
      "Epoch 1040: train cost = 0.08701979797588208\n"
     ]
    },
    {
     "name": "stderr",
     "output_type": "stream",
     "text": [
      " 53%|█████▎    | 1051/2000 [03:34<02:43,  5.82it/s]"
     ]
    },
    {
     "name": "stdout",
     "output_type": "stream",
     "text": [
      "Epoch 1050: train cost = 0.08642404793497292\n"
     ]
    },
    {
     "name": "stderr",
     "output_type": "stream",
     "text": [
      " 53%|█████▎    | 1061/2000 [03:36<02:47,  5.61it/s]"
     ]
    },
    {
     "name": "stdout",
     "output_type": "stream",
     "text": [
      "Epoch 1060: train cost = 0.08638576647567411\n"
     ]
    },
    {
     "name": "stderr",
     "output_type": "stream",
     "text": [
      " 54%|█████▎    | 1071/2000 [03:38<02:49,  5.49it/s]"
     ]
    },
    {
     "name": "stdout",
     "output_type": "stream",
     "text": [
      "Epoch 1070: train cost = 0.08535635039295889\n"
     ]
    },
    {
     "name": "stderr",
     "output_type": "stream",
     "text": [
      " 54%|█████▍    | 1081/2000 [03:41<03:17,  4.66it/s]"
     ]
    },
    {
     "name": "stdout",
     "output_type": "stream",
     "text": [
      "Epoch 1080: train cost = 0.0872120855257641\n"
     ]
    },
    {
     "name": "stderr",
     "output_type": "stream",
     "text": [
      " 55%|█████▍    | 1091/2000 [03:43<02:48,  5.39it/s]"
     ]
    },
    {
     "name": "stdout",
     "output_type": "stream",
     "text": [
      "Epoch 1090: train cost = 0.08570299899194804\n"
     ]
    },
    {
     "name": "stderr",
     "output_type": "stream",
     "text": [
      " 55%|█████▌    | 1101/2000 [03:45<02:45,  5.42it/s]"
     ]
    },
    {
     "name": "stdout",
     "output_type": "stream",
     "text": [
      "Epoch 1100: train cost = 0.08593267856924529\n"
     ]
    },
    {
     "name": "stderr",
     "output_type": "stream",
     "text": [
      " 56%|█████▌    | 1111/2000 [03:47<02:42,  5.49it/s]"
     ]
    },
    {
     "name": "stdout",
     "output_type": "stream",
     "text": [
      "Epoch 1110: train cost = 0.08507335888807797\n"
     ]
    },
    {
     "name": "stderr",
     "output_type": "stream",
     "text": [
      " 56%|█████▌    | 1121/2000 [03:49<02:38,  5.56it/s]"
     ]
    },
    {
     "name": "stdout",
     "output_type": "stream",
     "text": [
      "Epoch 1120: train cost = 0.08614439361489735\n"
     ]
    },
    {
     "name": "stderr",
     "output_type": "stream",
     "text": [
      " 56%|█████▋    | 1130/2000 [03:51<02:28,  5.85it/s]"
     ]
    },
    {
     "name": "stdout",
     "output_type": "stream",
     "text": [
      "Epoch 1130: train cost = 0.08580533953492371\n"
     ]
    },
    {
     "name": "stderr",
     "output_type": "stream",
     "text": [
      " 57%|█████▋    | 1141/2000 [03:53<02:24,  5.94it/s]"
     ]
    },
    {
     "name": "stdout",
     "output_type": "stream",
     "text": [
      "Epoch 1140: train cost = 0.08463405681253332\n"
     ]
    },
    {
     "name": "stderr",
     "output_type": "stream",
     "text": [
      " 57%|█████▊    | 1150/2000 [03:54<02:40,  5.31it/s]"
     ]
    },
    {
     "name": "stdout",
     "output_type": "stream",
     "text": [
      "Epoch 1150: train cost = 0.0851120881701285\n"
     ]
    },
    {
     "name": "stderr",
     "output_type": "stream",
     "text": [
      " 58%|█████▊    | 1161/2000 [03:58<02:30,  5.58it/s]"
     ]
    },
    {
     "name": "stdout",
     "output_type": "stream",
     "text": [
      "Epoch 1160: train cost = 0.0850333689186494\n"
     ]
    },
    {
     "name": "stderr",
     "output_type": "stream",
     "text": [
      " 59%|█████▊    | 1171/2000 [03:59<02:14,  6.17it/s]"
     ]
    },
    {
     "name": "stdout",
     "output_type": "stream",
     "text": [
      "Epoch 1170: train cost = 0.08437413898353177\n"
     ]
    },
    {
     "name": "stderr",
     "output_type": "stream",
     "text": [
      " 59%|█████▉    | 1181/2000 [04:01<02:11,  6.25it/s]"
     ]
    },
    {
     "name": "stdout",
     "output_type": "stream",
     "text": [
      "Epoch 1180: train cost = 0.08453188884514119\n"
     ]
    },
    {
     "name": "stderr",
     "output_type": "stream",
     "text": [
      " 60%|█████▉    | 1191/2000 [04:03<02:31,  5.35it/s]"
     ]
    },
    {
     "name": "stdout",
     "output_type": "stream",
     "text": [
      "Epoch 1190: train cost = 0.08454793236616484\n"
     ]
    },
    {
     "name": "stderr",
     "output_type": "stream",
     "text": [
      " 60%|██████    | 1201/2000 [04:05<02:21,  5.63it/s]"
     ]
    },
    {
     "name": "stdout",
     "output_type": "stream",
     "text": [
      "Epoch 1200: train cost = 0.08418120133046955\n"
     ]
    },
    {
     "name": "stderr",
     "output_type": "stream",
     "text": [
      " 61%|██████    | 1211/2000 [04:07<02:28,  5.32it/s]"
     ]
    },
    {
     "name": "stdout",
     "output_type": "stream",
     "text": [
      "Epoch 1210: train cost = 0.08431814910100846\n"
     ]
    },
    {
     "name": "stderr",
     "output_type": "stream",
     "text": [
      " 61%|██████    | 1220/2000 [04:09<02:23,  5.42it/s]"
     ]
    },
    {
     "name": "stdout",
     "output_type": "stream",
     "text": [
      "Epoch 1220: train cost = 0.083846096794818\n"
     ]
    },
    {
     "name": "stderr",
     "output_type": "stream",
     "text": [
      " 62%|██████▏   | 1231/2000 [04:12<02:47,  4.60it/s]"
     ]
    },
    {
     "name": "stdout",
     "output_type": "stream",
     "text": [
      "Epoch 1230: train cost = 0.08421404077602847\n"
     ]
    },
    {
     "name": "stderr",
     "output_type": "stream",
     "text": [
      " 62%|██████▏   | 1241/2000 [04:14<02:45,  4.58it/s]"
     ]
    },
    {
     "name": "stdout",
     "output_type": "stream",
     "text": [
      "Epoch 1240: train cost = 0.0839643569298549\n"
     ]
    },
    {
     "name": "stderr",
     "output_type": "stream",
     "text": [
      " 62%|██████▎   | 1250/2000 [04:16<02:21,  5.31it/s]"
     ]
    },
    {
     "name": "stdout",
     "output_type": "stream",
     "text": [
      "Epoch 1250: train cost = 0.08328416230350177\n"
     ]
    },
    {
     "name": "stderr",
     "output_type": "stream",
     "text": [
      " 63%|██████▎   | 1261/2000 [04:18<02:18,  5.33it/s]"
     ]
    },
    {
     "name": "stdout",
     "output_type": "stream",
     "text": [
      "Epoch 1260: train cost = 0.08423722294876933\n"
     ]
    },
    {
     "name": "stderr",
     "output_type": "stream",
     "text": [
      " 64%|██████▎   | 1271/2000 [04:20<02:05,  5.80it/s]"
     ]
    },
    {
     "name": "stdout",
     "output_type": "stream",
     "text": [
      "Epoch 1270: train cost = 0.08524833849150115\n"
     ]
    },
    {
     "name": "stderr",
     "output_type": "stream",
     "text": [
      " 64%|██████▍   | 1281/2000 [04:22<02:09,  5.57it/s]"
     ]
    },
    {
     "name": "stdout",
     "output_type": "stream",
     "text": [
      "Epoch 1280: train cost = 0.08294739978741793\n"
     ]
    },
    {
     "name": "stderr",
     "output_type": "stream",
     "text": [
      " 64%|██████▍   | 1290/2000 [04:24<02:15,  5.24it/s]"
     ]
    },
    {
     "name": "stdout",
     "output_type": "stream",
     "text": [
      "Epoch 1290: train cost = 0.08311805557065116\n"
     ]
    },
    {
     "name": "stderr",
     "output_type": "stream",
     "text": [
      " 65%|██████▌   | 1300/2000 [04:27<05:05,  2.29it/s]"
     ]
    },
    {
     "name": "stdout",
     "output_type": "stream",
     "text": [
      "Epoch 1300: train cost = 0.0834671187816952\n"
     ]
    },
    {
     "name": "stderr",
     "output_type": "stream",
     "text": [
      " 66%|██████▌   | 1311/2000 [04:29<02:06,  5.47it/s]"
     ]
    },
    {
     "name": "stdout",
     "output_type": "stream",
     "text": [
      "Epoch 1310: train cost = 0.08294968826279518\n"
     ]
    },
    {
     "name": "stderr",
     "output_type": "stream",
     "text": [
      " 66%|██████▌   | 1321/2000 [04:31<02:00,  5.64it/s]"
     ]
    },
    {
     "name": "stdout",
     "output_type": "stream",
     "text": [
      "Epoch 1320: train cost = 0.08293050921110724\n"
     ]
    },
    {
     "name": "stderr",
     "output_type": "stream",
     "text": [
      " 67%|██████▋   | 1331/2000 [04:32<01:48,  6.18it/s]"
     ]
    },
    {
     "name": "stdout",
     "output_type": "stream",
     "text": [
      "Epoch 1330: train cost = 0.08287633381142219\n"
     ]
    },
    {
     "name": "stderr",
     "output_type": "stream",
     "text": [
      " 67%|██████▋   | 1341/2000 [04:34<02:06,  5.22it/s]"
     ]
    },
    {
     "name": "stdout",
     "output_type": "stream",
     "text": [
      "Epoch 1340: train cost = 0.08386870903326284\n"
     ]
    },
    {
     "name": "stderr",
     "output_type": "stream",
     "text": [
      " 68%|██████▊   | 1351/2000 [04:36<02:03,  5.25it/s]"
     ]
    },
    {
     "name": "stdout",
     "output_type": "stream",
     "text": [
      "Epoch 1350: train cost = 0.08328199227591912\n"
     ]
    },
    {
     "name": "stderr",
     "output_type": "stream",
     "text": [
      " 68%|██████▊   | 1360/2000 [04:38<01:46,  6.00it/s]"
     ]
    },
    {
     "name": "stdout",
     "output_type": "stream",
     "text": [
      "Epoch 1360: train cost = 0.08250399530171858\n"
     ]
    },
    {
     "name": "stderr",
     "output_type": "stream",
     "text": [
      " 69%|██████▊   | 1371/2000 [04:40<01:50,  5.68it/s]"
     ]
    },
    {
     "name": "stdout",
     "output_type": "stream",
     "text": [
      "Epoch 1370: train cost = 0.08254989245614977\n"
     ]
    },
    {
     "name": "stderr",
     "output_type": "stream",
     "text": [
      " 69%|██████▉   | 1381/2000 [04:43<02:00,  5.12it/s]"
     ]
    },
    {
     "name": "stdout",
     "output_type": "stream",
     "text": [
      "Epoch 1380: train cost = 0.08224583897101474\n"
     ]
    },
    {
     "name": "stderr",
     "output_type": "stream",
     "text": [
      " 70%|██████▉   | 1391/2000 [04:45<01:47,  5.67it/s]"
     ]
    },
    {
     "name": "stdout",
     "output_type": "stream",
     "text": [
      "Epoch 1390: train cost = 0.08293091323766237\n"
     ]
    },
    {
     "name": "stderr",
     "output_type": "stream",
     "text": [
      " 70%|███████   | 1401/2000 [04:47<01:59,  5.03it/s]"
     ]
    },
    {
     "name": "stdout",
     "output_type": "stream",
     "text": [
      "Epoch 1400: train cost = 0.08225572726050279\n"
     ]
    },
    {
     "name": "stderr",
     "output_type": "stream",
     "text": [
      " 71%|███████   | 1411/2000 [04:49<01:43,  5.69it/s]"
     ]
    },
    {
     "name": "stdout",
     "output_type": "stream",
     "text": [
      "Epoch 1410: train cost = 0.08271341593822593\n"
     ]
    },
    {
     "name": "stderr",
     "output_type": "stream",
     "text": [
      " 71%|███████   | 1421/2000 [04:51<01:53,  5.11it/s]"
     ]
    },
    {
     "name": "stdout",
     "output_type": "stream",
     "text": [
      "Epoch 1420: train cost = 0.0825451977073773\n"
     ]
    },
    {
     "name": "stderr",
     "output_type": "stream",
     "text": [
      " 72%|███████▏  | 1431/2000 [04:53<01:41,  5.63it/s]"
     ]
    },
    {
     "name": "stdout",
     "output_type": "stream",
     "text": [
      "Epoch 1430: train cost = 0.08263555681402583\n"
     ]
    },
    {
     "name": "stderr",
     "output_type": "stream",
     "text": [
      " 72%|███████▏  | 1440/2000 [04:56<04:01,  2.32it/s]"
     ]
    },
    {
     "name": "stdout",
     "output_type": "stream",
     "text": [
      "Epoch 1440: train cost = 0.08265859265577073\n"
     ]
    },
    {
     "name": "stderr",
     "output_type": "stream",
     "text": [
      " 72%|███████▎  | 1450/2000 [04:57<01:42,  5.35it/s]"
     ]
    },
    {
     "name": "stdout",
     "output_type": "stream",
     "text": [
      "Epoch 1450: train cost = 0.08211798182146525\n"
     ]
    },
    {
     "name": "stderr",
     "output_type": "stream",
     "text": [
      " 73%|███████▎  | 1461/2000 [04:59<01:35,  5.63it/s]"
     ]
    },
    {
     "name": "stdout",
     "output_type": "stream",
     "text": [
      "Epoch 1460: train cost = 0.08160031474491088\n"
     ]
    },
    {
     "name": "stderr",
     "output_type": "stream",
     "text": [
      " 74%|███████▎  | 1471/2000 [05:01<01:35,  5.55it/s]"
     ]
    },
    {
     "name": "stdout",
     "output_type": "stream",
     "text": [
      "Epoch 1470: train cost = 0.08146873229699485\n"
     ]
    },
    {
     "name": "stderr",
     "output_type": "stream",
     "text": [
      " 74%|███████▍  | 1481/2000 [05:03<01:38,  5.26it/s]"
     ]
    },
    {
     "name": "stdout",
     "output_type": "stream",
     "text": [
      "Epoch 1480: train cost = 0.08174730063887026\n"
     ]
    },
    {
     "name": "stderr",
     "output_type": "stream",
     "text": [
      " 75%|███████▍  | 1491/2000 [05:05<01:34,  5.37it/s]"
     ]
    },
    {
     "name": "stdout",
     "output_type": "stream",
     "text": [
      "Epoch 1490: train cost = 0.08143968973360734\n"
     ]
    },
    {
     "name": "stderr",
     "output_type": "stream",
     "text": [
      " 75%|███████▌  | 1501/2000 [05:07<01:32,  5.39it/s]"
     ]
    },
    {
     "name": "stdout",
     "output_type": "stream",
     "text": [
      "Epoch 1500: train cost = 0.08241104225605772\n"
     ]
    },
    {
     "name": "stderr",
     "output_type": "stream",
     "text": [
      " 76%|███████▌  | 1511/2000 [05:11<01:42,  4.75it/s]"
     ]
    },
    {
     "name": "stdout",
     "output_type": "stream",
     "text": [
      "Epoch 1510: train cost = 0.08189055494122581\n"
     ]
    },
    {
     "name": "stderr",
     "output_type": "stream",
     "text": [
      " 76%|███████▌  | 1521/2000 [05:12<01:26,  5.51it/s]"
     ]
    },
    {
     "name": "stdout",
     "output_type": "stream",
     "text": [
      "Epoch 1520: train cost = 0.08251952732745063\n"
     ]
    },
    {
     "name": "stderr",
     "output_type": "stream",
     "text": [
      " 76%|███████▋  | 1530/2000 [05:14<01:28,  5.30it/s]"
     ]
    },
    {
     "name": "stdout",
     "output_type": "stream",
     "text": [
      "Epoch 1530: train cost = 0.081376051865821\n"
     ]
    },
    {
     "name": "stderr",
     "output_type": "stream",
     "text": [
      " 77%|███████▋  | 1540/2000 [05:16<01:16,  6.01it/s]"
     ]
    },
    {
     "name": "stdout",
     "output_type": "stream",
     "text": [
      "Epoch 1540: train cost = 0.081590506805399\n"
     ]
    },
    {
     "name": "stderr",
     "output_type": "stream",
     "text": [
      " 78%|███████▊  | 1550/2000 [05:18<01:25,  5.27it/s]"
     ]
    },
    {
     "name": "stdout",
     "output_type": "stream",
     "text": [
      "Epoch 1550: train cost = 0.0811786344081581\n"
     ]
    },
    {
     "name": "stderr",
     "output_type": "stream",
     "text": [
      " 78%|███████▊  | 1561/2000 [05:20<01:14,  5.86it/s]"
     ]
    },
    {
     "name": "stdout",
     "output_type": "stream",
     "text": [
      "Epoch 1560: train cost = 0.08204758432498784\n"
     ]
    },
    {
     "name": "stderr",
     "output_type": "stream",
     "text": [
      " 79%|███████▊  | 1571/2000 [05:22<01:21,  5.24it/s]"
     ]
    },
    {
     "name": "stdout",
     "output_type": "stream",
     "text": [
      "Epoch 1570: train cost = 0.08134312758115797\n"
     ]
    },
    {
     "name": "stderr",
     "output_type": "stream",
     "text": [
      " 79%|███████▉  | 1580/2000 [05:24<01:14,  5.60it/s]"
     ]
    },
    {
     "name": "stdout",
     "output_type": "stream",
     "text": [
      "Epoch 1580: train cost = 0.08144542427274133\n"
     ]
    },
    {
     "name": "stderr",
     "output_type": "stream",
     "text": [
      " 80%|███████▉  | 1591/2000 [05:26<01:11,  5.76it/s]"
     ]
    },
    {
     "name": "stdout",
     "output_type": "stream",
     "text": [
      "Epoch 1590: train cost = 0.0810692210885731\n"
     ]
    },
    {
     "name": "stderr",
     "output_type": "stream",
     "text": [
      " 80%|████████  | 1601/2000 [05:28<01:11,  5.54it/s]"
     ]
    },
    {
     "name": "stdout",
     "output_type": "stream",
     "text": [
      "Epoch 1600: train cost = 0.08185050237061772\n"
     ]
    },
    {
     "name": "stderr",
     "output_type": "stream",
     "text": [
      " 81%|████████  | 1611/2000 [05:30<01:15,  5.14it/s]"
     ]
    },
    {
     "name": "stdout",
     "output_type": "stream",
     "text": [
      "Epoch 1610: train cost = 0.0812082578826507\n"
     ]
    },
    {
     "name": "stderr",
     "output_type": "stream",
     "text": [
      " 81%|████████  | 1620/2000 [05:32<01:10,  5.42it/s]"
     ]
    },
    {
     "name": "stdout",
     "output_type": "stream",
     "text": [
      "Epoch 1620: train cost = 0.08100238332165172\n"
     ]
    },
    {
     "name": "stderr",
     "output_type": "stream",
     "text": [
      " 82%|████████▏ | 1631/2000 [05:35<01:27,  4.24it/s]"
     ]
    },
    {
     "name": "stdout",
     "output_type": "stream",
     "text": [
      "Epoch 1630: train cost = 0.08153479384986362\n"
     ]
    },
    {
     "name": "stderr",
     "output_type": "stream",
     "text": [
      " 82%|████████▏ | 1641/2000 [05:37<01:04,  5.57it/s]"
     ]
    },
    {
     "name": "stdout",
     "output_type": "stream",
     "text": [
      "Epoch 1640: train cost = 0.08049278480811302\n"
     ]
    },
    {
     "name": "stderr",
     "output_type": "stream",
     "text": [
      " 83%|████████▎ | 1651/2000 [05:39<01:05,  5.36it/s]"
     ]
    },
    {
     "name": "stdout",
     "output_type": "stream",
     "text": [
      "Epoch 1650: train cost = 0.0812897232089158\n"
     ]
    },
    {
     "name": "stderr",
     "output_type": "stream",
     "text": [
      " 83%|████████▎ | 1660/2000 [05:41<01:07,  5.06it/s]"
     ]
    },
    {
     "name": "stdout",
     "output_type": "stream",
     "text": [
      "Epoch 1660: train cost = 0.08115462055108856\n"
     ]
    },
    {
     "name": "stderr",
     "output_type": "stream",
     "text": [
      " 84%|████████▎ | 1671/2000 [05:43<01:04,  5.11it/s]"
     ]
    },
    {
     "name": "stdout",
     "output_type": "stream",
     "text": [
      "Epoch 1670: train cost = 0.08082259880584469\n"
     ]
    },
    {
     "name": "stderr",
     "output_type": "stream",
     "text": [
      " 84%|████████▍ | 1680/2000 [05:45<01:06,  4.79it/s]"
     ]
    },
    {
     "name": "stdout",
     "output_type": "stream",
     "text": [
      "Epoch 1680: train cost = 0.08071650411391201\n"
     ]
    },
    {
     "name": "stderr",
     "output_type": "stream",
     "text": [
      " 84%|████████▍ | 1690/2000 [05:48<02:50,  1.82it/s]"
     ]
    },
    {
     "name": "stdout",
     "output_type": "stream",
     "text": [
      "Epoch 1690: train cost = 0.08063093598013743\n"
     ]
    },
    {
     "name": "stderr",
     "output_type": "stream",
     "text": [
      " 85%|████████▌ | 1701/2000 [05:51<01:02,  4.79it/s]"
     ]
    },
    {
     "name": "stdout",
     "output_type": "stream",
     "text": [
      "Epoch 1700: train cost = 0.08028459934264291\n"
     ]
    },
    {
     "name": "stderr",
     "output_type": "stream",
     "text": [
      " 86%|████████▌ | 1711/2000 [05:53<00:55,  5.17it/s]"
     ]
    },
    {
     "name": "stdout",
     "output_type": "stream",
     "text": [
      "Epoch 1710: train cost = 0.08043529005054667\n"
     ]
    },
    {
     "name": "stderr",
     "output_type": "stream",
     "text": [
      " 86%|████████▌ | 1721/2000 [05:55<00:51,  5.37it/s]"
     ]
    },
    {
     "name": "stdout",
     "output_type": "stream",
     "text": [
      "Epoch 1720: train cost = 0.08005835736569972\n"
     ]
    },
    {
     "name": "stderr",
     "output_type": "stream",
     "text": [
      " 87%|████████▋ | 1731/2000 [05:57<00:46,  5.72it/s]"
     ]
    },
    {
     "name": "stdout",
     "output_type": "stream",
     "text": [
      "Epoch 1730: train cost = 0.0811875298469484\n"
     ]
    },
    {
     "name": "stderr",
     "output_type": "stream",
     "text": [
      " 87%|████████▋ | 1740/2000 [06:00<00:51,  5.03it/s]"
     ]
    },
    {
     "name": "stdout",
     "output_type": "stream",
     "text": [
      "Epoch 1740: train cost = 0.08112512534017434\n"
     ]
    },
    {
     "name": "stderr",
     "output_type": "stream",
     "text": [
      " 88%|████████▊ | 1750/2000 [06:02<00:53,  4.71it/s]"
     ]
    },
    {
     "name": "stdout",
     "output_type": "stream",
     "text": [
      "Epoch 1750: train cost = 0.079715948789846\n"
     ]
    },
    {
     "name": "stderr",
     "output_type": "stream",
     "text": [
      " 88%|████████▊ | 1761/2000 [06:05<00:50,  4.75it/s]"
     ]
    },
    {
     "name": "stdout",
     "output_type": "stream",
     "text": [
      "Epoch 1760: train cost = 0.0798512885015835\n"
     ]
    },
    {
     "name": "stderr",
     "output_type": "stream",
     "text": [
      " 89%|████████▊ | 1771/2000 [06:08<00:46,  4.89it/s]"
     ]
    },
    {
     "name": "stdout",
     "output_type": "stream",
     "text": [
      "Epoch 1770: train cost = 0.0796745661052791\n"
     ]
    },
    {
     "name": "stderr",
     "output_type": "stream",
     "text": [
      " 89%|████████▉ | 1780/2000 [06:10<00:43,  5.03it/s]"
     ]
    },
    {
     "name": "stdout",
     "output_type": "stream",
     "text": [
      "Epoch 1780: train cost = 0.0805312124395268\n"
     ]
    },
    {
     "name": "stderr",
     "output_type": "stream",
     "text": [
      " 90%|████████▉ | 1790/2000 [06:12<00:40,  5.18it/s]"
     ]
    },
    {
     "name": "stdout",
     "output_type": "stream",
     "text": [
      "Epoch 1790: train cost = 0.08043749515188861\n"
     ]
    },
    {
     "name": "stderr",
     "output_type": "stream",
     "text": [
      " 90%|█████████ | 1801/2000 [06:14<00:39,  5.02it/s]"
     ]
    },
    {
     "name": "stdout",
     "output_type": "stream",
     "text": [
      "Epoch 1800: train cost = 0.07981258072742353\n"
     ]
    },
    {
     "name": "stderr",
     "output_type": "stream",
     "text": [
      " 91%|█████████ | 1811/2000 [06:16<00:37,  5.06it/s]"
     ]
    },
    {
     "name": "stdout",
     "output_type": "stream",
     "text": [
      "Epoch 1810: train cost = 0.08031106442557796\n"
     ]
    },
    {
     "name": "stderr",
     "output_type": "stream",
     "text": [
      " 91%|█████████ | 1821/2000 [06:19<00:36,  4.94it/s]"
     ]
    },
    {
     "name": "stdout",
     "output_type": "stream",
     "text": [
      "Epoch 1820: train cost = 0.08009595655591847\n"
     ]
    },
    {
     "name": "stderr",
     "output_type": "stream",
     "text": [
      " 92%|█████████▏| 1831/2000 [06:22<00:43,  3.91it/s]"
     ]
    },
    {
     "name": "stdout",
     "output_type": "stream",
     "text": [
      "Epoch 1830: train cost = 0.08052276168289695\n"
     ]
    },
    {
     "name": "stderr",
     "output_type": "stream",
     "text": [
      " 92%|█████████▏| 1840/2000 [06:24<00:32,  4.93it/s]"
     ]
    },
    {
     "name": "stdout",
     "output_type": "stream",
     "text": [
      "Epoch 1840: train cost = 0.07970707042072825\n"
     ]
    },
    {
     "name": "stderr",
     "output_type": "stream",
     "text": [
      " 92%|█████████▎| 1850/2000 [06:26<00:33,  4.44it/s]"
     ]
    },
    {
     "name": "stdout",
     "output_type": "stream",
     "text": [
      "Epoch 1850: train cost = 0.07940894305367838\n"
     ]
    },
    {
     "name": "stderr",
     "output_type": "stream",
     "text": [
      " 93%|█████████▎| 1861/2000 [06:29<00:26,  5.18it/s]"
     ]
    },
    {
     "name": "stdout",
     "output_type": "stream",
     "text": [
      "Epoch 1860: train cost = 0.0797161415441909\n"
     ]
    },
    {
     "name": "stderr",
     "output_type": "stream",
     "text": [
      " 94%|█████████▎| 1870/2000 [06:31<00:28,  4.63it/s]"
     ]
    },
    {
     "name": "stdout",
     "output_type": "stream",
     "text": [
      "Epoch 1870: train cost = 0.08115241679032643\n"
     ]
    },
    {
     "name": "stderr",
     "output_type": "stream",
     "text": [
      " 94%|█████████▍| 1880/2000 [06:33<00:26,  4.57it/s]"
     ]
    },
    {
     "name": "stdout",
     "output_type": "stream",
     "text": [
      "Epoch 1880: train cost = 0.07975092225036239\n"
     ]
    },
    {
     "name": "stderr",
     "output_type": "stream",
     "text": [
      " 94%|█████████▍| 1890/2000 [06:36<00:27,  4.05it/s]"
     ]
    },
    {
     "name": "stdout",
     "output_type": "stream",
     "text": [
      "Epoch 1890: train cost = 0.07973587246817461\n"
     ]
    },
    {
     "name": "stderr",
     "output_type": "stream",
     "text": [
      " 95%|█████████▌| 1900/2000 [06:38<00:22,  4.45it/s]"
     ]
    },
    {
     "name": "stdout",
     "output_type": "stream",
     "text": [
      "Epoch 1900: train cost = 0.07965529045712089\n"
     ]
    },
    {
     "name": "stderr",
     "output_type": "stream",
     "text": [
      " 96%|█████████▌| 1911/2000 [06:41<00:17,  5.10it/s]"
     ]
    },
    {
     "name": "stdout",
     "output_type": "stream",
     "text": [
      "Epoch 1910: train cost = 0.07969942479099705\n"
     ]
    },
    {
     "name": "stderr",
     "output_type": "stream",
     "text": [
      " 96%|█████████▌| 1921/2000 [06:44<00:37,  2.11it/s]"
     ]
    },
    {
     "name": "stdout",
     "output_type": "stream",
     "text": [
      "Epoch 1920: train cost = 0.07972985356089768\n"
     ]
    },
    {
     "name": "stderr",
     "output_type": "stream",
     "text": [
      " 96%|█████████▋| 1930/2000 [06:46<00:13,  5.35it/s]"
     ]
    },
    {
     "name": "stdout",
     "output_type": "stream",
     "text": [
      "Epoch 1930: train cost = 0.07967933173804179\n"
     ]
    },
    {
     "name": "stderr",
     "output_type": "stream",
     "text": [
      " 97%|█████████▋| 1941/2000 [06:48<00:11,  5.10it/s]"
     ]
    },
    {
     "name": "stdout",
     "output_type": "stream",
     "text": [
      "Epoch 1940: train cost = 0.07996525128018331\n"
     ]
    },
    {
     "name": "stderr",
     "output_type": "stream",
     "text": [
      " 98%|█████████▊| 1950/2000 [06:50<00:14,  3.35it/s]"
     ]
    },
    {
     "name": "stdout",
     "output_type": "stream",
     "text": [
      "Epoch 1950: train cost = 0.07963629980716025\n"
     ]
    },
    {
     "name": "stderr",
     "output_type": "stream",
     "text": [
      " 98%|█████████▊| 1960/2000 [06:53<00:09,  4.25it/s]"
     ]
    },
    {
     "name": "stdout",
     "output_type": "stream",
     "text": [
      "Epoch 1960: train cost = 0.07971070290595376\n"
     ]
    },
    {
     "name": "stderr",
     "output_type": "stream",
     "text": [
      " 98%|█████████▊| 1970/2000 [06:55<00:07,  4.25it/s]"
     ]
    },
    {
     "name": "stdout",
     "output_type": "stream",
     "text": [
      "Epoch 1970: train cost = 0.07897992162689785\n"
     ]
    },
    {
     "name": "stderr",
     "output_type": "stream",
     "text": [
      " 99%|█████████▉| 1981/2000 [06:58<00:04,  4.10it/s]"
     ]
    },
    {
     "name": "stdout",
     "output_type": "stream",
     "text": [
      "Epoch 1980: train cost = 0.07893193364776492\n"
     ]
    },
    {
     "name": "stderr",
     "output_type": "stream",
     "text": [
      "100%|█████████▉| 1991/2000 [07:01<00:02,  3.58it/s]"
     ]
    },
    {
     "name": "stdout",
     "output_type": "stream",
     "text": [
      "Epoch 1990: train cost = 0.07864157816139418\n"
     ]
    },
    {
     "name": "stderr",
     "output_type": "stream",
     "text": [
      "100%|██████████| 2000/2000 [07:04<00:00,  4.72it/s]"
     ]
    },
    {
     "name": "stdout",
     "output_type": "stream",
     "text": [
      "Epoch 2000: train cost = 0.07945019471171084\n"
     ]
    },
    {
     "name": "stderr",
     "output_type": "stream",
     "text": [
      "\n"
     ]
    },
    {
     "data": {
      "text/plain": "([901.3255357282983,\n  54.1487438719131,\n  35.68044576404354,\n  28.082190553853515,\n  23.49424675062085,\n  20.27202417233726,\n  17.852865597088535,\n  15.921246143942389,\n  14.370497373102248,\n  13.079680717918869,\n  12.004860260641934,\n  11.07642971945047,\n  10.282900486743983,\n  9.589174543874528,\n  9.003942217338993,\n  8.461505078301457,\n  7.989221820384443,\n  7.584700522321664,\n  7.16901682358213,\n  6.792572789583008,\n  6.458432439737596,\n  6.1643119056891855,\n  5.90107330132417,\n  5.632355140338759,\n  5.424478125688879,\n  5.207374080254264,\n  5.016782230271956,\n  4.807732663153205,\n  4.621179448615171,\n  4.4506523384284336,\n  4.2830793579502675,\n  4.118133233207095,\n  3.9795389070273717,\n  3.8318184433153446,\n  3.6955888481982155,\n  3.5614828420507205,\n  3.4385547517386703,\n  3.318336927581826,\n  3.2100869776830314,\n  3.096925087516663,\n  2.9893595225226686,\n  2.888910945096934,\n  2.793641495915277,\n  2.6985935345878107,\n  2.617970070814546,\n  2.5205590530078803,\n  2.439245835576983,\n  2.362451559640055,\n  2.303215899834774,\n  2.2168812025949194,\n  2.1429032136260444,\n  2.0772316353198192,\n  2.0083506501913946,\n  1.9479984782434483,\n  1.8899546672736776,\n  1.8300573403050397,\n  1.7721733298205018,\n  1.7097674613382918,\n  1.6548619828236544,\n  1.6059284135231284,\n  1.545288520012787,\n  1.5031755366351254,\n  1.460292033427294,\n  1.4091597201572548,\n  1.3676867143233458,\n  1.3438728555485653,\n  1.28937934935321,\n  1.2466874396841066,\n  1.2149786741269057,\n  1.1762311931973175,\n  1.1352863525786334,\n  1.1166097312788434,\n  1.0738134019567331,\n  1.0508528224916016,\n  1.0195735931302419,\n  0.9987313287580727,\n  0.9594180121410436,\n  0.942765689656785,\n  0.9091177464410963,\n  0.8843791575003348,\n  0.8679824879285947,\n  0.844347889021273,\n  0.8195282808530306,\n  0.798274092336329,\n  0.7784311889698201,\n  0.7610371083563603,\n  0.7504653345435461,\n  0.7306215126764396,\n  0.7049829676117308,\n  0.6867754609924945,\n  0.6759243611013145,\n  0.6588689205110916,\n  0.6402880122230566,\n  0.6249549666238462,\n  0.6072310644423365,\n  0.596487610748821,\n  0.5778957031699102,\n  0.5697853575846594,\n  0.5627469358038361,\n  0.5518745150740038,\n  0.5259466118282531,\n  0.5159067121187889,\n  0.5045343737777835,\n  0.4938890558816612,\n  0.48861520637926736,\n  0.483591665354104,\n  0.4612762461704844,\n  0.4574953128484301,\n  0.4514056633405765,\n  0.4326972309288487,\n  0.42980599063105135,\n  0.4228118981733991,\n  0.41411724512162335,\n  0.41042800392525947,\n  0.3977595426030745,\n  0.38901775046027803,\n  0.3831559217889454,\n  0.3835342170588525,\n  0.36825897538466307,\n  0.36252679497556267,\n  0.35255962723087164,\n  0.3497371708489916,\n  0.3401768252155828,\n  0.33384661130806353,\n  0.33167889358943375,\n  0.33314474151799534,\n  0.33540689694760023,\n  0.33602067344629083,\n  0.31839379221506653,\n  0.3088227112006475,\n  0.30307909379409353,\n  0.29757781313546006,\n  0.29052834419844137,\n  0.2886450948969653,\n  0.28291200495314556,\n  0.2756588355440338,\n  0.2713811910440437,\n  0.27009481892440473,\n  0.26524333559819535,\n  0.26257735610117805,\n  0.25994673441877053,\n  0.25724973097648224,\n  0.25258349124346763,\n  0.2474553514669422,\n  0.24340040086032025,\n  0.23966328368528492,\n  0.23707015330220427,\n  0.2348694568267112,\n  0.23550568478578768,\n  0.23607207488846962,\n  0.23444441048585832,\n  0.22777512604850841,\n  0.22351663298577631,\n  0.22030822885663207,\n  0.21441343622929954,\n  0.21579257870011861,\n  0.20953561321605266,\n  0.20872118506821208,\n  0.20863655714581308,\n  0.20464013248130758,\n  0.20290676591794668,\n  0.1981333287843675,\n  0.19795493435314396,\n  0.19655203052595144,\n  0.19463927600988268,\n  0.19258749739264475,\n  0.1907816480174454,\n  0.19020685097825113,\n  0.1859212900144443,\n  0.1838985982671335,\n  0.18159636978487276,\n  0.17950139112055322,\n  0.17903892712228456,\n  0.17805799468202657,\n  0.1785061979717257,\n  0.17669230542112982,\n  0.17301300422138596,\n  0.1743128183499645,\n  0.17214508268333778,\n  0.1720649230866389,\n  0.1761228013315808,\n  0.16741738008079643,\n  0.16564059045478213,\n  0.16506276003395426,\n  0.16253242618874275,\n  0.16272451085660172,\n  0.1620159467456488,\n  0.169328369137887,\n  0.16155789888771724,\n  0.15873227781535465,\n  0.15672235733185907,\n  0.15476755843191975,\n  0.15534120075462832,\n  0.1542786903602765,\n  0.1530132559116606,\n  0.1527165916588825,\n  0.1512389770849105,\n  0.14973503889852446,\n  0.15526779615201838,\n  0.15059322122896546,\n  0.14972539549712083,\n  0.14650498586075075,\n  0.1473618124557688,\n  0.14656614573997223,\n  0.1452748640259118,\n  0.14373555696699605,\n  0.1417908460524134,\n  0.1430083500859501,\n  0.14342525786529142,\n  0.14257057017448663,\n  0.14201968012613586,\n  0.14106385614265504,\n  0.1434826150100506,\n  0.13888485706061346,\n  0.14361896686949804,\n  0.13819978886088224,\n  0.13935544694811552,\n  0.13649439838968938,\n  0.13636737270918822,\n  0.1339510123289877,\n  0.1333704344336415,\n  0.13439903062138844,\n  0.13334329027554337,\n  0.13493659804638622,\n  0.13345059820033073,\n  0.13608994739707264,\n  0.13277362087614877,\n  0.13170230884933237,\n  0.1323482941728583,\n  0.13005092622292747,\n  0.13031355345813744,\n  0.12969020274948231,\n  0.1277473104624847,\n  0.1300992000172611,\n  0.1290461894946992,\n  0.1284360116340244,\n  0.12964054890822768,\n  0.12699723691376807,\n  0.12621722710382563,\n  0.12629218548846652,\n  0.13040851471576423,\n  0.13024791610663672,\n  0.13118015590412246,\n  0.12596281829910788,\n  0.1286200931588927,\n  0.12451555558466174,\n  0.12364043768587034,\n  0.12494802813732055,\n  0.12323215145833685,\n  0.12272988304629974,\n  0.12350506858998885,\n  0.12426542784762458,\n  0.1212718311682575,\n  0.12141095933838404,\n  0.12168873155120563,\n  0.12112481367094409,\n  0.11981500342744492,\n  0.12180204445774494,\n  0.12040604127062496,\n  0.12123909147079429,\n  0.1209697256180111,\n  0.12144557320644415,\n  0.11899136890204232,\n  0.12096109032476556,\n  0.12443302874010367,\n  0.1199023818466347,\n  0.12053287919194108,\n  0.11847614220816674,\n  0.11860378865626167,\n  0.11886859754390544,\n  0.11815103148180953,\n  0.11714162474226644,\n  0.11726390290050095,\n  0.11691266034877522,\n  0.11782755380024662,\n  0.11712382497975078,\n  0.11575438149496607,\n  0.11790829409980413,\n  0.11633849316418644,\n  0.11935443578314035,\n  0.11742386030333953,\n  0.11621933753478277,\n  0.11557497267419206,\n  0.11617986496747208,\n  0.11510337296369584,\n  0.11519383229086223,\n  0.11549245042073834,\n  0.11550061872951495,\n  0.11583536151543175,\n  0.11459421263204253,\n  0.11661881780943528,\n  0.11443019764198797,\n  0.11375674488291604,\n  0.11369883210612408,\n  0.11446485280976453,\n  0.11383855549394616,\n  0.11357136939441168,\n  0.11247195302073955,\n  0.1136838506772985,\n  0.11328776981125205,\n  0.1119201918427226,\n  0.11377785241093658,\n  0.11325989379884353,\n  0.11234271053096534,\n  0.11327898439921259,\n  0.11188574742345427,\n  0.11297191918253575,\n  0.11567263818930087,\n  0.11645006907618828,\n  0.11296980073903934,\n  0.11163434667293516,\n  0.11042599662385263,\n  0.11368508822473913,\n  0.11237916724197132,\n  0.11280649842963222,\n  0.11110908127818357,\n  0.11128618858392397,\n  0.11131087939424893,\n  0.11091869092971014,\n  0.11199752024399903,\n  0.11339572798258167,\n  0.1111111585375692,\n  0.11112017487940334,\n  0.11034436873397321,\n  0.11149499078832142,\n  0.11045216457309752,\n  0.11129880590654274,\n  0.11075984778232022,\n  0.11036135824088164,\n  0.11118238290727978,\n  0.10941001422856307,\n  0.10984241897497127,\n  0.10922589481438735,\n  0.10824221630950827,\n  0.11165628209998744,\n  0.10918826907338583,\n  0.10727197210222458,\n  0.1088775406815509,\n  0.11218111812590685,\n  0.10775789599626778,\n  0.10932768551287657,\n  0.10928516793508249,\n  0.10893050968376343,\n  0.11031748563793439,\n  0.107562767062598,\n  0.10761042161796201,\n  0.10729996142336629,\n  0.10924202068613112,\n  0.10715760330091371,\n  0.10610727802496416,\n  0.10709789181796228,\n  0.1065764485789345,\n  0.10695859113693958,\n  0.10750069160926583,\n  0.10883893151315281,\n  0.10609533063828305,\n  0.10587182318571844,\n  0.10671001140494663,\n  0.10659761714951271,\n  0.10634374734316511,\n  0.10664902199210326,\n  0.10672996505439387,\n  0.1104780097752502,\n  0.10790907455470501,\n  0.1058586472650216,\n  0.10638894033180453,\n  0.10633173082520256,\n  0.1056084134503321,\n  0.10699317770304721,\n  0.10567053306010779,\n  0.10542673478876793,\n  0.10769478850725857,\n  0.11041111535433261,\n  0.10461913160494613,\n  0.10479426429480292,\n  0.10631473302236998,\n  0.10471470471130721,\n  0.10590839459631977,\n  0.10450173775552749,\n  0.10399650879903127,\n  0.10458155319157002,\n  0.1045007113381424,\n  0.10643841273694177,\n  0.1068964064268774,\n  0.10370811164453748,\n  0.10349849422391443,\n  0.1042642079807604,\n  0.10452858663448883,\n  0.10378254231274392,\n  0.10358552239729302,\n  0.10510586662952924,\n  0.10368500370776468,\n  0.10235285837858868,\n  0.10380705065138914,\n  0.10456476026037924,\n  0.10200559561159521,\n  0.10294868682508401,\n  0.10467635621436715,\n  0.10525677513909328,\n  0.1019740454965985,\n  0.1028713607238003,\n  0.10235559101362468,\n  0.10340506459296421,\n  0.10243010752359233,\n  0.10249680447527518,\n  0.10244887308828474,\n  0.10417866269138411,\n  0.10216663132172071,\n  0.10314297279432032,\n  0.10248265875448437,\n  0.10188118527032045,\n  0.10159499845781084,\n  0.10211976022139249,\n  0.10272782324679379,\n  0.10374529110846786,\n  0.10299325507349803,\n  0.10176653521908548,\n  0.1019252683348317,\n  0.10238589322096558,\n  0.10157324830269991,\n  0.10238047104109838,\n  0.10201514971385374,\n  0.10086820493936481,\n  0.10285599115765985,\n  0.10158024358581495,\n  0.10430393997440648,\n  0.10313789404472953,\n  0.1000585052201748,\n  0.1010555992823049,\n  0.10091359201292133,\n  0.09986538352895744,\n  0.10082728295891533,\n  0.10063978375219416,\n  0.10033475647379651,\n  0.10090723439765488,\n  0.10007764115008261,\n  0.10080936043407387,\n  0.09960373078338557,\n  0.10138062018905161,\n  0.10022047606917725,\n  0.10068888955539271,\n  0.10168582335752326,\n  0.10267669003555761,\n  0.10094230272070048,\n  0.10022789708098681,\n  0.10029717065895215,\n  0.10069201000818592,\n  0.09914932786758526,\n  0.10025762845434424,\n  0.10017386111770633,\n  0.10006884904193561,\n  0.10004122742278074,\n  0.0990537108624911,\n  0.10170380000347021,\n  0.10025908982174568,\n  0.1000542248508854,\n  0.09906310520941379,\n  0.09924096938070907,\n  0.10051531564265467,\n  0.09991201153916905,\n  0.100389598486147,\n  0.10153786780444474,\n  0.10084743356171282,\n  0.09915543889960002,\n  0.09975734905586806,\n  0.09870884018288086,\n  0.09948313565489661,\n  0.0982476383137539,\n  0.09842178694426289,\n  0.098100780400236,\n  0.09846532922877066,\n  0.09954530517789545,\n  0.09878648765454327,\n  0.09903881540941327,\n  0.10106951161503097,\n  0.10273193036779647,\n  0.10016496914772931,\n  0.10067440128852638,\n  0.09946976195160614,\n  0.09889214399705812,\n  0.0980996367681621,\n  0.09936933239866463,\n  0.09856835801251419,\n  0.09822795180988018,\n  0.09757104102896318,\n  0.09789913858295335,\n  0.09870665078214765,\n  0.09907599423892165,\n  0.09984692274362178,\n  0.09862628874241348,\n  0.09790633344617165,\n  0.09782515252372172,\n  0.09810847016647294,\n  0.09844044171382235,\n  0.09767484284911218,\n  0.09981994711238949,\n  0.09703343963654351,\n  0.09740989754641793,\n  0.10028185453630549,\n  0.10050997971198448,\n  0.10061837922283831,\n  0.09866882373366694,\n  0.09870840288637071,\n  0.09684578586093891,\n  0.09643106067778931,\n  0.09754553702032832,\n  0.09731447716213693,\n  0.09661710809720984,\n  0.09743479785104435,\n  0.09738931283003935,\n  0.09761009207957194,\n  0.09819717385678949,\n  0.09819368289001965,\n  0.0978913971442746,\n  0.09687388044726503,\n  0.0965954427986229,\n  0.09706815461967912,\n  0.09676711012852805,\n  0.09970024428914835,\n  0.09651353507288424,\n  0.09630609439879788,\n  0.09590801761764714,\n  0.09960272138291838,\n  0.09789726280646657,\n  0.09666977725501391,\n  0.0970761561396737,\n  0.09685918543419335,\n  0.09830670221370202,\n  0.09652500534065714,\n  0.09648722644289957,\n  0.09849946180020454,\n  0.09701582783478781,\n  0.09659284784950453,\n  0.09569189126364433,\n  0.0957049630213887,\n  0.09788597800058793,\n  0.09637915915383077,\n  0.09614938819410856,\n  0.09545718033329019,\n  0.09605572336775148,\n  0.09540208594538313,\n  0.09599290633004352,\n  0.09588556627715138,\n  0.09701541618118222,\n  0.09740180251233105,\n  0.09716644040909533,\n  0.0959063010823967,\n  0.09642118885373334,\n  0.0975433359451061,\n  0.09715415027103828,\n  0.09948943952282104,\n  0.09661631719478106,\n  0.09663188275153167,\n  0.09565106017767794,\n  0.09552689171000904,\n  0.09485600191744253,\n  0.09543306700095444,\n  0.09519674880520047,\n  0.09566137827815491,\n  0.09534028926500857,\n  0.09585338490181568,\n  0.09619416509329436,\n  0.09457777487275432,\n  0.0953053264177184,\n  0.09596050709927037,\n  0.09571968809169766,\n  0.09700625490871595,\n  0.09630943892126158,\n  0.09553367268062832,\n  0.09607992056708485,\n  0.09474175844418829,\n  0.09501389489493242,\n  0.09551720752901943,\n  0.09539553241091446,\n  0.09549081801218749,\n  0.09559051140903777,\n  0.0951713089791745,\n  0.09436934762160881,\n  0.09523798287844079,\n  0.09423118801942262,\n  0.09476277619025823,\n  0.09513325690745077,\n  0.09433961191052719,\n  0.09477858832883844,\n  0.094681469106987,\n  0.09511831548570454,\n  0.09507388697065589,\n  0.09609949272648574,\n  0.09565772996939904,\n  0.09440778816564968,\n  0.09488878359530988,\n  0.0942741480959189,\n  0.09528550477807352,\n  0.09398966973312169,\n  0.09398852815086493,\n  0.09425947043481452,\n  0.09325515833256136,\n  0.09429454368162751,\n  0.09360477260830889,\n  0.09426836251813152,\n  0.09406648279075162,\n  0.10172667911537651,\n  0.09564471257306287,\n  0.09730241454632399,\n  0.09361372810288973,\n  0.09303206560403976,\n  0.09366051454763974,\n  0.09571864422710778,\n  0.09391665585028293,\n  0.09384782119760543,\n  0.09387102319224645,\n  0.09358298656387233,\n  0.09412493385780539,\n  0.09431794740770798,\n  0.09497276477502882,\n  0.09366933931603735,\n  0.0937612671849845,\n  0.09298686487653243,\n  0.09398553026644872,\n  0.09341957818420334,\n  0.09346809628504238,\n  0.09403973970176381,\n  0.09313321332139464,\n  0.09303537449116754,\n  0.09328539399988453,\n  0.09459335473051086,\n  0.09365089805692431,\n  0.09301871144358943,\n  0.09314279009662034,\n  0.09360310364167272,\n  0.09271492955230229,\n  0.09497190886892327,\n  0.0933558794116204,\n  0.09384910763538862,\n  0.09433764231232261,\n  0.09345665731336417,\n  0.0930717284654575,\n  0.0930343948158594,\n  0.09308422040045607,\n  0.09332821926435536,\n  0.09295993213672307,\n  0.09295027710152966,\n  0.09301918705216713,\n  0.09297588696957144,\n  0.09245201590110545,\n  0.09413508443745541,\n  0.09326576516319261,\n  0.09289488409985067,\n  0.09208585986824314,\n  0.09187528812510998,\n  0.09176166120519877,\n  0.09283497713505509,\n  0.09358536671506103,\n  0.09372984168083122,\n  0.09424483533522282,\n  0.0934800127126118,\n  0.0927748730950637,\n  0.09226990089099836,\n  0.09245013327665605,\n  0.0933490453154354,\n  0.09296121439098605,\n  0.09240804801126047,\n  0.09202676961471591,\n  0.09159620247457942,\n  0.09172200131301843,\n  0.09376352225582638,\n  0.09271582125816785,\n  0.09177416317435717,\n  0.09128254291934898,\n  0.09234737745025962,\n  0.09295962342520936,\n  0.09235507245768905,\n  0.09242453750055786,\n  0.09210733635607483,\n  0.09190077630523424,\n  0.09213566331751033,\n  0.09281412653049147,\n  0.09241177233629795,\n  0.09199455761036288,\n  0.09181293240106807,\n  0.09209733582873905,\n  0.0912625896099186,\n  0.09123711618417946,\n  0.09198214424286834,\n  0.09259324884284835,\n  0.0928758645150844,\n  0.09174163987710508,\n  0.09225452549417287,\n  0.09284241229480084,\n  0.0917128492118516,\n  0.09187731296519401,\n  0.09158762565917401,\n  0.09065638379721726,\n  0.0920412241765365,\n  0.09233314358116029,\n  0.09133464138323037,\n  0.09099720036751285,\n  0.09133078186119298,\n  0.09088251108231528,\n  0.09154821349248464,\n  0.09150968662866371,\n  0.09325918898976793,\n  0.09107515091801666,\n  0.09086104551517589,\n  0.09133343706567525,\n  0.09112308860244016,\n  0.09107290031416752,\n  0.09095763254817323,\n  0.09164959773318673,\n  0.09032582994786953,\n  0.09024224983996047,\n  0.0935820156585724,\n  0.09144598598025126,\n  0.09245622724298166,\n  0.09153998056195037,\n  0.09117175442927161,\n  0.09103266781146149,\n  0.09123021750561068,\n  0.09094156808015712,\n  0.09168317629094346,\n  0.09062381138871206,\n  0.09043389852734829,\n  0.09054836931152176,\n  0.09263233822284463,\n  0.09034203205095853,\n  0.09139659430048573,\n  0.09043487071192338,\n  0.09082063666110811,\n  0.09087511115482061,\n  0.09096153595455003,\n  0.09081470476450837,\n  0.09187321930337643,\n  0.09030186044081898,\n  0.09163197114064162,\n  0.0904981533788911,\n  0.09093574669797738,\n  0.09091235662605485,\n  0.09039902082676438,\n  0.0923081248345415,\n  0.09179700157431256,\n  0.09169358594171384,\n  0.08985259968729827,\n  0.09123273818032158,\n  0.09021950122752188,\n  0.09070560709261118,\n  0.09023061172057263,\n  0.09007508154510822,\n  0.09080920076787546,\n  0.09055367590181357,\n  0.09129893265375971,\n  0.09170253753969188,\n  0.09023932008122097,\n  0.09205737156840219,\n  0.09343704549059245,\n  0.09003145253043426,\n  0.0894123744274316,\n  0.09075824333199253,\n  0.08964651140332337,\n  0.09087280739729728,\n  0.09013654420490087,\n  0.09098773231971266,\n  0.08948796778949086,\n  0.09060526879135616,\n  0.08929570464018112,\n  0.08947065802724097,\n  0.08949168884376206,\n  0.09044744022927807,\n  0.08947541325456074,\n  0.09019004024288123,\n  0.08962184959112716,\n  0.0895376752795025,\n  0.09018813944381174,\n  0.08913189425528911,\n  0.08931498463753273,\n  0.08974944635393126,\n  0.09154764532242252,\n  0.09065704535470104,\n  0.09025956633612901,\n  0.08937118757810361,\n  0.08987289796846155,\n  0.08988378384941202,\n  0.09091537862819381,\n  0.0895599945712386,\n  0.08977972357687525,\n  0.09070573777151753,\n  0.08954587271451923,\n  0.08954105716857962,\n  0.0891397705453772,\n  0.08937913735715357,\n  0.09018463818938142,\n  0.090358023097406,\n  0.09041131976884569,\n  0.08877912982779922,\n  0.08953946473045186,\n  0.09011585457704269,\n  0.09040041065283441,\n  0.09071392380301156,\n  0.08948009515086335,\n  0.08925198591144619,\n  0.09111475232192555,\n  0.0900888616190977,\n  0.08963065118573056,\n  0.09084830783243161,\n  0.08914198067326481,\n  0.09144173591964491,\n  0.09245364485009458,\n  0.09074262360973699,\n  0.0895464992949288,\n  0.0891323741357901,\n  0.08944435317900246,\n  0.08875999444508988,\n  0.08884258859218482,\n  0.08882792999504588,\n  0.08858900214808807,\n  0.0884230032102157,\n  0.08825899186238963,\n  0.08830871093993022,\n  0.08887629468262154,\n  0.08904804150725366,\n  0.08880656874431314,\n  0.08995740814732091,\n  0.08890340500442018,\n  0.09244524324842897,\n  0.09088340254869799,\n  0.08879560868315943,\n  0.09066800818803392,\n  0.08977728115560502,\n  0.08889297359980136,\n  0.08867426985487643,\n  0.08855659249996209,\n  0.08858887903085094,\n  0.08894672245781027,\n  0.08928479884108288,\n  0.0900709821382384,\n  0.08948256265957039,\n  0.08925527714841856,\n  0.08917640661334024,\n  0.08875149454184138,\n  0.08820865833365467,\n  0.08908415559238601,\n  0.09193551156475495,\n  0.0899913156261511,\n  0.08839394642082024,\n  0.0892386468402763,\n  0.0891503224700204,\n  0.08855079783598203,\n  0.0916695783659299,\n  0.08895582489813748,\n  0.08992715463092348,\n  0.08875419914539168,\n  0.0885732841405718,\n  0.08776464623545412,\n  0.08821094909804067,\n  0.08852145442610533,\n  0.08829249091212613,\n  0.08938757524535383,\n  0.08982407654752826,\n  0.09044338078724998,\n  0.08871305092945428,\n  0.08847425048352689,\n  0.08899487147458504,\n  0.08887617391723064,\n  0.08892221136427779,\n  0.0895634698093664,\n  0.08831877743998336,\n  0.08919082775166431,\n  0.08823455848591208,\n  0.08852459362751584,\n  0.0880208341901978,\n  0.08744455257719451,\n  0.08817451411822654,\n  0.0897353556043213,\n  0.09108000163052928,\n  0.08858177252023774,\n  0.08896096603639495,\n  0.08884956133969951,\n  0.09080928640230782,\n  0.09051484319335658,\n  0.08908785238659603,\n  0.0885419255045684,\n  0.08813990632000276,\n  0.08777922206030585,\n  0.08797084013685244,\n  0.08788790996989362,\n  0.08755616743346627,\n  0.08866866627795732,\n  0.08762720250394283,\n  0.08833300732734335,\n  0.0878181913888363,\n  0.088507900588034,\n  0.08746760516684762,\n  0.08754627049880342,\n  0.08795835106252498,\n  0.0875213883198744,\n  0.08800073192901872,\n  0.08756524827708088,\n  0.08835885925638538,\n  0.08791996078198779,\n  0.08863023135396601,\n  0.08816136918148726,\n  0.08839513795864225,\n  0.08971643861288418,\n  0.08854880184702195,\n  0.08791279933142414,\n  0.08805901853134306,\n  0.08771827404757317,\n  0.08703017592416665,\n  0.08765840080953163,\n  0.0877019533363643,\n  0.08739520449634879,\n  0.08909502719844613,\n  0.08774858815812935,\n  0.08757586530243168,\n  0.08950653620287397,\n  0.08789686722609527,\n  0.08827970998740092,\n  0.08826646171495381,\n  0.0882092171544167,\n  0.08767494126333428,\n  0.08793268554781182,\n  0.08821733375070967,\n  0.08819590171111023,\n  0.08779096409749698,\n  0.08752607089944804,\n  0.08723275241728165,\n  0.08780308670213854,\n  0.08790114751619381,\n  0.08775410422243542,\n  0.08908169290605607,\n  0.08911173524317507,\n  0.08757608909018431,\n  0.08756730967394237,\n  0.08776980749202976,\n  0.08820917567695008,\n  0.08859440933538093,\n  0.08978970326535074,\n  0.08840252163895518,\n  0.08846082142743192,\n  0.08773527939337017,\n  0.08773012401748019,\n  0.08690748507716342,\n  0.08733769273392465,\n  0.08699997830772718,\n  0.08769975310851894,\n  0.08961877242025695,\n  0.08840900387502387,\n  0.08913308405313676,\n  0.08718598814607256,\n  0.0883373575690601,\n  0.08673213992501361,\n  0.08711476141318412,\n  0.08682318521638191,\n  0.08772528382760297,\n  0.08777733716738338,\n  0.08657610630675275,\n  0.08777995004719259,\n  0.08722658554368592,\n  0.0869708784317144,\n  0.08670173686395448,\n  0.08676286771793837,\n  0.08711907384116178,\n  0.08682776422859949,\n  0.08701135246163413,\n  0.08761671657999787,\n  0.0873701832842549,\n  0.08695466850907159,\n  0.08699209487830713,\n  0.0872123280702457,\n  0.08689097743400379,\n  0.08794841087088198,\n  0.08704842217010013,\n  0.08676635270077737,\n  0.08724142603569213,\n  0.08653754787104317,\n  0.08713263596341046,\n  0.08711747503069547,\n  0.08819183423752384,\n  0.08820893436043556,\n  0.08756192565766206,\n  0.09034476273763542,\n  0.08826774130419165,\n  0.08717721564051108,\n  0.08639671492330933,\n  0.08687491498203258,\n  0.08715111350479383,\n  0.08731615551676279,\n  0.08686959988786451,\n  0.08742034985545126,\n  0.08625055185203075,\n  0.08711522225433108,\n  0.0865907349342746,\n  0.08687751762145844,\n  0.08663706278664494,\n  0.08687977514101633,\n  0.08658846705640923,\n  0.08684106481734741,\n  0.08706241661944769,\n  0.08736315176750042,\n  0.0868492986117661,\n  0.08667643556362109,\n  ...],\n [])"
     },
     "execution_count": 29,
     "metadata": {},
     "output_type": "execute_result"
    }
   ],
   "source": [
    "fc1 = FC(8, 64, \"layer1\")\n",
    "fc2 = FC(64, 32, \"layer2\")\n",
    "fc3 = FC(32, 1, \"layer3\")\n",
    "relu1 = ReLU()\n",
    "relu2 = ReLU()\n",
    "linear1 = LinearActivation()\n",
    "arch = {\"layer1\" : fc1,\n",
    "        \"activation1\" : relu1,\n",
    "        \"layer2\" : fc2,\n",
    "        \"activation2\" : relu2,\n",
    "        \"layer3\" : fc3,\n",
    "        \"activation3\" : linear1\n",
    "        }\n",
    "criterion = MeanSquaredError()\n",
    "optimizer = Adam({\"layer1\": fc1, \"layer2\" : fc2, \"layer3\" : fc3})\n",
    "model = Model(arch=arch, criterion=criterion, optimizer=optimizer)\n",
    "model.train(X_train.T, y_train.T, epochs=2000, batch_size=200, verbose=10, shuffling=True)"
   ],
   "metadata": {
    "collapsed": false,
    "ExecuteTime": {
     "end_time": "2023-06-05T15:58:23.469804Z",
     "start_time": "2023-06-05T15:51:19.420298Z"
    }
   }
  },
  {
   "cell_type": "code",
   "execution_count": 30,
   "outputs": [
    {
     "data": {
      "text/plain": "0.13468999487019973"
     },
     "execution_count": 30,
     "metadata": {},
     "output_type": "execute_result"
    }
   ],
   "source": [
    "normalized_test = pd.DataFrame(scaler.fit_transform(test_data))\n",
    "X_test = normalized_test.iloc[:,0:8].values\n",
    "y_test = normalized_test.iloc[:,8].to_frame().values.reshape(-1,1)\n",
    "y_pred = model.predict(X_test.T)\n",
    "cost = np.mean(np.square(y_pred.T - y_test)) / 2\n",
    "cost"
   ],
   "metadata": {
    "collapsed": false,
    "ExecuteTime": {
     "end_time": "2023-06-05T15:59:08.085888Z",
     "start_time": "2023-06-05T15:59:08.014938Z"
    }
   }
  },
  {
   "cell_type": "code",
   "execution_count": 31,
   "outputs": [],
   "source": [
    "model.save('task1_model')"
   ],
   "metadata": {
    "collapsed": false,
    "ExecuteTime": {
     "end_time": "2023-06-05T15:59:12.336202Z",
     "start_time": "2023-06-05T15:59:12.321175Z"
    }
   }
  }
 ],
 "metadata": {
  "kernelspec": {
   "display_name": "Python 3",
   "language": "python",
   "name": "python3"
  },
  "language_info": {
   "codemirror_mode": {
    "name": "ipython",
    "version": 2
   },
   "file_extension": ".py",
   "mimetype": "text/x-python",
   "name": "python",
   "nbconvert_exporter": "python",
   "pygments_lexer": "ipython2",
   "version": "2.7.6"
  }
 },
 "nbformat": 4,
 "nbformat_minor": 0
}
